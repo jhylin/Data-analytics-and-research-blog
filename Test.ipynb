{
  "cells": [
    {
      "cell_type": "raw",
      "metadata": {},
      "source": [
        "---\n",
        "title: Test\n",
        "author: Jennifer HY Lin\n",
        "date: 2022-5-20\n",
        "format:\n",
        "  html:\n",
        "    code-fold: true\n",
        "keep-ipynb: true\n",
        "categories:\n",
        "  - Data analytics projects\n",
        "  - R\n",
        "  - Python\n",
        "  - Long COVID\n",
        "---"
      ],
      "id": "fa5c89db"
    },
    {
      "cell_type": "code",
      "metadata": {},
      "source": [
        "pip install polars"
      ],
      "id": "93f3bd3b",
      "execution_count": null,
      "outputs": []
    },
    {
      "cell_type": "code",
      "metadata": {},
      "source": [
        "import polars as pl\n",
        "\n",
        "df = pl.read_csv(\"https://j.mp/iriscsv\")\n",
        "print(df.filter(pl.col(\"sepal_length\") > 5)\n",
        "      .groupby(\"species\")\n",
        "      .agg(pl.all().sum())\n",
        ")"
      ],
      "id": "b5c73dce",
      "execution_count": null,
      "outputs": []
    }
  ],
  "metadata": {
    "kernelspec": {
      "name": "python3",
      "language": "python",
      "display_name": "Python 3 (ipykernel)"
    }
  },
  "nbformat": 4,
  "nbformat_minor": 5
}