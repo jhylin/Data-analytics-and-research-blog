{
 "cells": [
  {
   "cell_type": "raw",
   "id": "d34e52e7",
   "metadata": {},
   "source": [
    "---\n",
    "title: Small molecules in ChEMBL database\n",
    "subtitle: Cross-validation & hyper-parameter tuning with *scikit-learn*\n",
    "author: Jennifer HY Lin\n",
    "date: 2023-3-7\n",
    "draft: false\n",
    "categories:\n",
    "  - Machine learning projects\n",
    "  - Scikit-learn\n",
    "  - Python\n",
    "  - ChEMBL database\n",
    "  - Cheminformatics\n",
    "---"
   ]
  },
  {
   "cell_type": "markdown",
   "id": "7b832672",
   "metadata": {},
   "source": [
    "##### ***Machine learning in drug discovery - series 1-2***\n",
    "\n",
    "<br>\n",
    "\n",
    "##### **Introduction**\n",
    "\n",
    "This work was really a continuation of the first machine learning (ML) in drug discovery series, \"Small molecules in ChEMBL database - Polars dataframe library and machine learning in *scikit-learn*\" (referred to as ML series 1 from here onwards). In particular, I wanted to work on the logistics regression (LR) model, and look into other strategies that I could use to improve it. Last time, I used LogisticRegression() method on the df_ml dataframe (df_ml_pd was the actual dataframe name used in ML series 1, to denote a conversion from a Polars to Pandas dataframe). I've not changed any parameters for the LR estimator, which meant everything was kept at default settings. Overall, this was an example of a default prototype of a LR classifer, which most likely would be too simplistic and not really reflecting real-world equivalents, but it sort of helped me to think in terms of a LR and ML context.\n",
    "\n",
    "This time, with a goal of trying to improve the model, I've planned to use cross-validation and hyper-parameter tuning at least to evaluate the estimator performance. It was also worth evaluating whether LR was the best ML approach for the df_ml dataset, which would likely need to be kept as a separate post to avoid another lengthy read. I also, on the other hand, have had an idea in mind of doing a ML series 3 looking at re-training the model and a final evaluation, which would keep me busy in the coming weeks.\n",
    "\n",
    "::: callout-note\n",
    "In *scikit-learn*, an estimator is alluding to the variety of ML approaches (as one of my interpretations), which are usually grouped into classification (e.g. naive Bayes, logistic regression), regression (e.g. support vector regression), clustering (e.g. K-means clustering) and dimensionality reduction (e.g. principal component analysis). A useful guide to help with choosing the right estimator can be found [here](https://scikit-learn.org/stable/tutorial/machine_learning_map/index.html). For a full definition of what an estimator is, refer to this [link](https://scikit-learn.org/stable/glossary.html#term-estimator).\n",
    ":::\n",
    "\n",
    "<br>\n",
    "\n",
    "###### **Machine learning series - overall plan**\n",
    "\n",
    "The overall plan for the ML series for small molecules in ChEMBL database could be visualised through the following flow chart, which was adapted and modified from the section on [cross-validation in *scikit-learn*](https://scikit-learn.org/stable/modules/cross_validation.html#cross-validation). This current post was targeting the ML series 2 subgraph area.\n",
    "\n",
    "\n",
    "```{mermaid}\n",
    "%%{ init: { 'flowchart': { 'curve': 'monotoneY' } } }%%\n",
    "flowchart TB\n",
    "  subgraph ML series 1\n",
    "  A[Cleaned dataset] --> B(Train data)\n",
    "  A --> C(Test data)\n",
    "  end\n",
    "  subgraph ML series 3\n",
    "  B --> D(Re-train model)\n",
    "  C --> E[Final evaluation]\n",
    "  D --> E\n",
    "  end\n",
    "  subgraph ML series 2\n",
    "  B --> G([Cross validation & hyper-parameter tuning])\n",
    "  G --> H([Best parameters])\n",
    "  F([Parameters]) --> G\n",
    "  H --> D\n",
    "  end\n",
    "```\n",
    "\n",
    "\n",
    "<br>\n",
    "\n",
    "##### **Import dataframe from ML series 1**\n",
    "\n",
    "Since *scikit-learn* mainly supports Pandas dataframes for ML, I've opted to use Pandas instead of Polars dataframe library this time, to avoid the extra step of converting a Polars dataframe into a Pandas one.\n"
   ]
  },
  {
   "cell_type": "code",
   "execution_count": 1,
   "id": "3fde5a01",
   "metadata": {},
   "outputs": [],
   "source": [
    "import pandas as pd"
   ]
  },
  {
   "cell_type": "markdown",
   "id": "dfe5149a",
   "metadata": {},
   "source": [
    "I've exported the final dataframe from ML series 1 as a .csv file, so that we could continue on this ML series and work on the LR model further. For this ML series 2, the .csv file was imported as shown below.\n"
   ]
  },
  {
   "cell_type": "code",
   "execution_count": 2,
   "id": "533bb7f8",
   "metadata": {},
   "outputs": [
    {
     "data": {
      "text/html": [
       "<div>\n",
       "<style scoped>\n",
       "    .dataframe tbody tr th:only-of-type {\n",
       "        vertical-align: middle;\n",
       "    }\n",
       "\n",
       "    .dataframe tbody tr th {\n",
       "        vertical-align: top;\n",
       "    }\n",
       "\n",
       "    .dataframe thead th {\n",
       "        text-align: right;\n",
       "    }\n",
       "</style>\n",
       "<table border=\"1\" class=\"dataframe\">\n",
       "  <thead>\n",
       "    <tr style=\"text-align: right;\">\n",
       "      <th></th>\n",
       "      <th>Max_Phase</th>\n",
       "      <th>#RO5 Violations</th>\n",
       "      <th>QED Weighted</th>\n",
       "      <th>CX LogP</th>\n",
       "      <th>CX LogD</th>\n",
       "      <th>Heavy Atoms</th>\n",
       "    </tr>\n",
       "  </thead>\n",
       "  <tbody>\n",
       "    <tr>\n",
       "      <th>0</th>\n",
       "      <td>0</td>\n",
       "      <td>0</td>\n",
       "      <td>0.91</td>\n",
       "      <td>2.05</td>\n",
       "      <td>0.62</td>\n",
       "      <td>21</td>\n",
       "    </tr>\n",
       "    <tr>\n",
       "      <th>1</th>\n",
       "      <td>0</td>\n",
       "      <td>2</td>\n",
       "      <td>0.16</td>\n",
       "      <td>1.51</td>\n",
       "      <td>-0.41</td>\n",
       "      <td>48</td>\n",
       "    </tr>\n",
       "    <tr>\n",
       "      <th>2</th>\n",
       "      <td>0</td>\n",
       "      <td>2</td>\n",
       "      <td>0.20</td>\n",
       "      <td>5.05</td>\n",
       "      <td>3.27</td>\n",
       "      <td>46</td>\n",
       "    </tr>\n",
       "    <tr>\n",
       "      <th>3</th>\n",
       "      <td>0</td>\n",
       "      <td>0</td>\n",
       "      <td>0.53</td>\n",
       "      <td>3.21</td>\n",
       "      <td>3.21</td>\n",
       "      <td>24</td>\n",
       "    </tr>\n",
       "    <tr>\n",
       "      <th>4</th>\n",
       "      <td>0</td>\n",
       "      <td>1</td>\n",
       "      <td>0.14</td>\n",
       "      <td>2.80</td>\n",
       "      <td>2.80</td>\n",
       "      <td>37</td>\n",
       "    </tr>\n",
       "  </tbody>\n",
       "</table>\n",
       "</div>"
      ],
      "text/plain": [
       "   Max_Phase  #RO5 Violations  QED Weighted  CX LogP  CX LogD  Heavy Atoms\n",
       "0          0                0          0.91     2.05     0.62           21\n",
       "1          0                2          0.16     1.51    -0.41           48\n",
       "2          0                2          0.20     5.05     3.27           46\n",
       "3          0                0          0.53     3.21     3.21           24\n",
       "4          0                1          0.14     2.80     2.80           37"
      ]
     },
     "execution_count": 2,
     "metadata": {},
     "output_type": "execute_result"
    }
   ],
   "source": [
    "df_ml = pd.read_csv(\"df_ml.csv\")\n",
    "df_ml.head()"
   ]
  },
  {
   "cell_type": "code",
   "execution_count": 3,
   "id": "729a2e7b",
   "metadata": {},
   "outputs": [],
   "source": [
    "# Check rows and columns of the df_ml dataframe if needed\n",
    "#df_ml.shape"
   ]
  },
  {
   "cell_type": "markdown",
   "id": "4e518cb0",
   "metadata": {},
   "source": [
    "<br>\n",
    "\n",
    "##### **Import libraries for machine learning**\n"
   ]
  },
  {
   "cell_type": "code",
   "execution_count": 4,
   "id": "738fe092",
   "metadata": {},
   "outputs": [],
   "source": [
    "# Install scikit-learn - an open-source ML library\n",
    "# Uncomment the line below if needing to install this library\n",
    "#!pip install -U scikit-learn"
   ]
  },
  {
   "cell_type": "code",
   "execution_count": 5,
   "id": "5c7de6b7",
   "metadata": {},
   "outputs": [
    {
     "name": "stdout",
     "output_type": "stream",
     "text": [
      "1.3.0\n"
     ]
    }
   ],
   "source": [
    "# Import scikit-learn\n",
    "import sklearn\n",
    "\n",
    "# Check version of scikit-learn \n",
    "print(sklearn.__version__)"
   ]
  },
  {
   "cell_type": "markdown",
   "id": "52445f62",
   "metadata": {},
   "source": [
    "Other libraries needed to generate ML model were imported as below.\n"
   ]
  },
  {
   "cell_type": "code",
   "execution_count": 6,
   "id": "8fff2e37",
   "metadata": {},
   "outputs": [],
   "source": [
    "# To use NumPy arrays to prepare X & y variables\n",
    "import numpy as np\n",
    "\n",
    "# To normalise dataset prior to running ML\n",
    "from sklearn import preprocessing\n",
    "# To split dataset into training & testing sets\n",
    "from sklearn.model_selection import train_test_split"
   ]
  },
  {
   "cell_type": "markdown",
   "id": "d4371282",
   "metadata": {},
   "source": [
    "<br>\n",
    "\n",
    "##### **Logistic regression**\n",
    "\n",
    "To get the LR model ready, the X and y variables were defined with the same sets of physicochemical features from the small molecules in the df_ml dataset.\n",
    "\n",
    "<br>\n",
    "\n",
    "###### **Defining X and y variables**\n"
   ]
  },
  {
   "cell_type": "code",
   "execution_count": 7,
   "id": "d796e9de",
   "metadata": {},
   "outputs": [
    {
     "data": {
      "text/plain": [
       "array([[ 0.  ,  0.91,  2.05,  0.62, 21.  ],\n",
       "       [ 2.  ,  0.16,  1.51, -0.41, 48.  ],\n",
       "       [ 2.  ,  0.2 ,  5.05,  3.27, 46.  ],\n",
       "       [ 0.  ,  0.53,  3.21,  3.21, 24.  ],\n",
       "       [ 1.  ,  0.14,  2.8 ,  2.8 , 37.  ]])"
      ]
     },
     "execution_count": 7,
     "metadata": {},
     "output_type": "execute_result"
    }
   ],
   "source": [
    "# Define X variables from df_ml dataset\n",
    "X = np.asarray(df_ml[[\"#RO5 Violations\", \n",
    "                      \"QED Weighted\", \n",
    "                      \"CX LogP\", \n",
    "                      \"CX LogD\", \n",
    "                      \"Heavy Atoms\"]]\n",
    "              )\n",
    "X[0:5]"
   ]
  },
  {
   "cell_type": "code",
   "execution_count": 8,
   "id": "288c5e33",
   "metadata": {},
   "outputs": [
    {
     "data": {
      "text/plain": [
       "array([0, 0, 0, 0, 0])"
      ]
     },
     "execution_count": 8,
     "metadata": {},
     "output_type": "execute_result"
    }
   ],
   "source": [
    "# Define y variable\n",
    "y = np.asarray(df_ml[\"Max_Phase\"])\n",
    "y[0:5]"
   ]
  },
  {
   "cell_type": "markdown",
   "id": "c202e688",
   "metadata": {},
   "source": [
    "<br>\n",
    "\n",
    "###### **Training and testing sets**\n"
   ]
  },
  {
   "cell_type": "code",
   "execution_count": 9,
   "id": "8b80dd6b",
   "metadata": {},
   "outputs": [
    {
     "name": "stdout",
     "output_type": "stream",
     "text": [
      "Training set: (1515, 5) (1515,)\n",
      "Testing set: (379, 5) (379,)\n"
     ]
    }
   ],
   "source": [
    "# Split dataset into training & testing sets\n",
    "\n",
    "# Random number generator - note: this may produce different result each time\n",
    "#rng = np.random.RandomState(0) \n",
    "\n",
    "# Edited post to use random_state = 250 \n",
    "# to be the same as ML series 1 for reproducible result\n",
    "X_train, X_test, y_train, y_test = train_test_split(X, y, test_size = 0.2, random_state = 250)\n",
    "print('Training set:', X_train.shape, y_train.shape)\n",
    "print('Testing set:', X_test.shape, y_test.shape)"
   ]
  },
  {
   "cell_type": "markdown",
   "id": "f9f74a93",
   "metadata": {},
   "source": [
    "<br>\n",
    "\n",
    "###### **Preprocessing data**\n"
   ]
  },
  {
   "cell_type": "code",
   "execution_count": 10,
   "id": "703428ec",
   "metadata": {},
   "outputs": [
    {
     "data": {
      "text/plain": [
       "array([[-0.61846489, -0.79518088,  0.57523481,  0.76170581,  0.47638078],\n",
       "       [-0.61846489, -1.24006401,  1.27389185,  1.25867492,  0.37925834],\n",
       "       [-0.61846489,  0.4949802 , -0.18352175,  0.12634023, -1.27182321],\n",
       "       [-0.61846489, -0.79518088,  0.03433905,  0.28360894, -0.68908855],\n",
       "       [-0.61846489, -0.48376269,  0.61655324,  0.79630492, -0.20347633]])"
      ]
     },
     "execution_count": 10,
     "metadata": {},
     "output_type": "execute_result"
    }
   ],
   "source": [
    "# Normalise & clean the dataset\n",
    "# Fit on the training set - not on testing set as this might lead to data leakage\n",
    "# Transform on the testing set\n",
    "X = preprocessing.StandardScaler().fit(X_train).transform(X_test)\n",
    "X[0:5]"
   ]
  },
  {
   "cell_type": "markdown",
   "id": "038b147c",
   "metadata": {},
   "source": [
    "<br>\n",
    "\n",
    "###### **Fitting LR classifier on training set**\n",
    "\n",
    "One major difference to the LR classifier this time was that cross-validation was included by using the LogisticRegressionCV model while fitting the training data.\n"
   ]
  },
  {
   "cell_type": "code",
   "execution_count": 11,
   "id": "b83faafd",
   "metadata": {},
   "outputs": [
    {
     "data": {
      "text/html": [
       "<style>#sk-container-id-1 {color: black;}#sk-container-id-1 pre{padding: 0;}#sk-container-id-1 div.sk-toggleable {background-color: white;}#sk-container-id-1 label.sk-toggleable__label {cursor: pointer;display: block;width: 100%;margin-bottom: 0;padding: 0.3em;box-sizing: border-box;text-align: center;}#sk-container-id-1 label.sk-toggleable__label-arrow:before {content: \"▸\";float: left;margin-right: 0.25em;color: #696969;}#sk-container-id-1 label.sk-toggleable__label-arrow:hover:before {color: black;}#sk-container-id-1 div.sk-estimator:hover label.sk-toggleable__label-arrow:before {color: black;}#sk-container-id-1 div.sk-toggleable__content {max-height: 0;max-width: 0;overflow: hidden;text-align: left;background-color: #f0f8ff;}#sk-container-id-1 div.sk-toggleable__content pre {margin: 0.2em;color: black;border-radius: 0.25em;background-color: #f0f8ff;}#sk-container-id-1 input.sk-toggleable__control:checked~div.sk-toggleable__content {max-height: 200px;max-width: 100%;overflow: auto;}#sk-container-id-1 input.sk-toggleable__control:checked~label.sk-toggleable__label-arrow:before {content: \"▾\";}#sk-container-id-1 div.sk-estimator input.sk-toggleable__control:checked~label.sk-toggleable__label {background-color: #d4ebff;}#sk-container-id-1 div.sk-label input.sk-toggleable__control:checked~label.sk-toggleable__label {background-color: #d4ebff;}#sk-container-id-1 input.sk-hidden--visually {border: 0;clip: rect(1px 1px 1px 1px);clip: rect(1px, 1px, 1px, 1px);height: 1px;margin: -1px;overflow: hidden;padding: 0;position: absolute;width: 1px;}#sk-container-id-1 div.sk-estimator {font-family: monospace;background-color: #f0f8ff;border: 1px dotted black;border-radius: 0.25em;box-sizing: border-box;margin-bottom: 0.5em;}#sk-container-id-1 div.sk-estimator:hover {background-color: #d4ebff;}#sk-container-id-1 div.sk-parallel-item::after {content: \"\";width: 100%;border-bottom: 1px solid gray;flex-grow: 1;}#sk-container-id-1 div.sk-label:hover label.sk-toggleable__label {background-color: #d4ebff;}#sk-container-id-1 div.sk-serial::before {content: \"\";position: absolute;border-left: 1px solid gray;box-sizing: border-box;top: 0;bottom: 0;left: 50%;z-index: 0;}#sk-container-id-1 div.sk-serial {display: flex;flex-direction: column;align-items: center;background-color: white;padding-right: 0.2em;padding-left: 0.2em;position: relative;}#sk-container-id-1 div.sk-item {position: relative;z-index: 1;}#sk-container-id-1 div.sk-parallel {display: flex;align-items: stretch;justify-content: center;background-color: white;position: relative;}#sk-container-id-1 div.sk-item::before, #sk-container-id-1 div.sk-parallel-item::before {content: \"\";position: absolute;border-left: 1px solid gray;box-sizing: border-box;top: 0;bottom: 0;left: 50%;z-index: -1;}#sk-container-id-1 div.sk-parallel-item {display: flex;flex-direction: column;z-index: 1;position: relative;background-color: white;}#sk-container-id-1 div.sk-parallel-item:first-child::after {align-self: flex-end;width: 50%;}#sk-container-id-1 div.sk-parallel-item:last-child::after {align-self: flex-start;width: 50%;}#sk-container-id-1 div.sk-parallel-item:only-child::after {width: 0;}#sk-container-id-1 div.sk-dashed-wrapped {border: 1px dashed gray;margin: 0 0.4em 0.5em 0.4em;box-sizing: border-box;padding-bottom: 0.4em;background-color: white;}#sk-container-id-1 div.sk-label label {font-family: monospace;font-weight: bold;display: inline-block;line-height: 1.2em;}#sk-container-id-1 div.sk-label-container {text-align: center;}#sk-container-id-1 div.sk-container {/* jupyter's `normalize.less` sets `[hidden] { display: none; }` but bootstrap.min.css set `[hidden] { display: none !important; }` so we also need the `!important` here to be able to override the default hidden behavior on the sphinx rendered scikit-learn.org. See: https://github.com/scikit-learn/scikit-learn/issues/21755 */display: inline-block !important;position: relative;}#sk-container-id-1 div.sk-text-repr-fallback {display: none;}</style><div id=\"sk-container-id-1\" class=\"sk-top-container\"><div class=\"sk-text-repr-fallback\"><pre>LogisticRegressionCV()</pre><b>In a Jupyter environment, please rerun this cell to show the HTML representation or trust the notebook. <br />On GitHub, the HTML representation is unable to render, please try loading this page with nbviewer.org.</b></div><div class=\"sk-container\" hidden><div class=\"sk-item\"><div class=\"sk-estimator sk-toggleable\"><input class=\"sk-toggleable__control sk-hidden--visually\" id=\"sk-estimator-id-1\" type=\"checkbox\" checked><label for=\"sk-estimator-id-1\" class=\"sk-toggleable__label sk-toggleable__label-arrow\">LogisticRegressionCV</label><div class=\"sk-toggleable__content\"><pre>LogisticRegressionCV()</pre></div></div></div></div></div>"
      ],
      "text/plain": [
       "LogisticRegressionCV()"
      ]
     },
     "execution_count": 11,
     "metadata": {},
     "output_type": "execute_result"
    }
   ],
   "source": [
    "# Import logistic regression CV estimator\n",
    "from sklearn.linear_model import LogisticRegressionCV\n",
    "\n",
    "# Change to LogisticRegressionCV() - LR with built-in cross validation\n",
    "# Create an instance of logistic regression CV classifier and fit the data\n",
    "LogR = LogisticRegressionCV().fit(X_train, y_train)\n",
    "LogR"
   ]
  },
  {
   "cell_type": "markdown",
   "id": "f1e2f015",
   "metadata": {},
   "source": [
    "<br>\n",
    "\n",
    "###### **Applying LogisticRegressionCV classifier on testing set for prediction**\n"
   ]
  },
  {
   "cell_type": "code",
   "execution_count": 12,
   "id": "4673c24e",
   "metadata": {},
   "outputs": [
    {
     "data": {
      "text/plain": [
       "array([0, 0, 1, 0, 0, 1, 0, 0, 1, 0, 1, 1, 0, 1, 1, 0, 0, 0, 0, 0, 0, 0,\n",
       "       0, 0, 1, 0, 0, 0, 1, 0, 1, 1, 0, 1, 1, 1, 0, 0, 1, 0, 0, 1, 0, 0,\n",
       "       1, 1, 1, 0, 1, 0, 0, 0, 1, 1, 1, 1, 1, 1, 1, 0, 0, 0, 0, 0, 0, 1,\n",
       "       1, 0, 1, 1, 0, 1, 1, 0, 1, 0, 0, 1, 1, 0, 1, 1, 1, 0, 1, 0, 1, 1,\n",
       "       0, 0, 0, 0, 1, 0, 1, 0, 1, 0, 0, 0, 0, 1, 1, 1, 0, 0, 0, 1, 1, 1,\n",
       "       1, 1, 1, 0, 0, 0, 1, 0, 0, 1, 1, 1, 0, 0, 0, 0, 1, 1, 1, 1, 1, 0,\n",
       "       1, 0, 1, 1, 0, 0, 0, 0, 0, 1, 0, 1, 0, 1, 0, 1, 0, 0, 1, 0, 0, 1,\n",
       "       0, 1, 1, 1, 0, 0, 0, 1, 0, 1, 0, 1, 0, 0, 1, 0, 1, 0, 0, 0, 0, 0,\n",
       "       0, 1, 1, 0, 0, 0, 1, 1, 1, 0, 1, 1, 0, 0, 1, 0, 1, 1, 1, 0, 0, 0,\n",
       "       0, 0, 1, 1, 1, 0, 0, 1, 0, 0, 1, 0, 1, 1, 0, 0, 1, 1, 0, 0, 1, 1,\n",
       "       0, 1, 0, 1, 0, 0, 1, 0, 0, 1, 1, 0, 0, 0, 1, 0, 0, 1, 0, 0, 0, 1,\n",
       "       0, 1, 1, 1, 1, 1, 1, 1, 0, 0, 1, 1, 0, 0, 0, 1, 0, 0, 1, 0, 0, 0,\n",
       "       1, 0, 0, 0, 1, 1, 0, 0, 0, 1, 1, 1, 1, 0, 1, 0, 1, 1, 1, 0, 1, 0,\n",
       "       0, 1, 1, 0, 0, 1, 0, 0, 1, 0, 1, 0, 1, 0, 0, 1, 1, 0, 0, 1, 1, 1,\n",
       "       0, 1, 1, 0, 1, 0, 1, 0, 1, 1, 0, 1, 0, 1, 0, 0, 1, 0, 1, 0, 1, 0,\n",
       "       1, 0, 1, 1, 1, 1, 0, 1, 0, 0, 0, 1, 1, 1, 1, 1, 0, 0, 0, 0, 1, 0,\n",
       "       1, 0, 1, 1, 0, 0, 1, 0, 0, 1, 1, 0, 1, 1, 1, 1, 0, 0, 0, 0, 0, 1,\n",
       "       0, 0, 1, 0, 0])"
      ]
     },
     "execution_count": 12,
     "metadata": {},
     "output_type": "execute_result"
    }
   ],
   "source": [
    "y_mp = LogR.predict(X_test)\n",
    "y_mp"
   ]
  },
  {
   "cell_type": "markdown",
   "id": "5c62ab89",
   "metadata": {},
   "source": [
    "<br>\n",
    "\n",
    "###### **Converting predicted values into a dataframe**\n"
   ]
  },
  {
   "cell_type": "code",
   "execution_count": 13,
   "id": "009d727b",
   "metadata": {},
   "outputs": [
    {
     "data": {
      "text/html": [
       "<div>\n",
       "<style scoped>\n",
       "    .dataframe tbody tr th:only-of-type {\n",
       "        vertical-align: middle;\n",
       "    }\n",
       "\n",
       "    .dataframe tbody tr th {\n",
       "        vertical-align: top;\n",
       "    }\n",
       "\n",
       "    .dataframe thead th {\n",
       "        text-align: right;\n",
       "    }\n",
       "</style>\n",
       "<table border=\"1\" class=\"dataframe\">\n",
       "  <thead>\n",
       "    <tr style=\"text-align: right;\">\n",
       "      <th></th>\n",
       "      <th>0</th>\n",
       "      <th>1</th>\n",
       "    </tr>\n",
       "  </thead>\n",
       "  <tbody>\n",
       "    <tr>\n",
       "      <th>count</th>\n",
       "      <td>379.000000</td>\n",
       "      <td>379.000000</td>\n",
       "    </tr>\n",
       "    <tr>\n",
       "      <th>mean</th>\n",
       "      <td>-1.062787</td>\n",
       "      <td>-0.442845</td>\n",
       "    </tr>\n",
       "    <tr>\n",
       "      <th>std</th>\n",
       "      <td>0.235029</td>\n",
       "      <td>0.109879</td>\n",
       "    </tr>\n",
       "    <tr>\n",
       "      <th>min</th>\n",
       "      <td>-2.435645</td>\n",
       "      <td>-0.793868</td>\n",
       "    </tr>\n",
       "    <tr>\n",
       "      <th>25%</th>\n",
       "      <td>-1.165361</td>\n",
       "      <td>-0.504319</td>\n",
       "    </tr>\n",
       "    <tr>\n",
       "      <th>50%</th>\n",
       "      <td>-1.049435</td>\n",
       "      <td>-0.430992</td>\n",
       "    </tr>\n",
       "    <tr>\n",
       "      <th>75%</th>\n",
       "      <td>-0.926131</td>\n",
       "      <td>-0.373691</td>\n",
       "    </tr>\n",
       "    <tr>\n",
       "      <th>max</th>\n",
       "      <td>-0.601649</td>\n",
       "      <td>-0.091612</td>\n",
       "    </tr>\n",
       "  </tbody>\n",
       "</table>\n",
       "</div>"
      ],
      "text/plain": [
       "                0           1\n",
       "count  379.000000  379.000000\n",
       "mean    -1.062787   -0.442845\n",
       "std      0.235029    0.109879\n",
       "min     -2.435645   -0.793868\n",
       "25%     -1.165361   -0.504319\n",
       "50%     -1.049435   -0.430992\n",
       "75%     -0.926131   -0.373691\n",
       "max     -0.601649   -0.091612"
      ]
     },
     "execution_count": 13,
     "metadata": {},
     "output_type": "execute_result"
    }
   ],
   "source": [
    "# Predicted values were based on log odds\n",
    "# Use describe() method to get characteristics of the distribution\n",
    "pred = pd.DataFrame(LogR.predict_log_proba(X))\n",
    "pred.describe()"
   ]
  },
  {
   "cell_type": "markdown",
   "id": "2887cc2e",
   "metadata": {},
   "source": [
    "Alternatively, a quicker way to get predicted probabilities was via predict_proba() method in *scikit-learn*.\n"
   ]
  },
  {
   "cell_type": "code",
   "execution_count": 14,
   "id": "538830b2",
   "metadata": {},
   "outputs": [],
   "source": [
    "y_mp_proba = LogR.predict_proba(X_test)\n",
    "# Uncomment below to see the predicted probabilities printed\n",
    "#print(y_mp_proba)"
   ]
  },
  {
   "cell_type": "markdown",
   "id": "8debf437",
   "metadata": {},
   "source": [
    "<br>\n",
    "\n",
    "###### **Converting predicted probabilities into a dataframe**\n"
   ]
  },
  {
   "cell_type": "code",
   "execution_count": 15,
   "id": "ddfeea5f",
   "metadata": {},
   "outputs": [
    {
     "data": {
      "text/html": [
       "<div>\n",
       "<style scoped>\n",
       "    .dataframe tbody tr th:only-of-type {\n",
       "        vertical-align: middle;\n",
       "    }\n",
       "\n",
       "    .dataframe tbody tr th {\n",
       "        vertical-align: top;\n",
       "    }\n",
       "\n",
       "    .dataframe thead th {\n",
       "        text-align: right;\n",
       "    }\n",
       "</style>\n",
       "<table border=\"1\" class=\"dataframe\">\n",
       "  <thead>\n",
       "    <tr style=\"text-align: right;\">\n",
       "      <th></th>\n",
       "      <th>0</th>\n",
       "      <th>1</th>\n",
       "    </tr>\n",
       "  </thead>\n",
       "  <tbody>\n",
       "    <tr>\n",
       "      <th>count</th>\n",
       "      <td>379.000000</td>\n",
       "      <td>379.000000</td>\n",
       "    </tr>\n",
       "    <tr>\n",
       "      <th>mean</th>\n",
       "      <td>0.482928</td>\n",
       "      <td>0.517072</td>\n",
       "    </tr>\n",
       "    <tr>\n",
       "      <th>std</th>\n",
       "      <td>0.172099</td>\n",
       "      <td>0.172099</td>\n",
       "    </tr>\n",
       "    <tr>\n",
       "      <th>min</th>\n",
       "      <td>0.009285</td>\n",
       "      <td>0.144482</td>\n",
       "    </tr>\n",
       "    <tr>\n",
       "      <th>25%</th>\n",
       "      <td>0.372812</td>\n",
       "      <td>0.391971</td>\n",
       "    </tr>\n",
       "    <tr>\n",
       "      <th>50%</th>\n",
       "      <td>0.511104</td>\n",
       "      <td>0.488896</td>\n",
       "    </tr>\n",
       "    <tr>\n",
       "      <th>75%</th>\n",
       "      <td>0.608029</td>\n",
       "      <td>0.627188</td>\n",
       "    </tr>\n",
       "    <tr>\n",
       "      <th>max</th>\n",
       "      <td>0.855518</td>\n",
       "      <td>0.990715</td>\n",
       "    </tr>\n",
       "  </tbody>\n",
       "</table>\n",
       "</div>"
      ],
      "text/plain": [
       "                0           1\n",
       "count  379.000000  379.000000\n",
       "mean     0.482928    0.517072\n",
       "std      0.172099    0.172099\n",
       "min      0.009285    0.144482\n",
       "25%      0.372812    0.391971\n",
       "50%      0.511104    0.488896\n",
       "75%      0.608029    0.627188\n",
       "max      0.855518    0.990715"
      ]
     },
     "execution_count": 15,
     "metadata": {},
     "output_type": "execute_result"
    }
   ],
   "source": [
    "# Use describe() to show distributions\n",
    "y_mp_prob = pd.DataFrame(y_mp_proba)\n",
    "y_mp_prob.describe()"
   ]
  },
  {
   "cell_type": "markdown",
   "id": "7908247c",
   "metadata": {},
   "source": [
    "<br>\n",
    "\n",
    "##### **Cross-validation & hyper-parameter tuning**\n",
    "\n",
    "<br>\n",
    "\n",
    "###### **Cross-validation**\n",
    "\n",
    "Cross-validation was designed to minimise sample loss if all of our datasets were partitioned into three lots for training, testing and validation purposes. Readers might notice an additional set of data for validation here. One of the biggest reasons to add this validation set was that often overfitting could happen on the testing set with testing data being leaked into the model, due to parameter tweaking until the model performed optimally as desired. By having a validation set of the data, this overfitting problem could be avoided.\n",
    "\n",
    "In general, model training could take place initially on the training set, with the validation set used for first evaluation, which would be followed by a final evaluation on the testing set if the model testing worked as expected. The \"cross\" part of the cross-validation was the part that described the process of splitting the training data into many smaller number (\"*k*\") of sets, which was also why cross-validation was also known as \"*k*-fold cross-validation\". With the use of *k*-fold cross-validation, the training set was essentially equivalent to *k*-1 of the folds of the training data. The trained model would then be validated by using the remaining parts of the training data, which was almost like being used as a testing data to measure the performance of the trained model.\n",
    "\n",
    "::: callout-note\n",
    "In short, cross-validation was commonly used as an out-of-sample evaluation metric, where each observation was used for both training and testing, leading to more effective use of data. It was often used for hyper-parameter tuning to avoid overfitting, where parameters could be optimised via grid search techniques (such as GridSearchCV).\n",
    ":::\n",
    "\n",
    "<br>\n",
    "\n",
    "###### **Decoding LogisticRegressionCV classifier**\n",
    "\n",
    "Since we've used LogisticRegressionCV classifier for the LR models, this meant it would be unnecessary to use GridSearchCV again according to the definition of the estimatorCV as shown below.\n",
    "\n",
    "As quoted from *scikit-learn* on [cross-validation estimator](https://scikit-learn.org/stable/glossary.html#term-cross-validation-estimator):\n",
    "\n",
    "<q>An estimator that has built-in cross-validation capabilities to automatically select the best hyper-parameters (see the User Guide). Some example of cross-validation estimators are ElasticNetCV and LogisticRegressionCV. Cross-validation estimators are named EstimatorCV and tend to be roughly equivalent to GridSearchCV(Estimator(), ...). The advantage of using a cross-validation estimator over the canonical estimator class along with grid search is that they can take advantage of warm-starting by reusing precomputed results in the previous steps of the cross-validation process. This generally leads to speed improvements. An exception is the RidgeCV class, which can instead perform efficient Leave-One-Out (LOO) CV. By default, all these estimators, apart from RidgeCV with an LOO-CV, will be refitted on the full training dataset after finding the best combination of hyper-parameters.\n",
    "\n",
    "Therefore, the cross validation part for the LR model was taken care of by the LogisticRegressionCV classifier. However, I wanted to find out more about this particular estimator, so to further dissect LogisticRegressionCV classifer, Stratified K-Folds cross-validator was actually found to be used in its default setting. One of the parameters in the classifier that was closely related to the Stratified K-Folds was the cv parameter. It was a cross-validation generator that could be tuned by providing integers as its equivalent number of folds used. Its default value for LogisticRegressionCV was set as \"None\", which was equivalent to and changed from 3-fold to 5-fold in *scikit-learn* version 0.22.\n",
    "\n",
    "<br>\n",
    "\n",
    "###### **Hyper-parameter tuning - how parameters affect LR model**\n",
    "\n",
    "To explicitly see the details of all the parameters used after the cross-validation, the names and values of these parameters could be checked for the estimator by using the code below.\n",
    "\n",
    "``` {{python}}\n",
    "# To find the parameters of any ML estimator as suggested by *scikit-learn*\n",
    "estimator.get_params()\n",
    "```\n",
    "\n",
    "In this example, the LR model built was named LogR. All the parameters used for LogR by the LogisticRegressionCV classifer were:\n"
   ]
  },
  {
   "cell_type": "code",
   "execution_count": 16,
   "id": "f3e3dd4f",
   "metadata": {},
   "outputs": [
    {
     "data": {
      "text/plain": [
       "{'Cs': 10,\n",
       " 'class_weight': None,\n",
       " 'cv': None,\n",
       " 'dual': False,\n",
       " 'fit_intercept': True,\n",
       " 'intercept_scaling': 1.0,\n",
       " 'l1_ratios': None,\n",
       " 'max_iter': 100,\n",
       " 'multi_class': 'auto',\n",
       " 'n_jobs': None,\n",
       " 'penalty': 'l2',\n",
       " 'random_state': None,\n",
       " 'refit': True,\n",
       " 'scoring': None,\n",
       " 'solver': 'lbfgs',\n",
       " 'tol': 0.0001,\n",
       " 'verbose': 0}"
      ]
     },
     "execution_count": 16,
     "metadata": {},
     "output_type": "execute_result"
    }
   ],
   "source": [
    "LogR.get_params()"
   ]
  },
  {
   "cell_type": "markdown",
   "id": "5a220bd6",
   "metadata": {},
   "source": [
    "However, by showing this set of parameters used by LogisticRegressionCV classifier wouldn't really tell much about whether any of these parameters were indeed the best ones to fit the model with. So to find out how these parameters influenced the LR model, it was probably best to run a test by using several different parameters on the model to observe the effects. I've had two parameters in mind that I thought would affect the confusion matrix at least - cv and random_state parameters after doing some manual trial and errors by changing the cv and random_state values in the code. However, upon reading and digging further in the online information and resource pools, I quickly realised that cv parameter would probably matter more than random_state parameter. This was based on this line from *scikit-learn* about the LogisticRegressionCV classifer,\n",
    "\n",
    "<q>For the grid of Cs values and l1_ratios values, the best hyperparameter is selected by the cross-validator StratifiedKFold, but it can be changed using the cv parameter.\n",
    "\n",
    "So it appeared that changing cv parameter could affect Cs and l1_ratios values as well. Also from *scikit-learn* documentation on LR, other parameters that could be tuned were:\n",
    "\n",
    "-   ***solvers*** - algorithms used in classifiers\n",
    "\n",
    "-   ***penalties (or regularisation)*** - aims to reduce model generalisation errors and regulate or prevent overfitting\n",
    "\n",
    "-   ***C*** - controls regularisation or penalty strengths (which would be already taken care of in this case if using LogisticRegressionCV classifier).\n",
    "\n",
    "![Summary table for different penalties supported by different solvers in logistic regression, adapted from *scikit-learn* - https://scikit-learn.org/stable/modules/linear_model.html#logistic-regression. Note: only certain penalties and solvers work together, OVR = One-vs-Rest.](LR_penalties_solvers.jpg)\n",
    "\n",
    "A few other online projects or tutorials using logistic regression in *scikit-learn* had also mentioned that logistic regression in general did not have a lot of key hyper-parameters for tuning. Another post I happened to bump into even concluded that better time should be used to link the model results with the actual business metrics instead, rather than trying to use hyper-parameter tuning on the LR model. Nevertheless, I still wanted to see how these parameters would affect the LR model in this case, even if it was of minor significance, so that I would fully understand how all of them would work together, and how tuning hyper-parameters would be like.\n",
    "\n",
    "In order to search and test the LR parameters on the different models that would be generated in the test, I've opted to use RepeatedStratifiedKFold as the cross-validation method (which was the default cross-validator method used in LogisticRegressionCV classifier). The \"Repeated\" version of it would repeat Stratified K-Fold at the stated (*n*) times. Because of this, GridSearchCV would then be used to exhaustively search for all the best parameters in this case, with the aim to see how the changes in parameters would affect the accuracy scores for each model.\n"
   ]
  },
  {
   "cell_type": "code",
   "execution_count": 17,
   "id": "276b445f",
   "metadata": {},
   "outputs": [
    {
     "data": {
      "text/plain": [
       "(379,)"
      ]
     },
     "execution_count": 17,
     "metadata": {},
     "output_type": "execute_result"
    }
   ],
   "source": [
    "# Re-sampled y variable randomly so that there were same numbers of samples as X variables\n",
    "y = np.asarray(df_ml[\"Max_Phase\"].sample(n = 379, random_state = 250))\n",
    "y.shape"
   ]
  },
  {
   "cell_type": "code",
   "execution_count": 18,
   "id": "4389abc6",
   "metadata": {},
   "outputs": [
    {
     "name": "stdout",
     "output_type": "stream",
     "text": [
      "Best mean test score: 0.699263 using {'Cs': 50, 'cv': 5, 'penalty': 'l2', 'solver': 'lbfgs'}\n",
      "0.532982 (0.005887) with: {'Cs': 1, 'cv': 5, 'penalty': 'l2', 'solver': 'lbfgs'}\n",
      "0.670281 (0.055017) with: {'Cs': 1, 'cv': 5, 'penalty': 'l2', 'solver': 'liblinear'}\n",
      "0.532982 (0.005887) with: {'Cs': 1, 'cv': 5, 'penalty': 'l2', 'solver': 'newton-cg'}\n",
      "0.532982 (0.005887) with: {'Cs': 1, 'cv': 5, 'penalty': 'l2', 'solver': 'newton-cholesky'}\n",
      "0.532982 (0.005887) with: {'Cs': 1, 'cv': 10, 'penalty': 'l2', 'solver': 'lbfgs'}\n",
      "0.670281 (0.055017) with: {'Cs': 1, 'cv': 10, 'penalty': 'l2', 'solver': 'liblinear'}\n",
      "0.532982 (0.005887) with: {'Cs': 1, 'cv': 10, 'penalty': 'l2', 'solver': 'newton-cg'}\n",
      "0.532982 (0.005887) with: {'Cs': 1, 'cv': 10, 'penalty': 'l2', 'solver': 'newton-cholesky'}\n",
      "0.532982 (0.005887) with: {'Cs': 1, 'cv': 20, 'penalty': 'l2', 'solver': 'lbfgs'}\n",
      "0.670281 (0.055017) with: {'Cs': 1, 'cv': 20, 'penalty': 'l2', 'solver': 'liblinear'}\n",
      "0.532982 (0.005887) with: {'Cs': 1, 'cv': 20, 'penalty': 'l2', 'solver': 'newton-cg'}\n",
      "0.532982 (0.005887) with: {'Cs': 1, 'cv': 20, 'penalty': 'l2', 'solver': 'newton-cholesky'}\n",
      "0.532982 (0.005887) with: {'Cs': 1, 'cv': 30, 'penalty': 'l2', 'solver': 'lbfgs'}\n",
      "0.670281 (0.055017) with: {'Cs': 1, 'cv': 30, 'penalty': 'l2', 'solver': 'liblinear'}\n",
      "0.532982 (0.005887) with: {'Cs': 1, 'cv': 30, 'penalty': 'l2', 'solver': 'newton-cg'}\n",
      "0.532982 (0.005887) with: {'Cs': 1, 'cv': 30, 'penalty': 'l2', 'solver': 'newton-cholesky'}\n",
      "0.697930 (0.041930) with: {'Cs': 10, 'cv': 5, 'penalty': 'l2', 'solver': 'lbfgs'}\n",
      "0.696614 (0.041302) with: {'Cs': 10, 'cv': 5, 'penalty': 'l2', 'solver': 'liblinear'}\n",
      "0.697930 (0.041930) with: {'Cs': 10, 'cv': 5, 'penalty': 'l2', 'solver': 'newton-cg'}\n",
      "0.697930 (0.041930) with: {'Cs': 10, 'cv': 5, 'penalty': 'l2', 'solver': 'newton-cholesky'}\n",
      "0.696614 (0.041720) with: {'Cs': 10, 'cv': 10, 'penalty': 'l2', 'solver': 'lbfgs'}\n",
      "0.696614 (0.041720) with: {'Cs': 10, 'cv': 10, 'penalty': 'l2', 'solver': 'liblinear'}\n",
      "0.696614 (0.041720) with: {'Cs': 10, 'cv': 10, 'penalty': 'l2', 'solver': 'newton-cg'}\n",
      "0.696614 (0.041720) with: {'Cs': 10, 'cv': 10, 'penalty': 'l2', 'solver': 'newton-cholesky'}\n",
      "0.693982 (0.051953) with: {'Cs': 10, 'cv': 20, 'penalty': 'l2', 'solver': 'lbfgs'}\n",
      "0.699246 (0.039988) with: {'Cs': 10, 'cv': 20, 'penalty': 'l2', 'solver': 'liblinear'}\n",
      "0.693982 (0.051953) with: {'Cs': 10, 'cv': 20, 'penalty': 'l2', 'solver': 'newton-cg'}\n",
      "0.693982 (0.051953) with: {'Cs': 10, 'cv': 20, 'penalty': 'l2', 'solver': 'newton-cholesky'}\n",
      "0.695298 (0.041882) with: {'Cs': 10, 'cv': 30, 'penalty': 'l2', 'solver': 'lbfgs'}\n",
      "0.695298 (0.041882) with: {'Cs': 10, 'cv': 30, 'penalty': 'l2', 'solver': 'liblinear'}\n",
      "0.695298 (0.041882) with: {'Cs': 10, 'cv': 30, 'penalty': 'l2', 'solver': 'newton-cg'}\n",
      "0.695298 (0.041882) with: {'Cs': 10, 'cv': 30, 'penalty': 'l2', 'solver': 'newton-cholesky'}\n",
      "0.699263 (0.043226) with: {'Cs': 50, 'cv': 5, 'penalty': 'l2', 'solver': 'lbfgs'}\n",
      "0.699263 (0.043226) with: {'Cs': 50, 'cv': 5, 'penalty': 'l2', 'solver': 'liblinear'}\n",
      "0.699263 (0.043226) with: {'Cs': 50, 'cv': 5, 'penalty': 'l2', 'solver': 'newton-cg'}\n",
      "0.699263 (0.043226) with: {'Cs': 50, 'cv': 5, 'penalty': 'l2', 'solver': 'newton-cholesky'}\n",
      "0.697930 (0.041095) with: {'Cs': 50, 'cv': 10, 'penalty': 'l2', 'solver': 'lbfgs'}\n",
      "0.697930 (0.041095) with: {'Cs': 50, 'cv': 10, 'penalty': 'l2', 'solver': 'liblinear'}\n",
      "0.697930 (0.041095) with: {'Cs': 50, 'cv': 10, 'penalty': 'l2', 'solver': 'newton-cg'}\n",
      "0.697930 (0.041095) with: {'Cs': 50, 'cv': 10, 'penalty': 'l2', 'solver': 'newton-cholesky'}\n",
      "0.692667 (0.049633) with: {'Cs': 50, 'cv': 20, 'penalty': 'l2', 'solver': 'lbfgs'}\n",
      "0.693982 (0.049566) with: {'Cs': 50, 'cv': 20, 'penalty': 'l2', 'solver': 'liblinear'}\n",
      "0.692667 (0.049633) with: {'Cs': 50, 'cv': 20, 'penalty': 'l2', 'solver': 'newton-cg'}\n",
      "0.692667 (0.049633) with: {'Cs': 50, 'cv': 20, 'penalty': 'l2', 'solver': 'newton-cholesky'}\n",
      "0.693982 (0.043222) with: {'Cs': 50, 'cv': 30, 'penalty': 'l2', 'solver': 'lbfgs'}\n",
      "0.692667 (0.042897) with: {'Cs': 50, 'cv': 30, 'penalty': 'l2', 'solver': 'liblinear'}\n",
      "0.693982 (0.043222) with: {'Cs': 50, 'cv': 30, 'penalty': 'l2', 'solver': 'newton-cg'}\n",
      "0.693982 (0.043222) with: {'Cs': 50, 'cv': 30, 'penalty': 'l2', 'solver': 'newton-cholesky'}\n",
      "0.696632 (0.042453) with: {'Cs': 100, 'cv': 5, 'penalty': 'l2', 'solver': 'lbfgs'}\n",
      "0.695298 (0.041047) with: {'Cs': 100, 'cv': 5, 'penalty': 'l2', 'solver': 'liblinear'}\n",
      "0.696632 (0.042453) with: {'Cs': 100, 'cv': 5, 'penalty': 'l2', 'solver': 'newton-cg'}\n",
      "0.696632 (0.042453) with: {'Cs': 100, 'cv': 5, 'penalty': 'l2', 'solver': 'newton-cholesky'}\n",
      "0.697930 (0.040672) with: {'Cs': 100, 'cv': 10, 'penalty': 'l2', 'solver': 'lbfgs'}\n",
      "0.696614 (0.040455) with: {'Cs': 100, 'cv': 10, 'penalty': 'l2', 'solver': 'liblinear'}\n",
      "0.697930 (0.040672) with: {'Cs': 100, 'cv': 10, 'penalty': 'l2', 'solver': 'newton-cg'}\n",
      "0.697930 (0.040672) with: {'Cs': 100, 'cv': 10, 'penalty': 'l2', 'solver': 'newton-cholesky'}\n",
      "0.693982 (0.050944) with: {'Cs': 100, 'cv': 20, 'penalty': 'l2', 'solver': 'lbfgs'}\n",
      "0.693982 (0.049566) with: {'Cs': 100, 'cv': 20, 'penalty': 'l2', 'solver': 'liblinear'}\n",
      "0.693982 (0.050944) with: {'Cs': 100, 'cv': 20, 'penalty': 'l2', 'solver': 'newton-cg'}\n",
      "0.693982 (0.050944) with: {'Cs': 100, 'cv': 20, 'penalty': 'l2', 'solver': 'newton-cholesky'}\n",
      "0.695298 (0.040623) with: {'Cs': 100, 'cv': 30, 'penalty': 'l2', 'solver': 'lbfgs'}\n",
      "0.692667 (0.042897) with: {'Cs': 100, 'cv': 30, 'penalty': 'l2', 'solver': 'liblinear'}\n",
      "0.695298 (0.040623) with: {'Cs': 100, 'cv': 30, 'penalty': 'l2', 'solver': 'newton-cg'}\n",
      "0.695298 (0.040623) with: {'Cs': 100, 'cv': 30, 'penalty': 'l2', 'solver': 'newton-cholesky'}\n"
     ]
    }
   ],
   "source": [
    "# Code adapted from: https://machinelearningmastery.com/hyperparameters-for-classification-machine-learning-algorithms/\n",
    "\n",
    "from sklearn.model_selection import RepeatedStratifiedKFold\n",
    "from sklearn.model_selection import GridSearchCV\n",
    "\n",
    "# Set up LR model to test (the estimatorCV version)\n",
    "model = LogisticRegressionCV()\n",
    "\n",
    "# Set up parameters to test\n",
    "# Note: default value for cv = 5-fold\n",
    "cv = [5, 10, 20, 30]\n",
    "# Note: default value for Cs = 10 (integers or floats only)\n",
    "Cs = [1, 10, 50, 100]\n",
    "# Note: default solver = \"lbfgs\"\n",
    "solvers = [\"lbfgs\", \"liblinear\", \"newton-cg\", \"newton-cholesky\"]\n",
    "# \"sag\", \"saga\" not used as the dataset used here was small\n",
    "# they were mainly used for large datasets for speed\n",
    "penalty = [\"l2\"]\n",
    "\n",
    "# Specify grid for parameters to test in grid search\n",
    "grid = dict(cv = cv, Cs = Cs, solver = solvers, penalty = penalty)\n",
    "\n",
    "# Specify type of cross-validation method to be used\n",
    "CV = RepeatedStratifiedKFold(n_splits = 5, n_repeats = 2, random_state = 2)\n",
    "\n",
    "# Set up grid search\n",
    "# Specify grid search parameters\n",
    "grid_search = GridSearchCV(\n",
    "  # Specify model\n",
    "  estimator = model,\n",
    "  # Specify parameters to test\n",
    "  param_grid = grid,\n",
    "  # Number of jobs to run in parallel \n",
    "  # 1 = no parallel jobs; \n",
    "  # None = unset, but could be interpreted as \"1\" unless otherwise specified; \n",
    "  # -1 = all processors used\n",
    "  n_jobs = -1,\n",
    "  # Type of cross-validation method to be used \n",
    "  # (if none set, default 5-fold cv will be used)\n",
    "  cv = CV, \n",
    "  # Type of scoring to be used to evaluate the model\n",
    "  scoring = \"accuracy\",\n",
    "  # Value to assign to the \"scoring\" of the model \n",
    "  # if an error occurs during model fitting\n",
    "  error_score = 0\n",
    "  )\n",
    "  \n",
    "# fit the grid search on X and y variables\n",
    "grid_result = grid_search.fit(X, y)\n",
    "\n",
    "# Results with means & standard deviations of accuracy scores \n",
    "# with parameters used\n",
    "print(\"Best mean test score: %f using %s\" % (grid_result.best_score_, grid_result.best_params_))\n",
    "means = grid_result.cv_results_[\"mean_test_score\"]\n",
    "std = grid_result.cv_results_[\"std_test_score\"]\n",
    "params = grid_result.cv_results_[\"params\"]\n",
    "for mean, stdv, param in zip(means, std, params):\n",
    "    print(\"%f (%f) with: %r\" % (mean, stdv, param))"
   ]
  },
  {
   "cell_type": "markdown",
   "id": "b8376607",
   "metadata": {},
   "source": [
    "<br>\n",
    "\n",
    "#### **Results & discussions**\n",
    "\n",
    "Trends observed from the grid search above (when penalty = l2):\n",
    "\n",
    "-   For Cs = 1, the best accuracy score was 0.670281 across all 4 different cv parameters (5, 10, 20, 30), and the best solver was liblinear\n",
    "\n",
    "-   For Cs = 10, the best accuracy score was 0.699246 for cv = 20 and when solver was set as liblinear\n",
    "\n",
    "-   For Cs = 50, the best accuracy score was 0.699263 for cv = 5 across all 4 solvers\n",
    "\n",
    "-   For Cs = 100, the best accuracy score was 0.697930 for cv = 10 across 3 out of 4 solvers only, which were lbfgs, newton-cg and newton-cholesky\n",
    "\n",
    "It appeared that for smaller values of Cs, liblinear might be more suitable than the default lbfgs solver. However, for higher values of Cs, e.g. 50 and above, liblinear might not always be the best solver. The values of Cs and cv parameters that generated the best mean accuracy score were 50 and 5 respectively. The best mean accuracy score produced was 0.699263 with a standard deviation of 0.043226. Solver-wise, there were actually 3 other solvers, liblinear, newton-cg and newton-cholesky, along with the default lbfgs that generated the same mean accuracy score and standard deviations while using Cs = 50 and cv = 5. In my initial LogisticRegressionCV model, I used a different value of Cs parameter (at 10), but with the same cv and penalty parameters.\n",
    "\n",
    "Therefore, for the next ML series 3, the plan was to re-train the LogisticRegression model with the newly-discovered best parameters and re-evaluate the model to see if there would be any particular differences. Although currently I suspected the differences might be small (which probably also echoed other ML work on different datasets that also used LR), since the accuracy scores generated from this grid search and ML series 1 were very similar. However, the goal of this post was to understand how cross-validation could be used for hyper-parameter tuning to find the optimal parameters to avoid overfitting a ML model, and this was likely more applicable in other ML approaches.\n",
    "\n",
    "<br>\n",
    "\n",
    "#### **Final words**\n",
    "\n",
    "::: callout-note\n",
    "Feel free to skip this final part as this was really me speaking my thoughts out loud about my portfolio lately.\n",
    ":::\n",
    "\n",
    "I once read a [blog post on learning ML](https://vickiboykis.com/2022/11/10/how-i-learn-machine-learning/), which has suggested to go broadly in topics, then go deep in one of them, which I've agreed wholeheartedly as the approach to go about in the tech world, since there are no ways on earth to learn absolutely everything completely (even OpenAI's ChatGPT has limits - being restricted by the amount and types of input data being fed into the GPT). So, since I've branched into 3 programming languages so far, I've decided not to expand further into new programming languages for now, to avoid being \"half-bucket-full\" for everything, I should really narrow down my focus now. To name the 3 programming languages in the order I've learnt them, they are Python, R and Rust. In that, I'm most comfortable with Python as that is my first language, then it's R, followed by Rust, which is almost brand new. I think right now is a good time for me to go deep into an area that has always caught my attentions. So I'll be concentrating more on ML in my portfolio in the near future.\n",
    "\n",
    "<br>\n",
    "\n",
    "#### **References**\n",
    "\n",
    "-   [scikit-learn documentation](https://scikit-learn.org/stable/index.html) - particularly on LogisticRegressionCV classifier and GridSearchCV\n",
    "-   [Scikit-learn: Machine Learning in Python](https://jmlr.csail.mit.edu/papers/v12/pedregosa11a.html), Pedregosa *et al.*, JMLR 12, pp. 2825-2830, 2011.\n",
    "-   Bruce, P., Bruce, A. & Gedeck P. (2020). Practical statistics for data scientists. O'Reilly.\n",
    "-   [Stack Overflow](https://stackoverflow.com)"
   ]
  }
 ],
 "metadata": {
  "kernelspec": {
   "display_name": "Python 3 (ipykernel)",
   "language": "python",
   "name": "python3"
  },
  "language_info": {
   "codemirror_mode": {
    "name": "ipython",
    "version": 3
   },
   "file_extension": ".py",
   "mimetype": "text/x-python",
   "name": "python",
   "nbconvert_exporter": "python",
   "pygments_lexer": "ipython3",
   "version": "3.10.11"
  }
 },
 "nbformat": 4,
 "nbformat_minor": 5
}
