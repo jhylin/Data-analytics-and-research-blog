{
  "cells": [
    {
      "cell_type": "raw",
      "metadata": {},
      "source": [
        "---\n",
        "draft: true\n",
        "---"
      ]
    },
    {
      "attachments": {},
      "cell_type": "markdown",
      "metadata": {},
      "source": [
        "**Using datamol - Python library that works with molecules**\n",
        "\n",
        "**Current post**\n",
        "\n",
        "**Key question**: Will compound 3's scaffold be similar to the scaffolds of any approved anti-infectives? \n",
        "- if similar implying it might be a good hit (with similar bacterial targets? if so this can be backed up with experimental findings from the paper, or if different targets, it might lead to a new type of anti-infective hits)\n",
        "\n",
        "**Tasks for current post**: \n",
        "- Convert anti-infective compounds & compounds 1-3's SMILES into SELFIES (more robust for ML models) \n",
        "- Get scaffolds of the anti-infective compounds from ChEMBL + compounds 1-3 \n",
        "- Get fragments of these anti-infective compounds + compounds 1-3 (?optional)\n",
        "- Align compounds 1-3 with other scaffolds from ChEMBL\n",
        "- Look for MCS (maximum common structure)\n",
        "- Identify any similarities or differences between anti-infectives from ChEMBL and compound 3\n",
        "\n",
        "**Features to demonstrate:**\n",
        "- Using Polars dataframe library along with datamol Python library (probably a small degree only, as datamol was written with Pandas in mind only)\n",
        "- Integrating experimental results from paper from PhD work into cheminformatics project (validation always crucial for computational predictions)\n",
        "- Advancing from pure organic chemistry and computational chemistry without code into utilising data science tools and packages by coding in Python to direct project pathway\n",
        "\n",
        "**Tentative future plan for next post**: - Once found scaffolds, fragments or MCS, set up a ML model as a predictive model prototype foraging for potential small molecules as anti-infective hits (random forest or other types e.g. ?XGBoost and so on) "
      ]
    },
    {
      "cell_type": "code",
      "execution_count": 1,
      "metadata": {},
      "outputs": [],
      "source": [
        "import polars as pl\n",
        "import datamol as dm"
      ]
    },
    {
      "cell_type": "code",
      "execution_count": 2,
      "metadata": {},
      "outputs": [
        {
          "data": {
            "text/html": [
              "<div><style>\n",
              ".dataframe > thead > tr > th,\n",
              ".dataframe > tbody > tr > td {\n",
              "  text-align: right;\n",
              "}\n",
              "</style>\n",
              "<small>shape: (144, 29)</small><table border=\"1\" class=\"dataframe\"><thead><tr><th>Parent Molecule</th><th>Name</th><th>Synonyms</th><th>Research Codes</th><th>Phase</th><th>Drug Applicants</th><th>USAN Stem</th><th>USAN Year</th><th>USAN Definition</th><th>USAN Stem - Substem</th><th>First Approval</th><th>ATC Codes</th><th>Level 4 ATC Codes</th><th>Level 3 ATC Codes</th><th>Level 2 ATC Codes</th><th>Level 1 ATC Codes</th><th>Indication Class</th><th>Patent</th><th>Drug Type</th><th>Passes Rule of Five</th><th>First In Class</th><th>Chirality</th><th>Prodrug</th><th>Oral</th><th>Parenteral</th><th>Topical</th><th>Black Box</th><th>Availability Type</th><th>Smiles</th></tr><tr><td>str</td><td>str</td><td>str</td><td>str</td><td>f64</td><td>str</td><td>str</td><td>str</td><td>str</td><td>str</td><td>str</td><td>str</td><td>str</td><td>str</td><td>str</td><td>str</td><td>str</td><td>str</td><td>str</td><td>i64</td><td>i64</td><td>str</td><td>i64</td><td>i64</td><td>i64</td><td>i64</td><td>i64</td><td>str</td><td>str</td></tr></thead><tbody><tr><td>&quot;CHEMBL374975&quot;</td><td>&quot;FUSIDIC ACID&quot;</td><td>&quot;ANHYDROUS FUSI…</td><td>&quot;CEM-102|NSC-56…</td><td>4.0</td><td>&quot;&quot;</td><td>&quot;&quot;</td><td>&quot;1967&quot;</td><td>&quot;&quot;</td><td>&quot;&quot;</td><td>&quot;&quot;</td><td>&quot;J01XC01 | S01A…</td><td>&quot;J01XC - Steroi…</td><td>&quot;J01X - OTHER A…</td><td>&quot;J01 - ANTIBACT…</td><td>&quot;J - ANTIINFECT…</td><td>&quot;Antibacterial&quot;</td><td>&quot;None&quot;</td><td>&quot;1:Synthetic Sm…</td><td>0</td><td>0</td><td>&quot;Single Stereoi…</td><td>0</td><td>0</td><td>0</td><td>0</td><td>0</td><td>&quot;Unknown&quot;</td><td>&quot;CC(=O)O[C@H]1C…</td></tr><tr><td>&quot;CHEMBL130&quot;</td><td>&quot;CHLORAMPHENICO…</td><td>&quot;9-HYDROXY-9-PH…</td><td>&quot;NSC-16331|NSC-…</td><td>4.0</td><td>&quot;Ivax Pharmaceu…</td><td>&quot;&quot;</td><td>&quot;&quot;</td><td>&quot;&quot;</td><td>&quot;&quot;</td><td>&quot;1950&quot;</td><td>&quot;S01AA01 | S03A…</td><td>&quot;S01AA - Antibi…</td><td>&quot;S01A - ANTIINF…</td><td>&quot;S01 - OPHTHALM…</td><td>&quot;S - SENSORY OR…</td><td>&quot;Antibacterial;…</td><td>&quot;None&quot;</td><td>&quot;1:Synthetic Sm…</td><td>1</td><td>0</td><td>&quot;Single Stereoi…</td><td>0</td><td>1</td><td>1</td><td>1</td><td>0</td><td>&quot;Unknown&quot;</td><td>&quot;O=C(N[C@H](CO)…</td></tr><tr><td>&quot;CHEMBL186&quot;</td><td>&quot;CEFEPIME&quot;</td><td>&quot;BMY-28142|CEFE…</td><td>&quot;BMY-28142|J01D…</td><td>4.0</td><td>&quot;Samson Medical…</td><td>&quot;&#x27;cef-&#x27;&quot;</td><td>&quot;1987&quot;</td><td>&quot;cephalosporins…</td><td>&quot;&#x27;cef-(cef-)&#x27;&quot;</td><td>&quot;1996&quot;</td><td>&quot;J01DE01&quot;</td><td>&quot;J01DE - Fourth…</td><td>&quot;J01D - OTHER B…</td><td>&quot;J01 - ANTIBACT…</td><td>&quot;J - ANTIINFECT…</td><td>&quot;Antibacterial&quot;</td><td>&quot;None&quot;</td><td>&quot;1:Synthetic Sm…</td><td>1</td><td>0</td><td>&quot;Single Stereoi…</td><td>0</td><td>0</td><td>1</td><td>0</td><td>0</td><td>&quot;Prescription O…</td><td>&quot;CO/N=C(\\C(=O)N…</td></tr><tr><td>&quot;CHEMBL222645&quot;</td><td>&quot;FLOXACILLIN&quot;</td><td>&quot;ABBOFLOX|BRL 2…</td><td>&quot;BRL 2039|BRL-2…</td><td>4.0</td><td>&quot;&quot;</td><td>&quot;&#x27;-cillin&#x27;&quot;</td><td>&quot;1972&quot;</td><td>&quot;penicillins&quot;</td><td>&quot;&#x27;-cillin(-cill…</td><td>&quot;&quot;</td><td>&quot;J01CF05&quot;</td><td>&quot;J01CF - Beta-l…</td><td>&quot;J01C - BETA-LA…</td><td>&quot;J01 - ANTIBACT…</td><td>&quot;J - ANTIINFECT…</td><td>&quot;Antibacterial&quot;</td><td>&quot;None&quot;</td><td>&quot;1:Synthetic Sm…</td><td>1</td><td>0</td><td>&quot;Single Stereoi…</td><td>0</td><td>0</td><td>0</td><td>0</td><td>0</td><td>&quot;Unknown&quot;</td><td>&quot;Cc1onc(-c2c(F)…</td></tr><tr><td>&quot;CHEMBL2364632&quot;</td><td>&quot;SARECYCLINE&quot;</td><td>&quot;P-005672|P0056…</td><td>&quot;P-005672|P0056…</td><td>4.0</td><td>&quot;Almirall Llc&quot;</td><td>&quot;&#x27;-cycline&#x27;&quot;</td><td>&quot;2012&quot;</td><td>&quot;antibiotics (t…</td><td>&quot;&#x27;-cycline(-cyc…</td><td>&quot;2018&quot;</td><td>&quot;J01AA14&quot;</td><td>&quot;J01AA - Tetrac…</td><td>&quot;J01A - TETRACY…</td><td>&quot;J01 - ANTIBACT…</td><td>&quot;J - ANTIINFECT…</td><td>&quot;&quot;</td><td>&quot;US-8318706-B2&quot;</td><td>&quot;1:Synthetic Sm…</td><td>1</td><td>0</td><td>&quot;Single Stereoi…</td><td>0</td><td>1</td><td>0</td><td>0</td><td>0</td><td>&quot;Prescription O…</td><td>&quot;CON(C)Cc1ccc(O…</td></tr><tr><td>&quot;CHEMBL62193&quot;</td><td>&quot;SULFADIMETHOXI…</td><td>&quot;Madribon|NSC-6…</td><td>&quot;NSC-683544|NSC…</td><td>4.0</td><td>&quot;&quot;</td><td>&quot;&#x27;sulfa-&#x27;&quot;</td><td>&quot;&quot;</td><td>&quot;antimicrobials…</td><td>&quot;&#x27;sulfa-(sulfa-…</td><td>&quot;&quot;</td><td>&quot;J01ED01&quot;</td><td>&quot;J01ED - Long-a…</td><td>&quot;J01E - SULFONA…</td><td>&quot;J01 - ANTIBACT…</td><td>&quot;J - ANTIINFECT…</td><td>&quot;&quot;</td><td>&quot;None&quot;</td><td>&quot;1:Synthetic Sm…</td><td>1</td><td>0</td><td>&quot;Achiral Molecu…</td><td>0</td><td>0</td><td>0</td><td>0</td><td>0</td><td>&quot;Withdrawn&quot;</td><td>&quot;COc1cc(NS(=O)(…</td></tr><tr><td>&quot;CHEMBL2303613&quot;</td><td>&quot;CEFODIZIME&quot;</td><td>&quot;CEFODIZIME|CEF…</td><td>&quot;HR 221|HR 221 …</td><td>4.0</td><td>&quot;&quot;</td><td>&quot;&#x27;cef-&#x27;&quot;</td><td>&quot;&quot;</td><td>&quot;cephalosporins…</td><td>&quot;&#x27;cef-(cef-)&#x27;&quot;</td><td>&quot;&quot;</td><td>&quot;J01DD09&quot;</td><td>&quot;J01DD - Third-…</td><td>&quot;J01D - OTHER B…</td><td>&quot;J01 - ANTIBACT…</td><td>&quot;J - ANTIINFECT…</td><td>&quot;&quot;</td><td>&quot;None&quot;</td><td>&quot;1:Synthetic Sm…</td><td>0</td><td>0</td><td>&quot;Single Stereoi…</td><td>0</td><td>0</td><td>0</td><td>0</td><td>0</td><td>&quot;Unknown&quot;</td><td>&quot;CO/N=C(\\C(=O)N…</td></tr><tr><td>&quot;CHEMBL31&quot;</td><td>&quot;GATIFLOXACIN&quot;</td><td>&quot;AM-1155|BMS-20…</td><td>&quot;AM-1155|BMS-20…</td><td>4.0</td><td>&quot;Apotex Inc|Bri…</td><td>&quot;&#x27;-oxacin&#x27;&quot;</td><td>&quot;1997&quot;</td><td>&quot;antibacterials…</td><td>&quot;&#x27;-oxacin(-oxac…</td><td>&quot;1999&quot;</td><td>&quot;S01AE06 | J01M…</td><td>&quot;S01AE - Fluoro…</td><td>&quot;S01A - ANTIINF…</td><td>&quot;S01 - OPHTHALM…</td><td>&quot;S - SENSORY OR…</td><td>&quot;Antibacterial&quot;</td><td>&quot;None&quot;</td><td>&quot;1:Synthetic Sm…</td><td>1</td><td>0</td><td>&quot;Racemic Mixtur…</td><td>0</td><td>1</td><td>1</td><td>1</td><td>0</td><td>&quot;Prescription O…</td><td>&quot;COc1c(N2CCNC(C…</td></tr><tr><td>&quot;CHEMBL268869&quot;</td><td>&quot;SULFAMETHOXYPY…</td><td>&quot;CL-13494|DEPOV…</td><td>&quot;CL-13494|NSC-7…</td><td>4.0</td><td>&quot;&quot;</td><td>&quot;&#x27;sulfa-&#x27;&quot;</td><td>&quot;&quot;</td><td>&quot;antimicrobials…</td><td>&quot;&#x27;sulfa-(sulfa-…</td><td>&quot;&quot;</td><td>&quot;J01ED05&quot;</td><td>&quot;J01ED - Long-a…</td><td>&quot;J01E - SULFONA…</td><td>&quot;J01 - ANTIBACT…</td><td>&quot;J - ANTIINFECT…</td><td>&quot;&quot;</td><td>&quot;None&quot;</td><td>&quot;1:Synthetic Sm…</td><td>1</td><td>0</td><td>&quot;Achiral Molecu…</td><td>0</td><td>0</td><td>0</td><td>0</td><td>0</td><td>&quot;Withdrawn&quot;</td><td>&quot;COc1ccc(NS(=O)…</td></tr><tr><td>&quot;CHEMBL3039597&quot;</td><td>&quot;GENTAMICIN&quot;</td><td>&quot;GENTAMICIN|GEN…</td><td>&quot;SCH-9724&quot;</td><td>4.0</td><td>&quot;Schering Corp …</td><td>&quot;&#x27;-micin&#x27;&quot;</td><td>&quot;1963&quot;</td><td>&quot;antibiotics (M…</td><td>&quot;&#x27;-micin(-micin…</td><td>&quot;1970&quot;</td><td>&quot;S01AA11 | S02A…</td><td>&quot;S01AA - Antibi…</td><td>&quot;S01A - ANTIINF…</td><td>&quot;S01 - OPHTHALM…</td><td>&quot;S - SENSORY OR…</td><td>&quot;Antibacterial&quot;</td><td>&quot;None&quot;</td><td>&quot;1:Synthetic Sm…</td><td>0</td><td>0</td><td>&quot;Unknown&quot;</td><td>0</td><td>0</td><td>1</td><td>1</td><td>1</td><td>&quot;Prescription O…</td><td>&quot;CNC(C)[C@@H]1C…</td></tr><tr><td>&quot;CHEMBL3182343&quot;</td><td>&quot;PIVAMPICILLIN&quot;</td><td>&quot;MK-191|PIVAMPI…</td><td>&quot;MK-191&quot;</td><td>4.0</td><td>&quot;&quot;</td><td>&quot;&#x27;-cillin&#x27;&quot;</td><td>&quot;1970&quot;</td><td>&quot;penicillins&quot;</td><td>&quot;&#x27;-cillin(-cill…</td><td>&quot;&quot;</td><td>&quot;J01CA02&quot;</td><td>&quot;J01CA - Penici…</td><td>&quot;J01C - BETA-LA…</td><td>&quot;J01 - ANTIBACT…</td><td>&quot;J - ANTIINFECT…</td><td>&quot;&quot;</td><td>&quot;None&quot;</td><td>&quot;1:Synthetic Sm…</td><td>1</td><td>0</td><td>&quot;Single Stereoi…</td><td>1</td><td>0</td><td>0</td><td>0</td><td>0</td><td>&quot;Unknown&quot;</td><td>&quot;CC(C)(C)C(=O)O…</td></tr><tr><td>&quot;CHEMBL2146161&quot;</td><td>&quot;MIKAMYCIN&quot;</td><td>&quot;MIKAMYCIN|PRIS…</td><td>&quot;RP 7293|RP-729…</td><td>4.0</td><td>&quot;&quot;</td><td>&quot;&#x27;-mycin&#x27;&quot;</td><td>&quot;&quot;</td><td>&quot;antibiotics (S…</td><td>&quot;&#x27;-mycin(-mycin…</td><td>&quot;&quot;</td><td>&quot;J01FG01&quot;</td><td>&quot;J01FG - Strept…</td><td>&quot;J01F - MACROLI…</td><td>&quot;J01 - ANTIBACT…</td><td>&quot;J - ANTIINFECT…</td><td>&quot;&quot;</td><td>&quot;None&quot;</td><td>&quot;1:Synthetic Sm…</td><td>0</td><td>0</td><td>&quot;Unknown&quot;</td><td>0</td><td>0</td><td>0</td><td>0</td><td>0</td><td>&quot;Unknown&quot;</td><td>&quot;CC1=C\\[C@@H](O…</td></tr><tr><td>&hellip;</td><td>&hellip;</td><td>&hellip;</td><td>&hellip;</td><td>&hellip;</td><td>&hellip;</td><td>&hellip;</td><td>&hellip;</td><td>&hellip;</td><td>&hellip;</td><td>&hellip;</td><td>&hellip;</td><td>&hellip;</td><td>&hellip;</td><td>&hellip;</td><td>&hellip;</td><td>&hellip;</td><td>&hellip;</td><td>&hellip;</td><td>&hellip;</td><td>&hellip;</td><td>&hellip;</td><td>&hellip;</td><td>&hellip;</td><td>&hellip;</td><td>&hellip;</td><td>&hellip;</td><td>&hellip;</td><td>&hellip;</td></tr><tr><td>&quot;CHEMBL572&quot;</td><td>&quot;NITROFURANTOIN…</td><td>&quot;BERKFURIN|CEDU…</td><td>&quot;NSC-2107|NSC-4…</td><td>4.0</td><td>&quot;Sun Pharmaceut…</td><td>&quot;&#x27;-toin&#x27;&quot;</td><td>&quot;&quot;</td><td>&quot;antiepileptics…</td><td>&quot;&#x27;-toin(-toin)&#x27;…</td><td>&quot;1953&quot;</td><td>&quot;J01XE01 | J01X…</td><td>&quot;J01XE - Nitrof…</td><td>&quot;J01X - OTHER A…</td><td>&quot;J01 - ANTIBACT…</td><td>&quot;J - ANTIINFECT…</td><td>&quot;Antibacterial …</td><td>&quot;None&quot;</td><td>&quot;1:Synthetic Sm…</td><td>1</td><td>0</td><td>&quot;Achiral Molecu…</td><td>0</td><td>1</td><td>1</td><td>0</td><td>0</td><td>&quot;Prescription O…</td><td>&quot;O=C1CN(/N=C/c2…</td></tr><tr><td>&quot;CHEMBL1596&quot;</td><td>&quot;CARBENICILLIN …</td><td>&quot;CARBENICILLIN …</td><td>&quot;&quot;</td><td>4.0</td><td>&quot;Pfizer Laborat…</td><td>&quot;&#x27;-cillin&#x27;&quot;</td><td>&quot;1972&quot;</td><td>&quot;penicillins&quot;</td><td>&quot;&#x27;-cillin(-cill…</td><td>&quot;1972&quot;</td><td>&quot;J01CA05&quot;</td><td>&quot;J01CA - Penici…</td><td>&quot;J01C - BETA-LA…</td><td>&quot;J01 - ANTIBACT…</td><td>&quot;J - ANTIINFECT…</td><td>&quot;Antibacterial&quot;</td><td>&quot;None&quot;</td><td>&quot;1:Synthetic Sm…</td><td>1</td><td>0</td><td>&quot;Racemic Mixtur…</td><td>1</td><td>1</td><td>0</td><td>0</td><td>0</td><td>&quot;Discontinued&quot;</td><td>&quot;CC1(C)S[C@@H]2…</td></tr><tr><td>&quot;CHEMBL44354&quot;</td><td>&quot;CEFTAZIDIME&quot;</td><td>&quot;CEFTAZIDIME|CE…</td><td>&quot;GR 20263|GR-20…</td><td>4.0</td><td>&quot;Glaxosmithklin…</td><td>&quot;&#x27;cef-&#x27;&quot;</td><td>&quot;1980&quot;</td><td>&quot;cephalosporins…</td><td>&quot;&#x27;cef-(cef-)&#x27;&quot;</td><td>&quot;1985&quot;</td><td>&quot;J01DD02&quot;</td><td>&quot;J01DD - Third-…</td><td>&quot;J01D - OTHER B…</td><td>&quot;J01 - ANTIBACT…</td><td>&quot;J - ANTIINFECT…</td><td>&quot;Antibacterial&quot;</td><td>&quot;US-7112592-B2&quot;</td><td>&quot;1:Synthetic Sm…</td><td>0</td><td>0</td><td>&quot;Single Stereoi…</td><td>0</td><td>0</td><td>1</td><td>0</td><td>1</td><td>&quot;Prescription O…</td><td>&quot;CC(C)(O/N=C(\\C…</td></tr><tr><td>&quot;CHEMBL29&quot;</td><td>&quot;BENZYLPENICILL…</td><td>&quot;BENZYL PENICIL…</td><td>&quot;J01CE01|NSC-19…</td><td>4.0</td><td>&quot;Hq Specialty P…</td><td>&quot;&#x27;-cillin&#x27;&quot;</td><td>&quot;&quot;</td><td>&quot;penicillins&quot;</td><td>&quot;&#x27;-cillin(-cill…</td><td>&quot;1947&quot;</td><td>&quot;J01CE01 | S01A…</td><td>&quot;J01CE - Beta-l…</td><td>&quot;J01C - BETA-LA…</td><td>&quot;J01 - ANTIBACT…</td><td>&quot;J - ANTIINFECT…</td><td>&quot;Antibacterial&quot;</td><td>&quot;None&quot;</td><td>&quot;1:Synthetic Sm…</td><td>1</td><td>0</td><td>&quot;Single Stereoi…</td><td>0</td><td>1</td><td>1</td><td>0</td><td>1</td><td>&quot;Prescription O…</td><td>&quot;CC1(C)S[C@@H]2…</td></tr><tr><td>&quot;CHEMBL277100&quot;</td><td>&quot;TEMAFLOXACIN&quot;</td><td>&quot;Omniflox|TEMAF…</td><td>&quot;&quot;</td><td>4.0</td><td>&quot;&quot;</td><td>&quot;&#x27;-oxacin&#x27;&quot;</td><td>&quot;1988&quot;</td><td>&quot;antibacterials…</td><td>&quot;&#x27;-oxacin(-oxac…</td><td>&quot;1992&quot;</td><td>&quot;J01MA05&quot;</td><td>&quot;J01MA - Fluoro…</td><td>&quot;J01M - QUINOLO…</td><td>&quot;J01 - ANTIBACT…</td><td>&quot;J - ANTIINFECT…</td><td>&quot;Antibacterial …</td><td>&quot;None&quot;</td><td>&quot;1:Synthetic Sm…</td><td>1</td><td>0</td><td>&quot;Racemic Mixtur…</td><td>0</td><td>0</td><td>0</td><td>0</td><td>0</td><td>&quot;Withdrawn&quot;</td><td>&quot;CC1CN(c2cc3c(c…</td></tr><tr><td>&quot;CHEMBL1731&quot;</td><td>&quot;MEZLOCILLIN&quot;</td><td>&quot;BAY-F-1353|BAY…</td><td>&quot;BAY-F-1353&quot;</td><td>4.0</td><td>&quot;Bayer Pharmace…</td><td>&quot;&#x27;-cillin&#x27;&quot;</td><td>&quot;1976&quot;</td><td>&quot;penicillins&quot;</td><td>&quot;&#x27;-cillin(-cill…</td><td>&quot;1981&quot;</td><td>&quot;J01CA10&quot;</td><td>&quot;J01CA - Penici…</td><td>&quot;J01C - BETA-LA…</td><td>&quot;J01 - ANTIBACT…</td><td>&quot;J - ANTIINFECT…</td><td>&quot;Antibacterial&quot;</td><td>&quot;None&quot;</td><td>&quot;1:Synthetic Sm…</td><td>0</td><td>0</td><td>&quot;Single Stereoi…</td><td>0</td><td>0</td><td>1</td><td>0</td><td>0</td><td>&quot;Discontinued&quot;</td><td>&quot;CC1(C)S[C@@H]2…</td></tr><tr><td>&quot;CHEMBL2105612&quot;</td><td>&quot;PROPICILLIN&quot;</td><td>&quot;(1-PHENOXYPROP…</td><td>&quot;&quot;</td><td>4.0</td><td>&quot;&quot;</td><td>&quot;&#x27;-cillin&#x27;&quot;</td><td>&quot;&quot;</td><td>&quot;penicillins&quot;</td><td>&quot;&#x27;-cillin(-cill…</td><td>&quot;&quot;</td><td>&quot;J01CE03&quot;</td><td>&quot;J01CE - Beta-l…</td><td>&quot;J01C - BETA-LA…</td><td>&quot;J01 - ANTIBACT…</td><td>&quot;J - ANTIINFECT…</td><td>&quot;&quot;</td><td>&quot;None&quot;</td><td>&quot;1:Synthetic Sm…</td><td>1</td><td>0</td><td>&quot;Racemic Mixtur…</td><td>0</td><td>0</td><td>0</td><td>0</td><td>0</td><td>&quot;Unknown&quot;</td><td>&quot;CCC(Oc1ccccc1)…</td></tr><tr><td>&quot;CHEMBL8&quot;</td><td>&quot;CIPROFLOXACIN&quot;</td><td>&quot;BAY O 9867 FRE…</td><td>&quot;BAY O 9867 FRE…</td><td>4.0</td><td>&quot;Inforlife Sa|A…</td><td>&quot;&#x27;-oxacin&#x27;&quot;</td><td>&quot;1987&quot;</td><td>&quot;antibacterials…</td><td>&quot;&#x27;-oxacin(-oxac…</td><td>&quot;1987&quot;</td><td>&quot;J01MA02 | S03A…</td><td>&quot;J01MA - Fluoro…</td><td>&quot;J01M - QUINOLO…</td><td>&quot;J01 - ANTIBACT…</td><td>&quot;J - ANTIINFECT…</td><td>&quot;Antibacterial&quot;</td><td>&quot;US-8318817-B2&quot;</td><td>&quot;1:Synthetic Sm…</td><td>1</td><td>0</td><td>&quot;Achiral Molecu…</td><td>0</td><td>1</td><td>1</td><td>1</td><td>1</td><td>&quot;Prescription O…</td><td>&quot;O=C(O)c1cn(C2C…</td></tr><tr><td>&quot;CHEMBL9&quot;</td><td>&quot;NORFLOXACIN&quot;</td><td>&quot;Baccidal|CHIBR…</td><td>&quot;MK-366|NSC-757…</td><td>4.0</td><td>&quot;Merck Research…</td><td>&quot;&#x27;-oxacin&#x27;&quot;</td><td>&quot;1984&quot;</td><td>&quot;antibacterials…</td><td>&quot;&#x27;-oxacin(-oxac…</td><td>&quot;1986&quot;</td><td>&quot;J01MA06 | S01A…</td><td>&quot;J01MA - Fluoro…</td><td>&quot;J01M - QUINOLO…</td><td>&quot;J01 - ANTIBACT…</td><td>&quot;J - ANTIINFECT…</td><td>&quot;Antibacterial&quot;</td><td>&quot;None&quot;</td><td>&quot;1:Synthetic Sm…</td><td>1</td><td>0</td><td>&quot;Achiral Molecu…</td><td>0</td><td>1</td><td>0</td><td>1</td><td>1</td><td>&quot;Prescription O…</td><td>&quot;CCn1cc(C(=O)O)…</td></tr><tr><td>&quot;CHEMBL21&quot;</td><td>&quot;SULFANILAMIDE&quot;</td><td>&quot;ANILINE-P-SULF…</td><td>&quot;NSC-7618&quot;</td><td>4.0</td><td>&quot;Mylan Specialt…</td><td>&quot;&#x27;sulfa-&#x27;&quot;</td><td>&quot;&quot;</td><td>&quot;antimicrobials…</td><td>&quot;&#x27;sulfa-(sulfa-…</td><td>&quot;1985&quot;</td><td>&quot;D06BA05 | J01E…</td><td>&quot;D06BA - Sulfon…</td><td>&quot;D06B - CHEMOTH…</td><td>&quot;D06 - ANTIBIOT…</td><td>&quot;D - DERMATOLOG…</td><td>&quot;&quot;</td><td>&quot;None&quot;</td><td>&quot;1:Synthetic Sm…</td><td>1</td><td>0</td><td>&quot;Achiral Molecu…</td><td>0</td><td>0</td><td>0</td><td>1</td><td>0</td><td>&quot;Prescription O…</td><td>&quot;Nc1ccc(S(N)(=O…</td></tr><tr><td>&quot;CHEMBL4&quot;</td><td>&quot;OFLOXACIN&quot;</td><td>&quot;DL-8280|EXOCIN…</td><td>&quot;DL-8280|HOE 28…</td><td>4.0</td><td>&quot;Bausch And Lom…</td><td>&quot;&#x27;-oxacin&#x27;&quot;</td><td>&quot;1984&quot;</td><td>&quot;antibacterials…</td><td>&quot;&#x27;-oxacin(-oxac…</td><td>&quot;1990&quot;</td><td>&quot;J01MA01 | S02A…</td><td>&quot;J01MA - Fluoro…</td><td>&quot;J01M - QUINOLO…</td><td>&quot;J01 - ANTIBACT…</td><td>&quot;J - ANTIINFECT…</td><td>&quot;Antibacterial&quot;</td><td>&quot;None&quot;</td><td>&quot;1:Synthetic Sm…</td><td>1</td><td>0</td><td>&quot;Racemic Mixtur…</td><td>0</td><td>1</td><td>1</td><td>1</td><td>1</td><td>&quot;Prescription O…</td><td>&quot;CC1COc2c(N3CCN…</td></tr><tr><td>&quot;CHEMBL530&quot;</td><td>&quot;AMDINOCILLIN&quot;</td><td>&quot;AMDINOCILLIN|C…</td><td>&quot;FL 1060|FL-106…</td><td>4.0</td><td>&quot;Hoffmann La Ro…</td><td>&quot;&#x27;-cillin&#x27;&quot;</td><td>&quot;1981&quot;</td><td>&quot;penicillins&quot;</td><td>&quot;&#x27;-cillin(-cill…</td><td>&quot;1984&quot;</td><td>&quot;J01CA11&quot;</td><td>&quot;J01CA - Penici…</td><td>&quot;J01C - BETA-LA…</td><td>&quot;J01 - ANTIBACT…</td><td>&quot;J - ANTIINFECT…</td><td>&quot;Antibacterial&quot;</td><td>&quot;None&quot;</td><td>&quot;1:Synthetic Sm…</td><td>1</td><td>0</td><td>&quot;Single Stereoi…</td><td>0</td><td>0</td><td>1</td><td>0</td><td>0</td><td>&quot;Discontinued&quot;</td><td>&quot;CC1(C)S[C@@H]2…</td></tr></tbody></table></div>"
            ],
            "text/plain": [
              "shape: (144, 29)\n",
              "┌────────────┬───────────┬──────────┬────────────┬───┬─────────┬───────────┬────────────┬──────────┐\n",
              "│ Parent     ┆ Name      ┆ Synonyms ┆ Research   ┆ … ┆ Topical ┆ Black Box ┆ Availabili ┆ Smiles   │\n",
              "│ Molecule   ┆ ---       ┆ ---      ┆ Codes      ┆   ┆ ---     ┆ ---       ┆ ty Type    ┆ ---      │\n",
              "│ ---        ┆ str       ┆ str      ┆ ---        ┆   ┆ i64     ┆ i64       ┆ ---        ┆ str      │\n",
              "│ str        ┆           ┆          ┆ str        ┆   ┆         ┆           ┆ str        ┆          │\n",
              "╞════════════╪═══════════╪══════════╪════════════╪═══╪═════════╪═══════════╪════════════╪══════════╡\n",
              "│ CHEMBL3749 ┆ FUSIDIC   ┆ ANHYDROU ┆ CEM-102|NS ┆ … ┆ 0       ┆ 0         ┆ Unknown    ┆ CC(=O)O[ │\n",
              "│ 75         ┆ ACID      ┆ S        ┆ C-56192|SQ ┆   ┆         ┆           ┆            ┆ C@H]1C[C │\n",
              "│            ┆           ┆ FUSIDIC  ┆ 16,603|SQ- ┆   ┆         ┆           ┆            ┆ @@]2(C)[ │\n",
              "│            ┆           ┆ ACID|CEM ┆ 1…         ┆   ┆         ┆           ┆            ┆ C@@H](C[ │\n",
              "│            ┆           ┆ -102|F…  ┆            ┆   ┆         ┆           ┆            ┆ …        │\n",
              "│ CHEMBL130  ┆ CHLORAMPH ┆ 9-HYDROX ┆ NSC-16331| ┆ … ┆ 1       ┆ 0         ┆ Unknown    ┆ O=C(N[C@ │\n",
              "│            ┆ ENICOL    ┆ Y-9-PHEN ┆ NSC-3069   ┆   ┆         ┆           ┆            ┆ H](CO)[C │\n",
              "│            ┆           ┆ YLXANTHE ┆            ┆   ┆         ┆           ┆            ┆ @H](O)c1 │\n",
              "│            ┆           ┆ NE|9-PHE ┆            ┆   ┆         ┆           ┆            ┆ ccc([N+] │\n",
              "│            ┆           ┆ …        ┆            ┆   ┆         ┆           ┆            ┆ …        │\n",
              "│ CHEMBL186  ┆ CEFEPIME  ┆ BMY-2814 ┆ BMY-28142| ┆ … ┆ 0       ┆ 0         ┆ Prescripti ┆ CO/N=C(\\ │\n",
              "│            ┆           ┆ 2|CEFEPI ┆ J01DE01|VN ┆   ┆         ┆           ┆ on Only    ┆ C(=O)N[C │\n",
              "│            ┆           ┆ ME|J01DE ┆ RX-5022    ┆   ┆         ┆           ┆            ┆ @@H]1C(= │\n",
              "│            ┆           ┆ 01|Maxip ┆            ┆   ┆         ┆           ┆            ┆ O)N2C(C( │\n",
              "│            ┆           ┆ …        ┆            ┆   ┆         ┆           ┆            ┆ …        │\n",
              "│ CHEMBL2226 ┆ FLOXACILL ┆ ABBOFLOX ┆ BRL 2039|B ┆ … ┆ 0       ┆ 0         ┆ Unknown    ┆ Cc1onc(- │\n",
              "│ 45         ┆ IN        ┆ |BRL 203 ┆ RL-2039|NS ┆   ┆         ┆           ┆            ┆ c2c(F)cc │\n",
              "│            ┆           ┆ 9|BRL-20 ┆ C-277175   ┆   ┆         ┆           ┆            ┆ cc2Cl)c1 │\n",
              "│            ┆           ┆ 39|CULPE ┆            ┆   ┆         ┆           ┆            ┆ C(=O)N[C │\n",
              "│            ┆           ┆ …        ┆            ┆   ┆         ┆           ┆            ┆ …        │\n",
              "│ …          ┆ …         ┆ …        ┆ …          ┆ … ┆ …       ┆ …         ┆ …          ┆ …        │\n",
              "│ CHEMBL9    ┆ NORFLOXAC ┆ Baccidal ┆ MK-366|NSC ┆ … ┆ 1       ┆ 1         ┆ Prescripti ┆ CCn1cc(C │\n",
              "│            ┆ IN        ┆ |CHIBROX ┆ -757250    ┆   ┆         ┆           ┆ on Only    ┆ (=O)O)c( │\n",
              "│            ┆           ┆ IN|MK-36 ┆            ┆   ┆         ┆           ┆            ┆ =O)c2cc( │\n",
              "│            ┆           ┆ 6|NORFLO ┆            ┆   ┆         ┆           ┆            ┆ F)c(N3CC │\n",
              "│            ┆           ┆ …        ┆            ┆   ┆         ┆           ┆            ┆ …        │\n",
              "│ CHEMBL21   ┆ SULFANILA ┆ ANILINE- ┆ NSC-7618   ┆ … ┆ 1       ┆ 0         ┆ Prescripti ┆ Nc1ccc(S │\n",
              "│            ┆ MIDE      ┆ P-SULFON ┆            ┆   ┆         ┆           ┆ on Only    ┆ (N)(=O)= │\n",
              "│            ┆           ┆ IC AMIDE ┆            ┆   ┆         ┆           ┆            ┆ O)cc1    │\n",
              "│            ┆           ┆ |NSC-761 ┆            ┆   ┆         ┆           ┆            ┆          │\n",
              "│            ┆           ┆ …        ┆            ┆   ┆         ┆           ┆            ┆          │\n",
              "│ CHEMBL4    ┆ OFLOXACIN ┆ DL-8280| ┆ DL-8280|HO ┆ … ┆ 1       ┆ 1         ┆ Prescripti ┆ CC1COc2c │\n",
              "│            ┆           ┆ EXOCIN|F ┆ E 280|HOE- ┆   ┆         ┆           ┆ on Only    ┆ (N3CCN(C │\n",
              "│            ┆           ┆ LOXIN    ┆ 280|J01MA0 ┆   ┆         ┆           ┆            ┆ )CC3)c(F │\n",
              "│            ┆           ┆ OTIC|Flo ┆ 1|…        ┆   ┆         ┆           ┆            ┆ )cc3c(=O │\n",
              "│            ┆           ┆ xi…      ┆            ┆   ┆         ┆           ┆            ┆ …        │\n",
              "│ CHEMBL530  ┆ AMDINOCIL ┆ AMDINOCI ┆ FL 1060|FL ┆ … ┆ 0       ┆ 0         ┆ Discontinu ┆ CC1(C)S[ │\n",
              "│            ┆ LIN       ┆ LLIN|Coa ┆ -1060|RO   ┆   ┆         ┆           ┆ ed         ┆ C@@H]2[C │\n",
              "│            ┆           ┆ ctin|FL  ┆ 10-9070|RO ┆   ┆         ┆           ┆            ┆ @H](/N=C │\n",
              "│            ┆           ┆ 1060|FL- ┆ -10…       ┆   ┆         ┆           ┆            ┆ /N3CCCCC │\n",
              "│            ┆           ┆ …        ┆            ┆   ┆         ┆           ┆            ┆ …        │\n",
              "└────────────┴───────────┴──────────┴────────────┴───┴─────────┴───────────┴────────────┴──────────┘"
            ]
          },
          "execution_count": 2,
          "metadata": {},
          "output_type": "execute_result"
        }
      ],
      "source": [
        "df_ai = pl.read_csv(\"chembl_anti-inf.csv\", separator = \";\")\n",
        "df_ai"
      ]
    },
    {
      "cell_type": "code",
      "execution_count": 3,
      "metadata": {},
      "outputs": [
        {
          "data": {
            "text/html": [
              "<div><style>\n",
              ".dataframe > thead > tr > th,\n",
              ".dataframe > tbody > tr > td {\n",
              "  text-align: right;\n",
              "}\n",
              "</style>\n",
              "<small>shape: (9, 30)</small><table border=\"1\" class=\"dataframe\"><thead><tr><th>describe</th><th>Parent Molecule</th><th>Name</th><th>Synonyms</th><th>Research Codes</th><th>Phase</th><th>Drug Applicants</th><th>USAN Stem</th><th>USAN Year</th><th>USAN Definition</th><th>USAN Stem - Substem</th><th>First Approval</th><th>ATC Codes</th><th>Level 4 ATC Codes</th><th>Level 3 ATC Codes</th><th>Level 2 ATC Codes</th><th>Level 1 ATC Codes</th><th>Indication Class</th><th>Patent</th><th>Drug Type</th><th>Passes Rule of Five</th><th>First In Class</th><th>Chirality</th><th>Prodrug</th><th>Oral</th><th>Parenteral</th><th>Topical</th><th>Black Box</th><th>Availability Type</th><th>Smiles</th></tr><tr><td>str</td><td>str</td><td>str</td><td>str</td><td>str</td><td>f64</td><td>str</td><td>str</td><td>str</td><td>str</td><td>str</td><td>str</td><td>str</td><td>str</td><td>str</td><td>str</td><td>str</td><td>str</td><td>str</td><td>str</td><td>f64</td><td>f64</td><td>str</td><td>f64</td><td>f64</td><td>f64</td><td>f64</td><td>f64</td><td>str</td><td>str</td></tr></thead><tbody><tr><td>&quot;count&quot;</td><td>&quot;144&quot;</td><td>&quot;144&quot;</td><td>&quot;144&quot;</td><td>&quot;144&quot;</td><td>144.0</td><td>&quot;144&quot;</td><td>&quot;144&quot;</td><td>&quot;144&quot;</td><td>&quot;144&quot;</td><td>&quot;144&quot;</td><td>&quot;144&quot;</td><td>&quot;144&quot;</td><td>&quot;144&quot;</td><td>&quot;144&quot;</td><td>&quot;144&quot;</td><td>&quot;144&quot;</td><td>&quot;144&quot;</td><td>&quot;144&quot;</td><td>&quot;144&quot;</td><td>144.0</td><td>144.0</td><td>&quot;144&quot;</td><td>144.0</td><td>144.0</td><td>144.0</td><td>144.0</td><td>144.0</td><td>&quot;144&quot;</td><td>&quot;144&quot;</td></tr><tr><td>&quot;null_count&quot;</td><td>&quot;0&quot;</td><td>&quot;0&quot;</td><td>&quot;0&quot;</td><td>&quot;0&quot;</td><td>0.0</td><td>&quot;0&quot;</td><td>&quot;0&quot;</td><td>&quot;0&quot;</td><td>&quot;0&quot;</td><td>&quot;0&quot;</td><td>&quot;0&quot;</td><td>&quot;0&quot;</td><td>&quot;0&quot;</td><td>&quot;0&quot;</td><td>&quot;0&quot;</td><td>&quot;0&quot;</td><td>&quot;0&quot;</td><td>&quot;0&quot;</td><td>&quot;0&quot;</td><td>0.0</td><td>0.0</td><td>&quot;0&quot;</td><td>0.0</td><td>0.0</td><td>0.0</td><td>0.0</td><td>0.0</td><td>&quot;0&quot;</td><td>&quot;0&quot;</td></tr><tr><td>&quot;mean&quot;</td><td>null</td><td>null</td><td>null</td><td>null</td><td>4.0</td><td>null</td><td>null</td><td>null</td><td>null</td><td>null</td><td>null</td><td>null</td><td>null</td><td>null</td><td>null</td><td>null</td><td>null</td><td>null</td><td>null</td><td>0.631944</td><td>0.0</td><td>null</td><td>0.090278</td><td>0.472222</td><td>0.472222</td><td>0.145833</td><td>0.166667</td><td>null</td><td>null</td></tr><tr><td>&quot;std&quot;</td><td>null</td><td>null</td><td>null</td><td>null</td><td>0.0</td><td>null</td><td>null</td><td>null</td><td>null</td><td>null</td><td>null</td><td>null</td><td>null</td><td>null</td><td>null</td><td>null</td><td>null</td><td>null</td><td>null</td><td>0.48396</td><td>0.0</td><td>null</td><td>0.28758</td><td>0.50097</td><td>0.50097</td><td>0.354171</td><td>0.373979</td><td>null</td><td>null</td></tr><tr><td>&quot;min&quot;</td><td>&quot;CHEMBL1082&quot;</td><td>&quot;AMDINOCILLIN&quot;</td><td>&quot;(1-PHENOXYPROP…</td><td>&quot;&quot;</td><td>4.0</td><td>&quot;&quot;</td><td>&quot;&quot;</td><td>&quot;&quot;</td><td>&quot;&quot;</td><td>&quot;&quot;</td><td>&quot;&quot;</td><td>&quot;A01AB23 | D10A…</td><td>&quot;A01AB - Antiin…</td><td>&quot;A01A - STOMATO…</td><td>&quot;A01 - STOMATOL…</td><td>&quot;A - ALIMENTARY…</td><td>&quot;&quot;</td><td>&quot;None&quot;</td><td>&quot;1:Synthetic Sm…</td><td>0.0</td><td>0.0</td><td>&quot;Achiral Molecu…</td><td>0.0</td><td>0.0</td><td>0.0</td><td>0.0</td><td>0.0</td><td>&quot;Discontinued&quot;</td><td>&quot;&quot;</td></tr><tr><td>&quot;max&quot;</td><td>&quot;CHEMBL996&quot;</td><td>&quot;VANCOMYCIN&quot;</td><td>&quot;VANCOMYCIN|Van…</td><td>&quot;WY-20,788|WY-2…</td><td>4.0</td><td>&quot;Xiromed Pharma…</td><td>&quot;&#x27;sulfa-&#x27;&quot;</td><td>&quot;2017&quot;</td><td>&quot;vancomycin-rel…</td><td>&quot;&#x27;sulfa-(sulfa-…</td><td>&quot;2019&quot;</td><td>&quot;S01AE06 | J01M…</td><td>&quot;S01AE - Fluoro…</td><td>&quot;S01A - ANTIINF…</td><td>&quot;S01 - OPHTHALM…</td><td>&quot;S - SENSORY OR…</td><td>&quot;Suppressant (d…</td><td>&quot;US-9238657-B2&quot;</td><td>&quot;1:Synthetic Sm…</td><td>1.0</td><td>0.0</td><td>&quot;Unknown&quot;</td><td>1.0</td><td>1.0</td><td>1.0</td><td>1.0</td><td>1.0</td><td>&quot;Withdrawn&quot;</td><td>&quot;O=C1CN(/N=C/c2…</td></tr><tr><td>&quot;median&quot;</td><td>null</td><td>null</td><td>null</td><td>null</td><td>4.0</td><td>null</td><td>null</td><td>null</td><td>null</td><td>null</td><td>null</td><td>null</td><td>null</td><td>null</td><td>null</td><td>null</td><td>null</td><td>null</td><td>null</td><td>1.0</td><td>0.0</td><td>null</td><td>0.0</td><td>0.0</td><td>0.0</td><td>0.0</td><td>0.0</td><td>null</td><td>null</td></tr><tr><td>&quot;25%&quot;</td><td>null</td><td>null</td><td>null</td><td>null</td><td>4.0</td><td>null</td><td>null</td><td>null</td><td>null</td><td>null</td><td>null</td><td>null</td><td>null</td><td>null</td><td>null</td><td>null</td><td>null</td><td>null</td><td>null</td><td>0.0</td><td>0.0</td><td>null</td><td>0.0</td><td>0.0</td><td>0.0</td><td>0.0</td><td>0.0</td><td>null</td><td>null</td></tr><tr><td>&quot;75%&quot;</td><td>null</td><td>null</td><td>null</td><td>null</td><td>4.0</td><td>null</td><td>null</td><td>null</td><td>null</td><td>null</td><td>null</td><td>null</td><td>null</td><td>null</td><td>null</td><td>null</td><td>null</td><td>null</td><td>null</td><td>1.0</td><td>0.0</td><td>null</td><td>0.0</td><td>1.0</td><td>1.0</td><td>0.0</td><td>0.0</td><td>null</td><td>null</td></tr></tbody></table></div>"
            ],
            "text/plain": [
              "shape: (9, 30)\n",
              "┌───────────┬────────────┬───────────┬──────────┬───┬──────────┬───────────┬────────────┬──────────┐\n",
              "│ describe  ┆ Parent     ┆ Name      ┆ Synonyms ┆ … ┆ Topical  ┆ Black Box ┆ Availabili ┆ Smiles   │\n",
              "│ ---       ┆ Molecule   ┆ ---       ┆ ---      ┆   ┆ ---      ┆ ---       ┆ ty Type    ┆ ---      │\n",
              "│ str       ┆ ---        ┆ str       ┆ str      ┆   ┆ f64      ┆ f64       ┆ ---        ┆ str      │\n",
              "│           ┆ str        ┆           ┆          ┆   ┆          ┆           ┆ str        ┆          │\n",
              "╞═══════════╪════════════╪═══════════╪══════════╪═══╪══════════╪═══════════╪════════════╪══════════╡\n",
              "│ count     ┆ 144        ┆ 144       ┆ 144      ┆ … ┆ 144.0    ┆ 144.0     ┆ 144        ┆ 144      │\n",
              "│ null_coun ┆ 0          ┆ 0         ┆ 0        ┆ … ┆ 0.0      ┆ 0.0       ┆ 0          ┆ 0        │\n",
              "│ t         ┆            ┆           ┆          ┆   ┆          ┆           ┆            ┆          │\n",
              "│ mean      ┆ null       ┆ null      ┆ null     ┆ … ┆ 0.145833 ┆ 0.166667  ┆ null       ┆ null     │\n",
              "│ std       ┆ null       ┆ null      ┆ null     ┆ … ┆ 0.354171 ┆ 0.373979  ┆ null       ┆ null     │\n",
              "│ min       ┆ CHEMBL1082 ┆ AMDINOCIL ┆ (1-PHENO ┆ … ┆ 0.0      ┆ 0.0       ┆ Discontinu ┆          │\n",
              "│           ┆            ┆ LIN       ┆ XYPROPYL ┆   ┆          ┆           ┆ ed         ┆          │\n",
              "│           ┆            ┆           ┆ )PENICIL ┆   ┆          ┆           ┆            ┆          │\n",
              "│           ┆            ┆           ┆ LIN|.ALP ┆   ┆          ┆           ┆            ┆          │\n",
              "│           ┆            ┆           ┆ …        ┆   ┆          ┆           ┆            ┆          │\n",
              "│ max       ┆ CHEMBL996  ┆ VANCOMYCI ┆ VANCOMYC ┆ … ┆ 1.0      ┆ 1.0       ┆ Withdrawn  ┆ O=C1CN(/ │\n",
              "│           ┆            ┆ N         ┆ IN|Vanco ┆   ┆          ┆           ┆            ┆ N=C/c2cc │\n",
              "│           ┆            ┆           ┆ led|Vanc ┆   ┆          ┆           ┆            ┆ c([N+](= │\n",
              "│           ┆            ┆           ┆ omycin|V ┆   ┆          ┆           ┆            ┆ O)[O-])o │\n",
              "│           ┆            ┆           ┆ …        ┆   ┆          ┆           ┆            ┆ …        │\n",
              "│ median    ┆ null       ┆ null      ┆ null     ┆ … ┆ 0.0      ┆ 0.0       ┆ null       ┆ null     │\n",
              "│ 25%       ┆ null       ┆ null      ┆ null     ┆ … ┆ 0.0      ┆ 0.0       ┆ null       ┆ null     │\n",
              "│ 75%       ┆ null       ┆ null      ┆ null     ┆ … ┆ 0.0      ┆ 0.0       ┆ null       ┆ null     │\n",
              "└───────────┴────────────┴───────────┴──────────┴───┴──────────┴───────────┴────────────┴──────────┘"
            ]
          },
          "execution_count": 3,
          "metadata": {},
          "output_type": "execute_result"
        }
      ],
      "source": [
        "df_ai.describe()"
      ]
    },
    {
      "cell_type": "code",
      "execution_count": 4,
      "metadata": {},
      "outputs": [
        {
          "data": {
            "text/html": [
              "<div><style>\n",
              ".dataframe > thead > tr > th,\n",
              ".dataframe > tbody > tr > td {\n",
              "  text-align: right;\n",
              "}\n",
              "</style>\n",
              "<small>shape: (4, 2)</small><table border=\"1\" class=\"dataframe\"><thead><tr><th>Availability Type</th><th>count</th></tr><tr><td>str</td><td>u32</td></tr></thead><tbody><tr><td>&quot;Withdrawn&quot;</td><td>7</td></tr><tr><td>&quot;Prescription O…</td><td>72</td></tr><tr><td>&quot;Unknown&quot;</td><td>29</td></tr><tr><td>&quot;Discontinued&quot;</td><td>36</td></tr></tbody></table></div>"
            ],
            "text/plain": [
              "shape: (4, 2)\n",
              "┌───────────────────┬───────┐\n",
              "│ Availability Type ┆ count │\n",
              "│ ---               ┆ ---   │\n",
              "│ str               ┆ u32   │\n",
              "╞═══════════════════╪═══════╡\n",
              "│ Withdrawn         ┆ 7     │\n",
              "│ Prescription Only ┆ 72    │\n",
              "│ Unknown           ┆ 29    │\n",
              "│ Discontinued      ┆ 36    │\n",
              "└───────────────────┴───────┘"
            ]
          },
          "execution_count": 4,
          "metadata": {},
          "output_type": "execute_result"
        }
      ],
      "source": [
        "# Check availability types\n",
        "df_ai.groupby(\"Availability Type\").count()"
      ]
    },
    {
      "cell_type": "code",
      "execution_count": 5,
      "metadata": {},
      "outputs": [
        {
          "data": {
            "text/html": [
              "<div><style>\n",
              ".dataframe > thead > tr > th,\n",
              ".dataframe > tbody > tr > td {\n",
              "  text-align: right;\n",
              "}\n",
              "</style>\n",
              "<small>shape: (72, 29)</small><table border=\"1\" class=\"dataframe\"><thead><tr><th>Parent Molecule</th><th>Name</th><th>Synonyms</th><th>Research Codes</th><th>Phase</th><th>Drug Applicants</th><th>USAN Stem</th><th>USAN Year</th><th>USAN Definition</th><th>USAN Stem - Substem</th><th>First Approval</th><th>ATC Codes</th><th>Level 4 ATC Codes</th><th>Level 3 ATC Codes</th><th>Level 2 ATC Codes</th><th>Level 1 ATC Codes</th><th>Indication Class</th><th>Patent</th><th>Drug Type</th><th>Passes Rule of Five</th><th>First In Class</th><th>Chirality</th><th>Prodrug</th><th>Oral</th><th>Parenteral</th><th>Topical</th><th>Black Box</th><th>Availability Type</th><th>Smiles</th></tr><tr><td>str</td><td>str</td><td>str</td><td>str</td><td>f64</td><td>str</td><td>str</td><td>str</td><td>str</td><td>str</td><td>str</td><td>str</td><td>str</td><td>str</td><td>str</td><td>str</td><td>str</td><td>str</td><td>str</td><td>i64</td><td>i64</td><td>str</td><td>i64</td><td>i64</td><td>i64</td><td>i64</td><td>i64</td><td>str</td><td>str</td></tr></thead><tbody><tr><td>&quot;CHEMBL186&quot;</td><td>&quot;CEFEPIME&quot;</td><td>&quot;BMY-28142|CEFE…</td><td>&quot;BMY-28142|J01D…</td><td>4.0</td><td>&quot;Samson Medical…</td><td>&quot;&#x27;cef-&#x27;&quot;</td><td>&quot;1987&quot;</td><td>&quot;cephalosporins…</td><td>&quot;&#x27;cef-(cef-)&#x27;&quot;</td><td>&quot;1996&quot;</td><td>&quot;J01DE01&quot;</td><td>&quot;J01DE - Fourth…</td><td>&quot;J01D - OTHER B…</td><td>&quot;J01 - ANTIBACT…</td><td>&quot;J - ANTIINFECT…</td><td>&quot;Antibacterial&quot;</td><td>&quot;None&quot;</td><td>&quot;1:Synthetic Sm…</td><td>1</td><td>0</td><td>&quot;Single Stereoi…</td><td>0</td><td>0</td><td>1</td><td>0</td><td>0</td><td>&quot;Prescription O…</td><td>&quot;CO/N=C(\\C(=O)N…</td></tr><tr><td>&quot;CHEMBL2364632&quot;</td><td>&quot;SARECYCLINE&quot;</td><td>&quot;P-005672|P0056…</td><td>&quot;P-005672|P0056…</td><td>4.0</td><td>&quot;Almirall Llc&quot;</td><td>&quot;&#x27;-cycline&#x27;&quot;</td><td>&quot;2012&quot;</td><td>&quot;antibiotics (t…</td><td>&quot;&#x27;-cycline(-cyc…</td><td>&quot;2018&quot;</td><td>&quot;J01AA14&quot;</td><td>&quot;J01AA - Tetrac…</td><td>&quot;J01A - TETRACY…</td><td>&quot;J01 - ANTIBACT…</td><td>&quot;J - ANTIINFECT…</td><td>&quot;&quot;</td><td>&quot;US-8318706-B2&quot;</td><td>&quot;1:Synthetic Sm…</td><td>1</td><td>0</td><td>&quot;Single Stereoi…</td><td>0</td><td>1</td><td>0</td><td>0</td><td>0</td><td>&quot;Prescription O…</td><td>&quot;CON(C)Cc1ccc(O…</td></tr><tr><td>&quot;CHEMBL31&quot;</td><td>&quot;GATIFLOXACIN&quot;</td><td>&quot;AM-1155|BMS-20…</td><td>&quot;AM-1155|BMS-20…</td><td>4.0</td><td>&quot;Apotex Inc|Bri…</td><td>&quot;&#x27;-oxacin&#x27;&quot;</td><td>&quot;1997&quot;</td><td>&quot;antibacterials…</td><td>&quot;&#x27;-oxacin(-oxac…</td><td>&quot;1999&quot;</td><td>&quot;S01AE06 | J01M…</td><td>&quot;S01AE - Fluoro…</td><td>&quot;S01A - ANTIINF…</td><td>&quot;S01 - OPHTHALM…</td><td>&quot;S - SENSORY OR…</td><td>&quot;Antibacterial&quot;</td><td>&quot;None&quot;</td><td>&quot;1:Synthetic Sm…</td><td>1</td><td>0</td><td>&quot;Racemic Mixtur…</td><td>0</td><td>1</td><td>1</td><td>1</td><td>0</td><td>&quot;Prescription O…</td><td>&quot;COc1c(N2CCNC(C…</td></tr><tr><td>&quot;CHEMBL3039597&quot;</td><td>&quot;GENTAMICIN&quot;</td><td>&quot;GENTAMICIN|GEN…</td><td>&quot;SCH-9724&quot;</td><td>4.0</td><td>&quot;Schering Corp …</td><td>&quot;&#x27;-micin&#x27;&quot;</td><td>&quot;1963&quot;</td><td>&quot;antibiotics (M…</td><td>&quot;&#x27;-micin(-micin…</td><td>&quot;1970&quot;</td><td>&quot;S01AA11 | S02A…</td><td>&quot;S01AA - Antibi…</td><td>&quot;S01A - ANTIINF…</td><td>&quot;S01 - OPHTHALM…</td><td>&quot;S - SENSORY OR…</td><td>&quot;Antibacterial&quot;</td><td>&quot;None&quot;</td><td>&quot;1:Synthetic Sm…</td><td>0</td><td>0</td><td>&quot;Unknown&quot;</td><td>0</td><td>0</td><td>1</td><td>1</td><td>1</td><td>&quot;Prescription O…</td><td>&quot;CNC(C)[C@@H]1C…</td></tr><tr><td>&quot;CHEMBL893&quot;</td><td>&quot;DICLOXACILLIN&quot;</td><td>&quot;BRL-1702|DICLO…</td><td>&quot;BRL-1702|R-134…</td><td>4.0</td><td>&quot;Teva Pharmaceu…</td><td>&quot;&#x27;-cillin&#x27;&quot;</td><td>&quot;1965&quot;</td><td>&quot;penicillins&quot;</td><td>&quot;&#x27;-cillin(-cill…</td><td>&quot;1968&quot;</td><td>&quot;J01CF01&quot;</td><td>&quot;J01CF - Beta-l…</td><td>&quot;J01C - BETA-LA…</td><td>&quot;J01 - ANTIBACT…</td><td>&quot;J - ANTIINFECT…</td><td>&quot;Antibacterial&quot;</td><td>&quot;None&quot;</td><td>&quot;1:Synthetic Sm…</td><td>1</td><td>0</td><td>&quot;Single Stereoi…</td><td>0</td><td>1</td><td>0</td><td>0</td><td>0</td><td>&quot;Prescription O…</td><td>&quot;Cc1onc(-c2c(Cl…</td></tr><tr><td>&quot;CHEMBL1449&quot;</td><td>&quot;TICARCILLIN&quot;</td><td>&quot;TICARCILLIN|Ti…</td><td>&quot;&quot;</td><td>4.0</td><td>&quot;Glaxosmithklin…</td><td>&quot;&#x27;-cillin&#x27;&quot;</td><td>&quot;1973&quot;</td><td>&quot;penicillins&quot;</td><td>&quot;&#x27;-cillin(-cill…</td><td>&quot;1976&quot;</td><td>&quot;J01CA13&quot;</td><td>&quot;J01CA - Penici…</td><td>&quot;J01C - BETA-LA…</td><td>&quot;J01 - ANTIBACT…</td><td>&quot;J - ANTIINFECT…</td><td>&quot;Antibacterial&quot;</td><td>&quot;None&quot;</td><td>&quot;1:Synthetic Sm…</td><td>1</td><td>0</td><td>&quot;Single Stereoi…</td><td>0</td><td>0</td><td>1</td><td>0</td><td>0</td><td>&quot;Prescription O…</td><td>&quot;CC1(C)S[C@@H]2…</td></tr><tr><td>&quot;CHEMBL1220&quot;</td><td>&quot;TINIDAZOLE&quot;</td><td>&quot;CP-12,574|CP-1…</td><td>&quot;CP-12,574|CP-1…</td><td>4.0</td><td>&quot;Mission Pharma…</td><td>&quot;&#x27;-nidazole&#x27;&quot;</td><td>&quot;1970&quot;</td><td>&quot;antiprotozoal …</td><td>&quot;&#x27;-nidazole(-ni…</td><td>&quot;2004&quot;</td><td>&quot;P01AB02 | J01X…</td><td>&quot;P01AB - Nitroi…</td><td>&quot;P01A - AGENTS …</td><td>&quot;P01 - ANTIPROT…</td><td>&quot;P - ANTIPARASI…</td><td>&quot;Antiprotozoal&quot;</td><td>&quot;None&quot;</td><td>&quot;1:Synthetic Sm…</td><td>1</td><td>0</td><td>&quot;Achiral Molecu…</td><td>1</td><td>1</td><td>0</td><td>0</td><td>1</td><td>&quot;Prescription O…</td><td>&quot;CCS(=O)(=O)CCn…</td></tr><tr><td>&quot;CHEMBL501122&quot;</td><td>&quot;CEFTAROLINE FO…</td><td>&quot;CEFTAROLINE FO…</td><td>&quot;PPI-0903|TAK 5…</td><td>4.0</td><td>&quot;Apotex Inc|All…</td><td>&quot;&#x27;cef-; fos-&#x27;&quot;</td><td>&quot;2006&quot;</td><td>&quot;cephalosporins…</td><td>&quot;&#x27;cef-(cef-); f…</td><td>&quot;2010&quot;</td><td>&quot;J01DI02&quot;</td><td>&quot;J01DI - Other …</td><td>&quot;J01D - OTHER B…</td><td>&quot;J01 - ANTIBACT…</td><td>&quot;J - ANTIINFECT…</td><td>&quot;&quot;</td><td>&quot;US-6417175-B1&quot;</td><td>&quot;1:Synthetic Sm…</td><td>0</td><td>0</td><td>&quot;Single Stereoi…</td><td>1</td><td>0</td><td>1</td><td>0</td><td>0</td><td>&quot;Prescription O…</td><td>&quot;CCO/N=C(\\C(=O)…</td></tr><tr><td>&quot;CHEMBL137&quot;</td><td>&quot;METRONIDAZOLE&quot;</td><td>&quot;ACEA|ANABACT|B…</td><td>&quot;BAY-5360|BAYER…</td><td>4.0</td><td>&quot;Inforlife Sa|L…</td><td>&quot;&#x27;-nidazole&#x27;&quot;</td><td>&quot;1962&quot;</td><td>&quot;antiprotozoal …</td><td>&quot;&#x27;-nidazole(-ni…</td><td>&quot;1963&quot;</td><td>&quot;D06BX01 | P01A…</td><td>&quot;D06BX - Other …</td><td>&quot;D06B - CHEMOTH…</td><td>&quot;D06 - ANTIBIOT…</td><td>&quot;D - DERMATOLOG…</td><td>&quot;Antibacterial,…</td><td>&quot;US-6881726-B2&quot;</td><td>&quot;1:Synthetic Sm…</td><td>1</td><td>0</td><td>&quot;Achiral Molecu…</td><td>0</td><td>1</td><td>1</td><td>1</td><td>1</td><td>&quot;Prescription O…</td><td>&quot;Cc1ncc([N+](=O…</td></tr><tr><td>&quot;CHEMBL376140&quot;</td><td>&quot;TIGECYCLINE&quot;</td><td>&quot;TIGECYCLINE|Ty…</td><td>&quot;WAY-GAR-936&quot;</td><td>4.0</td><td>&quot;Apotex Inc|Fre…</td><td>&quot;&#x27;-cycline&#x27;&quot;</td><td>&quot;2002&quot;</td><td>&quot;antibiotics (t…</td><td>&quot;&#x27;-cycline(-cyc…</td><td>&quot;2005&quot;</td><td>&quot;J01AA12&quot;</td><td>&quot;J01AA - Tetrac…</td><td>&quot;J01A - TETRACY…</td><td>&quot;J01 - ANTIBACT…</td><td>&quot;J - ANTIINFECT…</td><td>&quot;&quot;</td><td>&quot;US-7879828-B2&quot;</td><td>&quot;1:Synthetic Sm…</td><td>0</td><td>0</td><td>&quot;Single Stereoi…</td><td>0</td><td>0</td><td>1</td><td>0</td><td>1</td><td>&quot;Prescription O…</td><td>&quot;CN(C)c1cc(NC(=…</td></tr><tr><td>&quot;CHEMBL1741&quot;</td><td>&quot;CLARITHROMYCIN…</td><td>&quot;6-O-METHYLERYT…</td><td>&quot;A-56268|ABBOTT…</td><td>4.0</td><td>&quot;Sunshine Lake …</td><td>&quot;&#x27;-mycin&#x27;&quot;</td><td>&quot;1988&quot;</td><td>&quot;antibiotics (S…</td><td>&quot;&#x27;-mycin(-mycin…</td><td>&quot;1991&quot;</td><td>&quot;J01FA09&quot;</td><td>&quot;J01FA - Macrol…</td><td>&quot;J01F - MACROLI…</td><td>&quot;J01 - ANTIBACT…</td><td>&quot;J - ANTIINFECT…</td><td>&quot;Antibacterial&quot;</td><td>&quot;US-7977488-B2&quot;</td><td>&quot;1:Synthetic Sm…</td><td>0</td><td>0</td><td>&quot;Single Stereoi…</td><td>0</td><td>1</td><td>0</td><td>0</td><td>0</td><td>&quot;Prescription O…</td><td>&quot;CC[C@H]1OC(=O)…</td></tr><tr><td>&quot;CHEMBL1747&quot;</td><td>&quot;TOBRAMYCIN&quot;</td><td>&quot;47663|Aktob|BE…</td><td>&quot;47663|NSC-1805…</td><td>4.0</td><td>&quot;Igi Laboratori…</td><td>&quot;&#x27;-mycin&#x27;&quot;</td><td>&quot;1972&quot;</td><td>&quot;antibiotics (S…</td><td>&quot;&#x27;-mycin(-mycin…</td><td>&quot;1975&quot;</td><td>&quot;J01GB01 | S01A…</td><td>&quot;J01GB - Other …</td><td>&quot;J01G - AMINOGL…</td><td>&quot;J01 - ANTIBACT…</td><td>&quot;J - ANTIINFECT…</td><td>&quot;Antibacterial&quot;</td><td>&quot;US-6987094-B2&quot;</td><td>&quot;1:Synthetic Sm…</td><td>0</td><td>0</td><td>&quot;Single Stereoi…</td><td>0</td><td>0</td><td>1</td><td>1</td><td>1</td><td>&quot;Prescription O…</td><td>&quot;NC[C@H]1O[C@H]…</td></tr><tr><td>&hellip;</td><td>&hellip;</td><td>&hellip;</td><td>&hellip;</td><td>&hellip;</td><td>&hellip;</td><td>&hellip;</td><td>&hellip;</td><td>&hellip;</td><td>&hellip;</td><td>&hellip;</td><td>&hellip;</td><td>&hellip;</td><td>&hellip;</td><td>&hellip;</td><td>&hellip;</td><td>&hellip;</td><td>&hellip;</td><td>&hellip;</td><td>&hellip;</td><td>&hellip;</td><td>&hellip;</td><td>&hellip;</td><td>&hellip;</td><td>&hellip;</td><td>&hellip;</td><td>&hellip;</td><td>&hellip;</td><td>&hellip;</td></tr><tr><td>&quot;CHEMBL404&quot;</td><td>&quot;TAZOBACTAM&quot;</td><td>&quot;CL 298,741|CL-…</td><td>&quot;CL 298,741|CL-…</td><td>4.0</td><td>&quot;Wytells Pharma…</td><td>&quot;&#x27;-bactam&#x27;&quot;</td><td>&quot;1989&quot;</td><td>&quot;beta-lactamase…</td><td>&quot;&#x27;-bactam(-bact…</td><td>&quot;1993&quot;</td><td>&quot;J01CG02&quot;</td><td>&quot;J01CG - Beta-l…</td><td>&quot;J01C - BETA-LA…</td><td>&quot;J01 - ANTIBACT…</td><td>&quot;J - ANTIINFECT…</td><td>&quot;Inhibitor (bet…</td><td>&quot;US-6900184-B2&quot;</td><td>&quot;1:Synthetic Sm…</td><td>1</td><td>0</td><td>&quot;Single Stereoi…</td><td>0</td><td>0</td><td>1</td><td>0</td><td>0</td><td>&quot;Prescription O…</td><td>&quot;C[C@]1(Cn2ccnn…</td></tr><tr><td>&quot;CHEMBL1689772&quot;</td><td>&quot;OMADACYCLINE&quot;</td><td>&quot;AMADACYCLINE|B…</td><td>&quot;BAY 73-6944|PT…</td><td>4.0</td><td>&quot;Paratek Pharma…</td><td>&quot;&#x27;-cycline&#x27;&quot;</td><td>&quot;2009&quot;</td><td>&quot;antibiotics (t…</td><td>&quot;&#x27;-cycline(-cyc…</td><td>&quot;2018&quot;</td><td>&quot;J01AA15&quot;</td><td>&quot;J01AA - Tetrac…</td><td>&quot;J01A - TETRACY…</td><td>&quot;J01 - ANTIBACT…</td><td>&quot;J - ANTIINFECT…</td><td>&quot;&quot;</td><td>&quot;US-7326696-B2&quot;</td><td>&quot;1:Synthetic Sm…</td><td>0</td><td>0</td><td>&quot;Single Stereoi…</td><td>0</td><td>1</td><td>1</td><td>0</td><td>0</td><td>&quot;Prescription O…</td><td>&quot;CN(C)c1cc(CNCC…</td></tr><tr><td>&quot;CHEMBL3989974&quot;</td><td>&quot;CEFIDEROCOL&quot;</td><td>&quot;CEFIDEROCOL|GS…</td><td>&quot;GSK2696266|S-6…</td><td>4.0</td><td>&quot;Shionogi Inc&quot;</td><td>&quot;&#x27;cef-&#x27;&quot;</td><td>&quot;2017&quot;</td><td>&quot;cephalosporins…</td><td>&quot;&#x27;cef-(cef-)&#x27;&quot;</td><td>&quot;2019&quot;</td><td>&quot;J01DI04&quot;</td><td>&quot;J01DI - Other …</td><td>&quot;J01D - OTHER B…</td><td>&quot;J01 - ANTIBACT…</td><td>&quot;J - ANTIINFECT…</td><td>&quot;&quot;</td><td>&quot;US-9238657-B2&quot;</td><td>&quot;1:Synthetic Sm…</td><td>0</td><td>0</td><td>&quot;Single Stereoi…</td><td>0</td><td>0</td><td>1</td><td>0</td><td>0</td><td>&quot;Prescription O…</td><td>&quot;CC(C)(O/N=C(\\C…</td></tr><tr><td>&quot;CHEMBL1435&quot;</td><td>&quot;CEFAZOLIN&quot;</td><td>&quot;CEFAZOLIN|CEPH…</td><td>&quot;J01DB04|SK&amp;F-4…</td><td>4.0</td><td>&quot;Glaxosmithklin…</td><td>&quot;&#x27;cef-&#x27;&quot;</td><td>&quot;1972&quot;</td><td>&quot;cephalosporins…</td><td>&quot;&#x27;cef-(cef-)&#x27;&quot;</td><td>&quot;1973&quot;</td><td>&quot;J01DB04&quot;</td><td>&quot;J01DB - First-…</td><td>&quot;J01D - OTHER B…</td><td>&quot;J01 - ANTIBACT…</td><td>&quot;J - ANTIINFECT…</td><td>&quot;Antibacterial …</td><td>&quot;None&quot;</td><td>&quot;1:Synthetic Sm…</td><td>0</td><td>0</td><td>&quot;Single Stereoi…</td><td>0</td><td>0</td><td>1</td><td>0</td><td>0</td><td>&quot;Prescription O…</td><td>&quot;Cc1nnc(SCC2=C(…</td></tr><tr><td>&quot;CHEMBL3989751&quot;</td><td>&quot;NEOMYCIN&quot;</td><td>&quot;FRADIOMYCIN|KA…</td><td>&quot;&quot;</td><td>4.0</td><td>&quot;Bayer Pharmace…</td><td>&quot;&#x27;-mycin&#x27;&quot;</td><td>&quot;1966&quot;</td><td>&quot;antibiotics (S…</td><td>&quot;&#x27;-mycin(-mycin…</td><td>&quot;1957&quot;</td><td>&quot;R02AB01 | S01A…</td><td>&quot;R02AB - Antibi…</td><td>&quot;R02A - THROAT …</td><td>&quot;R02 - THROAT P…</td><td>&quot;R - RESPIRATOR…</td><td>&quot;&quot;</td><td>&quot;None&quot;</td><td>&quot;1:Synthetic Sm…</td><td>0</td><td>0</td><td>&quot;Single Stereoi…</td><td>0</td><td>1</td><td>0</td><td>1</td><td>1</td><td>&quot;Prescription O…</td><td>&quot;&quot;</td></tr><tr><td>&quot;CHEMBL572&quot;</td><td>&quot;NITROFURANTOIN…</td><td>&quot;BERKFURIN|CEDU…</td><td>&quot;NSC-2107|NSC-4…</td><td>4.0</td><td>&quot;Sun Pharmaceut…</td><td>&quot;&#x27;-toin&#x27;&quot;</td><td>&quot;&quot;</td><td>&quot;antiepileptics…</td><td>&quot;&#x27;-toin(-toin)&#x27;…</td><td>&quot;1953&quot;</td><td>&quot;J01XE01 | J01X…</td><td>&quot;J01XE - Nitrof…</td><td>&quot;J01X - OTHER A…</td><td>&quot;J01 - ANTIBACT…</td><td>&quot;J - ANTIINFECT…</td><td>&quot;Antibacterial …</td><td>&quot;None&quot;</td><td>&quot;1:Synthetic Sm…</td><td>1</td><td>0</td><td>&quot;Achiral Molecu…</td><td>0</td><td>1</td><td>1</td><td>0</td><td>0</td><td>&quot;Prescription O…</td><td>&quot;O=C1CN(/N=C/c2…</td></tr><tr><td>&quot;CHEMBL44354&quot;</td><td>&quot;CEFTAZIDIME&quot;</td><td>&quot;CEFTAZIDIME|CE…</td><td>&quot;GR 20263|GR-20…</td><td>4.0</td><td>&quot;Glaxosmithklin…</td><td>&quot;&#x27;cef-&#x27;&quot;</td><td>&quot;1980&quot;</td><td>&quot;cephalosporins…</td><td>&quot;&#x27;cef-(cef-)&#x27;&quot;</td><td>&quot;1985&quot;</td><td>&quot;J01DD02&quot;</td><td>&quot;J01DD - Third-…</td><td>&quot;J01D - OTHER B…</td><td>&quot;J01 - ANTIBACT…</td><td>&quot;J - ANTIINFECT…</td><td>&quot;Antibacterial&quot;</td><td>&quot;US-7112592-B2&quot;</td><td>&quot;1:Synthetic Sm…</td><td>0</td><td>0</td><td>&quot;Single Stereoi…</td><td>0</td><td>0</td><td>1</td><td>0</td><td>1</td><td>&quot;Prescription O…</td><td>&quot;CC(C)(O/N=C(\\C…</td></tr><tr><td>&quot;CHEMBL29&quot;</td><td>&quot;BENZYLPENICILL…</td><td>&quot;BENZYL PENICIL…</td><td>&quot;J01CE01|NSC-19…</td><td>4.0</td><td>&quot;Hq Specialty P…</td><td>&quot;&#x27;-cillin&#x27;&quot;</td><td>&quot;&quot;</td><td>&quot;penicillins&quot;</td><td>&quot;&#x27;-cillin(-cill…</td><td>&quot;1947&quot;</td><td>&quot;J01CE01 | S01A…</td><td>&quot;J01CE - Beta-l…</td><td>&quot;J01C - BETA-LA…</td><td>&quot;J01 - ANTIBACT…</td><td>&quot;J - ANTIINFECT…</td><td>&quot;Antibacterial&quot;</td><td>&quot;None&quot;</td><td>&quot;1:Synthetic Sm…</td><td>1</td><td>0</td><td>&quot;Single Stereoi…</td><td>0</td><td>1</td><td>1</td><td>0</td><td>1</td><td>&quot;Prescription O…</td><td>&quot;CC1(C)S[C@@H]2…</td></tr><tr><td>&quot;CHEMBL8&quot;</td><td>&quot;CIPROFLOXACIN&quot;</td><td>&quot;BAY O 9867 FRE…</td><td>&quot;BAY O 9867 FRE…</td><td>4.0</td><td>&quot;Inforlife Sa|A…</td><td>&quot;&#x27;-oxacin&#x27;&quot;</td><td>&quot;1987&quot;</td><td>&quot;antibacterials…</td><td>&quot;&#x27;-oxacin(-oxac…</td><td>&quot;1987&quot;</td><td>&quot;J01MA02 | S03A…</td><td>&quot;J01MA - Fluoro…</td><td>&quot;J01M - QUINOLO…</td><td>&quot;J01 - ANTIBACT…</td><td>&quot;J - ANTIINFECT…</td><td>&quot;Antibacterial&quot;</td><td>&quot;US-8318817-B2&quot;</td><td>&quot;1:Synthetic Sm…</td><td>1</td><td>0</td><td>&quot;Achiral Molecu…</td><td>0</td><td>1</td><td>1</td><td>1</td><td>1</td><td>&quot;Prescription O…</td><td>&quot;O=C(O)c1cn(C2C…</td></tr><tr><td>&quot;CHEMBL9&quot;</td><td>&quot;NORFLOXACIN&quot;</td><td>&quot;Baccidal|CHIBR…</td><td>&quot;MK-366|NSC-757…</td><td>4.0</td><td>&quot;Merck Research…</td><td>&quot;&#x27;-oxacin&#x27;&quot;</td><td>&quot;1984&quot;</td><td>&quot;antibacterials…</td><td>&quot;&#x27;-oxacin(-oxac…</td><td>&quot;1986&quot;</td><td>&quot;J01MA06 | S01A…</td><td>&quot;J01MA - Fluoro…</td><td>&quot;J01M - QUINOLO…</td><td>&quot;J01 - ANTIBACT…</td><td>&quot;J - ANTIINFECT…</td><td>&quot;Antibacterial&quot;</td><td>&quot;None&quot;</td><td>&quot;1:Synthetic Sm…</td><td>1</td><td>0</td><td>&quot;Achiral Molecu…</td><td>0</td><td>1</td><td>0</td><td>1</td><td>1</td><td>&quot;Prescription O…</td><td>&quot;CCn1cc(C(=O)O)…</td></tr><tr><td>&quot;CHEMBL21&quot;</td><td>&quot;SULFANILAMIDE&quot;</td><td>&quot;ANILINE-P-SULF…</td><td>&quot;NSC-7618&quot;</td><td>4.0</td><td>&quot;Mylan Specialt…</td><td>&quot;&#x27;sulfa-&#x27;&quot;</td><td>&quot;&quot;</td><td>&quot;antimicrobials…</td><td>&quot;&#x27;sulfa-(sulfa-…</td><td>&quot;1985&quot;</td><td>&quot;D06BA05 | J01E…</td><td>&quot;D06BA - Sulfon…</td><td>&quot;D06B - CHEMOTH…</td><td>&quot;D06 - ANTIBIOT…</td><td>&quot;D - DERMATOLOG…</td><td>&quot;&quot;</td><td>&quot;None&quot;</td><td>&quot;1:Synthetic Sm…</td><td>1</td><td>0</td><td>&quot;Achiral Molecu…</td><td>0</td><td>0</td><td>0</td><td>1</td><td>0</td><td>&quot;Prescription O…</td><td>&quot;Nc1ccc(S(N)(=O…</td></tr><tr><td>&quot;CHEMBL4&quot;</td><td>&quot;OFLOXACIN&quot;</td><td>&quot;DL-8280|EXOCIN…</td><td>&quot;DL-8280|HOE 28…</td><td>4.0</td><td>&quot;Bausch And Lom…</td><td>&quot;&#x27;-oxacin&#x27;&quot;</td><td>&quot;1984&quot;</td><td>&quot;antibacterials…</td><td>&quot;&#x27;-oxacin(-oxac…</td><td>&quot;1990&quot;</td><td>&quot;J01MA01 | S02A…</td><td>&quot;J01MA - Fluoro…</td><td>&quot;J01M - QUINOLO…</td><td>&quot;J01 - ANTIBACT…</td><td>&quot;J - ANTIINFECT…</td><td>&quot;Antibacterial&quot;</td><td>&quot;None&quot;</td><td>&quot;1:Synthetic Sm…</td><td>1</td><td>0</td><td>&quot;Racemic Mixtur…</td><td>0</td><td>1</td><td>1</td><td>1</td><td>1</td><td>&quot;Prescription O…</td><td>&quot;CC1COc2c(N3CCN…</td></tr></tbody></table></div>"
            ],
            "text/plain": [
              "shape: (72, 29)\n",
              "┌────────────┬───────────┬──────────┬────────────┬───┬─────────┬───────────┬────────────┬──────────┐\n",
              "│ Parent     ┆ Name      ┆ Synonyms ┆ Research   ┆ … ┆ Topical ┆ Black Box ┆ Availabili ┆ Smiles   │\n",
              "│ Molecule   ┆ ---       ┆ ---      ┆ Codes      ┆   ┆ ---     ┆ ---       ┆ ty Type    ┆ ---      │\n",
              "│ ---        ┆ str       ┆ str      ┆ ---        ┆   ┆ i64     ┆ i64       ┆ ---        ┆ str      │\n",
              "│ str        ┆           ┆          ┆ str        ┆   ┆         ┆           ┆ str        ┆          │\n",
              "╞════════════╪═══════════╪══════════╪════════════╪═══╪═════════╪═══════════╪════════════╪══════════╡\n",
              "│ CHEMBL186  ┆ CEFEPIME  ┆ BMY-2814 ┆ BMY-28142| ┆ … ┆ 0       ┆ 0         ┆ Prescripti ┆ CO/N=C(\\ │\n",
              "│            ┆           ┆ 2|CEFEPI ┆ J01DE01|VN ┆   ┆         ┆           ┆ on Only    ┆ C(=O)N[C │\n",
              "│            ┆           ┆ ME|J01DE ┆ RX-5022    ┆   ┆         ┆           ┆            ┆ @@H]1C(= │\n",
              "│            ┆           ┆ 01|Maxip ┆            ┆   ┆         ┆           ┆            ┆ O)N2C(C( │\n",
              "│            ┆           ┆ …        ┆            ┆   ┆         ┆           ┆            ┆ …        │\n",
              "│ CHEMBL2364 ┆ SARECYCLI ┆ P-005672 ┆ P-005672|P ┆ … ┆ 0       ┆ 0         ┆ Prescripti ┆ CON(C)Cc │\n",
              "│ 632        ┆ NE        ┆ |P005672 ┆ 005672     ┆   ┆         ┆           ┆ on Only    ┆ 1ccc(O)c │\n",
              "│            ┆           ┆ |SARECYC ┆            ┆   ┆         ┆           ┆            ┆ 2c1C[C@H │\n",
              "│            ┆           ┆ LINE     ┆            ┆   ┆         ┆           ┆            ┆ ]1C[C@H] │\n",
              "│            ┆           ┆          ┆            ┆   ┆         ┆           ┆            ┆ …        │\n",
              "│ CHEMBL31   ┆ GATIFLOXA ┆ AM-1155| ┆ AM-1155|BM ┆ … ┆ 1       ┆ 0         ┆ Prescripti ┆ COc1c(N2 │\n",
              "│            ┆ CIN       ┆ BMS-2065 ┆ S-206584-0 ┆   ┆         ┆           ┆ on Only    ┆ CCNC(C)C │\n",
              "│            ┆           ┆ 84-01|BM ┆ 1|BMS-2065 ┆   ┆         ┆           ┆            ┆ 2)c(F)cc │\n",
              "│            ┆           ┆ S-206584 ┆ 84…        ┆   ┆         ┆           ┆            ┆ 2c(=O)c( │\n",
              "│            ┆           ┆ …        ┆            ┆   ┆         ┆           ┆            ┆ …        │\n",
              "│ CHEMBL3039 ┆ GENTAMICI ┆ GENTAMIC ┆ SCH-9724   ┆ … ┆ 1       ┆ 1         ┆ Prescripti ┆ CNC(C)[C │\n",
              "│ 597        ┆ N         ┆ IN|GENTA ┆            ┆   ┆         ┆           ┆ on Only    ┆ @@H]1CC[ │\n",
              "│            ┆           ┆ MYCIN|LY ┆            ┆   ┆         ┆           ┆            ┆ C@@H](N) │\n",
              "│            ┆           ┆ RAMYCIN| ┆            ┆   ┆         ┆           ┆            ┆ [C@@H](O │\n",
              "│            ┆           ┆ …        ┆            ┆   ┆         ┆           ┆            ┆ …        │\n",
              "│ …          ┆ …         ┆ …        ┆ …          ┆ … ┆ …       ┆ …         ┆ …          ┆ …        │\n",
              "│ CHEMBL8    ┆ CIPROFLOX ┆ BAY O    ┆ BAY O 9867 ┆ … ┆ 1       ┆ 1         ┆ Prescripti ┆ O=C(O)c1 │\n",
              "│            ┆ ACIN      ┆ 9867     ┆ FREE       ┆   ┆         ┆           ┆ on Only    ┆ cn(C2CC2 │\n",
              "│            ┆           ┆ FREE     ┆ BASE|BAY Q ┆   ┆         ┆           ┆            ┆ )c2cc(N3 │\n",
              "│            ┆           ┆ BASE|BAY ┆ 3939|…     ┆   ┆         ┆           ┆            ┆ CCNCC3)c │\n",
              "│            ┆           ┆ Q 3939|… ┆            ┆   ┆         ┆           ┆            ┆ …        │\n",
              "│ CHEMBL9    ┆ NORFLOXAC ┆ Baccidal ┆ MK-366|NSC ┆ … ┆ 1       ┆ 1         ┆ Prescripti ┆ CCn1cc(C │\n",
              "│            ┆ IN        ┆ |CHIBROX ┆ -757250    ┆   ┆         ┆           ┆ on Only    ┆ (=O)O)c( │\n",
              "│            ┆           ┆ IN|MK-36 ┆            ┆   ┆         ┆           ┆            ┆ =O)c2cc( │\n",
              "│            ┆           ┆ 6|NORFLO ┆            ┆   ┆         ┆           ┆            ┆ F)c(N3CC │\n",
              "│            ┆           ┆ …        ┆            ┆   ┆         ┆           ┆            ┆ …        │\n",
              "│ CHEMBL21   ┆ SULFANILA ┆ ANILINE- ┆ NSC-7618   ┆ … ┆ 1       ┆ 0         ┆ Prescripti ┆ Nc1ccc(S │\n",
              "│            ┆ MIDE      ┆ P-SULFON ┆            ┆   ┆         ┆           ┆ on Only    ┆ (N)(=O)= │\n",
              "│            ┆           ┆ IC AMIDE ┆            ┆   ┆         ┆           ┆            ┆ O)cc1    │\n",
              "│            ┆           ┆ |NSC-761 ┆            ┆   ┆         ┆           ┆            ┆          │\n",
              "│            ┆           ┆ …        ┆            ┆   ┆         ┆           ┆            ┆          │\n",
              "│ CHEMBL4    ┆ OFLOXACIN ┆ DL-8280| ┆ DL-8280|HO ┆ … ┆ 1       ┆ 1         ┆ Prescripti ┆ CC1COc2c │\n",
              "│            ┆           ┆ EXOCIN|F ┆ E 280|HOE- ┆   ┆         ┆           ┆ on Only    ┆ (N3CCN(C │\n",
              "│            ┆           ┆ LOXIN    ┆ 280|J01MA0 ┆   ┆         ┆           ┆            ┆ )CC3)c(F │\n",
              "│            ┆           ┆ OTIC|Flo ┆ 1|…        ┆   ┆         ┆           ┆            ┆ )cc3c(=O │\n",
              "│            ┆           ┆ xi…      ┆            ┆   ┆         ┆           ┆            ┆ …        │\n",
              "└────────────┴───────────┴──────────┴────────────┴───┴─────────┴───────────┴────────────┴──────────┘"
            ]
          },
          "execution_count": 5,
          "metadata": {},
          "output_type": "execute_result"
        }
      ],
      "source": [
        "df_ai_rx = df_ai.filter(pl.col(\"Availability Type\") == \"Prescription Only\")\n",
        "df_ai_rx"
      ]
    },
    {
      "cell_type": "code",
      "execution_count": 6,
      "metadata": {},
      "outputs": [
        {
          "data": {
            "text/html": [
              "<div><style>\n",
              ".dataframe > thead > tr > th,\n",
              ".dataframe > tbody > tr > td {\n",
              "  text-align: right;\n",
              "}\n",
              "</style>\n",
              "<small>shape: (9, 30)</small><table border=\"1\" class=\"dataframe\"><thead><tr><th>describe</th><th>Parent Molecule</th><th>Name</th><th>Synonyms</th><th>Research Codes</th><th>Phase</th><th>Drug Applicants</th><th>USAN Stem</th><th>USAN Year</th><th>USAN Definition</th><th>USAN Stem - Substem</th><th>First Approval</th><th>ATC Codes</th><th>Level 4 ATC Codes</th><th>Level 3 ATC Codes</th><th>Level 2 ATC Codes</th><th>Level 1 ATC Codes</th><th>Indication Class</th><th>Patent</th><th>Drug Type</th><th>Passes Rule of Five</th><th>First In Class</th><th>Chirality</th><th>Prodrug</th><th>Oral</th><th>Parenteral</th><th>Topical</th><th>Black Box</th><th>Availability Type</th><th>Smiles</th></tr><tr><td>str</td><td>str</td><td>str</td><td>str</td><td>str</td><td>f64</td><td>str</td><td>str</td><td>str</td><td>str</td><td>str</td><td>str</td><td>str</td><td>str</td><td>str</td><td>str</td><td>str</td><td>str</td><td>str</td><td>str</td><td>f64</td><td>f64</td><td>str</td><td>f64</td><td>f64</td><td>f64</td><td>f64</td><td>f64</td><td>str</td><td>str</td></tr></thead><tbody><tr><td>&quot;count&quot;</td><td>&quot;72&quot;</td><td>&quot;72&quot;</td><td>&quot;72&quot;</td><td>&quot;72&quot;</td><td>72.0</td><td>&quot;72&quot;</td><td>&quot;72&quot;</td><td>&quot;72&quot;</td><td>&quot;72&quot;</td><td>&quot;72&quot;</td><td>&quot;72&quot;</td><td>&quot;72&quot;</td><td>&quot;72&quot;</td><td>&quot;72&quot;</td><td>&quot;72&quot;</td><td>&quot;72&quot;</td><td>&quot;72&quot;</td><td>&quot;72&quot;</td><td>&quot;72&quot;</td><td>72.0</td><td>72.0</td><td>&quot;72&quot;</td><td>72.0</td><td>72.0</td><td>72.0</td><td>72.0</td><td>72.0</td><td>&quot;72&quot;</td><td>&quot;72&quot;</td></tr><tr><td>&quot;null_count&quot;</td><td>&quot;0&quot;</td><td>&quot;0&quot;</td><td>&quot;0&quot;</td><td>&quot;0&quot;</td><td>0.0</td><td>&quot;0&quot;</td><td>&quot;0&quot;</td><td>&quot;0&quot;</td><td>&quot;0&quot;</td><td>&quot;0&quot;</td><td>&quot;0&quot;</td><td>&quot;0&quot;</td><td>&quot;0&quot;</td><td>&quot;0&quot;</td><td>&quot;0&quot;</td><td>&quot;0&quot;</td><td>&quot;0&quot;</td><td>&quot;0&quot;</td><td>&quot;0&quot;</td><td>0.0</td><td>0.0</td><td>&quot;0&quot;</td><td>0.0</td><td>0.0</td><td>0.0</td><td>0.0</td><td>0.0</td><td>&quot;0&quot;</td><td>&quot;0&quot;</td></tr><tr><td>&quot;mean&quot;</td><td>null</td><td>null</td><td>null</td><td>null</td><td>4.0</td><td>null</td><td>null</td><td>null</td><td>null</td><td>null</td><td>null</td><td>null</td><td>null</td><td>null</td><td>null</td><td>null</td><td>null</td><td>null</td><td>null</td><td>0.583333</td><td>0.0</td><td>null</td><td>0.041667</td><td>0.611111</td><td>0.694444</td><td>0.25</td><td>0.333333</td><td>null</td><td>null</td></tr><tr><td>&quot;std&quot;</td><td>null</td><td>null</td><td>null</td><td>null</td><td>0.0</td><td>null</td><td>null</td><td>null</td><td>null</td><td>null</td><td>null</td><td>null</td><td>null</td><td>null</td><td>null</td><td>null</td><td>null</td><td>null</td><td>null</td><td>0.496466</td><td>0.0</td><td>null</td><td>0.201229</td><td>0.490919</td><td>0.463875</td><td>0.436051</td><td>0.474713</td><td>null</td><td>null</td></tr><tr><td>&quot;min&quot;</td><td>&quot;CHEMBL1082&quot;</td><td>&quot;AMIKACIN&quot;</td><td>&quot;47663|Aktob|BE…</td><td>&quot;&quot;</td><td>4.0</td><td>&quot;Alkem Laborato…</td><td>&quot;&quot;</td><td>&quot;&quot;</td><td>&quot;&quot;</td><td>&quot;&quot;</td><td>&quot;1941&quot;</td><td>&quot;A01AB23 | D10A…</td><td>&quot;A01AB - Antiin…</td><td>&quot;A01A - STOMATO…</td><td>&quot;A01 - STOMATOL…</td><td>&quot;A - ALIMENTARY…</td><td>&quot;&quot;</td><td>&quot;None&quot;</td><td>&quot;1:Synthetic Sm…</td><td>0.0</td><td>0.0</td><td>&quot;Achiral Molecu…</td><td>0.0</td><td>0.0</td><td>0.0</td><td>0.0</td><td>0.0</td><td>&quot;Prescription O…</td><td>&quot;&quot;</td></tr><tr><td>&quot;max&quot;</td><td>&quot;CHEMBL996&quot;</td><td>&quot;VANCOMYCIN&quot;</td><td>&quot;VANCOMYCIN|Van…</td><td>&quot;WAY-GAR-936&quot;</td><td>4.0</td><td>&quot;Xiromed Pharma…</td><td>&quot;&#x27;sulfa-&#x27;&quot;</td><td>&quot;2017&quot;</td><td>&quot;vancomycin-rel…</td><td>&quot;&#x27;sulfa-(sulfa-…</td><td>&quot;2019&quot;</td><td>&quot;S01AE06 | J01M…</td><td>&quot;S01AE - Fluoro…</td><td>&quot;S01A - ANTIINF…</td><td>&quot;S01 - OPHTHALM…</td><td>&quot;S - SENSORY OR…</td><td>&quot;Inhibitor (bet…</td><td>&quot;US-9238657-B2&quot;</td><td>&quot;1:Synthetic Sm…</td><td>1.0</td><td>0.0</td><td>&quot;Unknown&quot;</td><td>1.0</td><td>1.0</td><td>1.0</td><td>1.0</td><td>1.0</td><td>&quot;Prescription O…</td><td>&quot;O=C1CN(/N=C/c2…</td></tr><tr><td>&quot;median&quot;</td><td>null</td><td>null</td><td>null</td><td>null</td><td>4.0</td><td>null</td><td>null</td><td>null</td><td>null</td><td>null</td><td>null</td><td>null</td><td>null</td><td>null</td><td>null</td><td>null</td><td>null</td><td>null</td><td>null</td><td>1.0</td><td>0.0</td><td>null</td><td>0.0</td><td>1.0</td><td>1.0</td><td>0.0</td><td>0.0</td><td>null</td><td>null</td></tr><tr><td>&quot;25%&quot;</td><td>null</td><td>null</td><td>null</td><td>null</td><td>4.0</td><td>null</td><td>null</td><td>null</td><td>null</td><td>null</td><td>null</td><td>null</td><td>null</td><td>null</td><td>null</td><td>null</td><td>null</td><td>null</td><td>null</td><td>0.0</td><td>0.0</td><td>null</td><td>0.0</td><td>0.0</td><td>0.0</td><td>0.0</td><td>0.0</td><td>null</td><td>null</td></tr><tr><td>&quot;75%&quot;</td><td>null</td><td>null</td><td>null</td><td>null</td><td>4.0</td><td>null</td><td>null</td><td>null</td><td>null</td><td>null</td><td>null</td><td>null</td><td>null</td><td>null</td><td>null</td><td>null</td><td>null</td><td>null</td><td>null</td><td>1.0</td><td>0.0</td><td>null</td><td>0.0</td><td>1.0</td><td>1.0</td><td>1.0</td><td>1.0</td><td>null</td><td>null</td></tr></tbody></table></div>"
            ],
            "text/plain": [
              "shape: (9, 30)\n",
              "┌───────────┬────────────┬───────────┬──────────┬───┬──────────┬───────────┬────────────┬──────────┐\n",
              "│ describe  ┆ Parent     ┆ Name      ┆ Synonyms ┆ … ┆ Topical  ┆ Black Box ┆ Availabili ┆ Smiles   │\n",
              "│ ---       ┆ Molecule   ┆ ---       ┆ ---      ┆   ┆ ---      ┆ ---       ┆ ty Type    ┆ ---      │\n",
              "│ str       ┆ ---        ┆ str       ┆ str      ┆   ┆ f64      ┆ f64       ┆ ---        ┆ str      │\n",
              "│           ┆ str        ┆           ┆          ┆   ┆          ┆           ┆ str        ┆          │\n",
              "╞═══════════╪════════════╪═══════════╪══════════╪═══╪══════════╪═══════════╪════════════╪══════════╡\n",
              "│ count     ┆ 72         ┆ 72        ┆ 72       ┆ … ┆ 72.0     ┆ 72.0      ┆ 72         ┆ 72       │\n",
              "│ null_coun ┆ 0          ┆ 0         ┆ 0        ┆ … ┆ 0.0      ┆ 0.0       ┆ 0          ┆ 0        │\n",
              "│ t         ┆            ┆           ┆          ┆   ┆          ┆           ┆            ┆          │\n",
              "│ mean      ┆ null       ┆ null      ┆ null     ┆ … ┆ 0.25     ┆ 0.333333  ┆ null       ┆ null     │\n",
              "│ std       ┆ null       ┆ null      ┆ null     ┆ … ┆ 0.436051 ┆ 0.474713  ┆ null       ┆ null     │\n",
              "│ min       ┆ CHEMBL1082 ┆ AMIKACIN  ┆ 47663|Ak ┆ … ┆ 0.0      ┆ 0.0       ┆ Prescripti ┆          │\n",
              "│           ┆            ┆           ┆ tob|BETH ┆   ┆          ┆           ┆ on Only    ┆          │\n",
              "│           ┆            ┆           ┆ KIS|BRAM ┆   ┆          ┆           ┆            ┆          │\n",
              "│           ┆            ┆           ┆ ITOB|KIT ┆   ┆          ┆           ┆            ┆          │\n",
              "│           ┆            ┆           ┆ …        ┆   ┆          ┆           ┆            ┆          │\n",
              "│ max       ┆ CHEMBL996  ┆ VANCOMYCI ┆ VANCOMYC ┆ … ┆ 1.0      ┆ 1.0       ┆ Prescripti ┆ O=C1CN(/ │\n",
              "│           ┆            ┆ N         ┆ IN|Vanco ┆   ┆          ┆           ┆ on Only    ┆ N=C/c2cc │\n",
              "│           ┆            ┆           ┆ led|Vanc ┆   ┆          ┆           ┆            ┆ c([N+](= │\n",
              "│           ┆            ┆           ┆ omycin|V ┆   ┆          ┆           ┆            ┆ O)[O-])o │\n",
              "│           ┆            ┆           ┆ …        ┆   ┆          ┆           ┆            ┆ …        │\n",
              "│ median    ┆ null       ┆ null      ┆ null     ┆ … ┆ 0.0      ┆ 0.0       ┆ null       ┆ null     │\n",
              "│ 25%       ┆ null       ┆ null      ┆ null     ┆ … ┆ 0.0      ┆ 0.0       ┆ null       ┆ null     │\n",
              "│ 75%       ┆ null       ┆ null      ┆ null     ┆ … ┆ 1.0      ┆ 1.0       ┆ null       ┆ null     │\n",
              "└───────────┴────────────┴───────────┴──────────┴───┴──────────┴───────────┴────────────┴──────────┘"
            ]
          },
          "execution_count": 6,
          "metadata": {},
          "output_type": "execute_result"
        }
      ],
      "source": [
        "df_ai_rx.describe()"
      ]
    },
    {
      "cell_type": "code",
      "execution_count": 11,
      "metadata": {},
      "outputs": [
        {
          "data": {
            "text/html": [
              "<div><style>\n",
              ".dataframe > thead > tr > th,\n",
              ".dataframe > tbody > tr > td {\n",
              "  text-align: right;\n",
              "}\n",
              "</style>\n",
              "<small>shape: (1, 29)</small><table border=\"1\" class=\"dataframe\"><thead><tr><th>Parent Molecule</th><th>Name</th><th>Synonyms</th><th>Research Codes</th><th>Phase</th><th>Drug Applicants</th><th>USAN Stem</th><th>USAN Year</th><th>USAN Definition</th><th>USAN Stem - Substem</th><th>First Approval</th><th>ATC Codes</th><th>Level 4 ATC Codes</th><th>Level 3 ATC Codes</th><th>Level 2 ATC Codes</th><th>Level 1 ATC Codes</th><th>Indication Class</th><th>Patent</th><th>Drug Type</th><th>Passes Rule of Five</th><th>First In Class</th><th>Chirality</th><th>Prodrug</th><th>Oral</th><th>Parenteral</th><th>Topical</th><th>Black Box</th><th>Availability Type</th><th>Smiles</th></tr><tr><td>str</td><td>str</td><td>str</td><td>str</td><td>f64</td><td>str</td><td>str</td><td>str</td><td>str</td><td>str</td><td>str</td><td>str</td><td>str</td><td>str</td><td>str</td><td>str</td><td>str</td><td>str</td><td>str</td><td>i64</td><td>i64</td><td>str</td><td>i64</td><td>i64</td><td>i64</td><td>i64</td><td>i64</td><td>str</td><td>str</td></tr></thead><tbody><tr><td>&quot;CHEMBL3989751&quot;</td><td>&quot;NEOMYCIN&quot;</td><td>&quot;FRADIOMYCIN|KA…</td><td>&quot;&quot;</td><td>4.0</td><td>&quot;Bayer Pharmace…</td><td>&quot;&#x27;-mycin&#x27;&quot;</td><td>&quot;1966&quot;</td><td>&quot;antibiotics (S…</td><td>&quot;&#x27;-mycin(-mycin…</td><td>&quot;1957&quot;</td><td>&quot;R02AB01 | S01A…</td><td>&quot;R02AB - Antibi…</td><td>&quot;R02A - THROAT …</td><td>&quot;R02 - THROAT P…</td><td>&quot;R - RESPIRATOR…</td><td>&quot;&quot;</td><td>&quot;None&quot;</td><td>&quot;1:Synthetic Sm…</td><td>0</td><td>0</td><td>&quot;Single Stereoi…</td><td>0</td><td>1</td><td>0</td><td>1</td><td>1</td><td>&quot;Prescription O…</td><td>&quot;&quot;</td></tr></tbody></table></div>"
            ],
            "text/plain": [
              "shape: (1, 29)\n",
              "┌────────────┬──────────┬─────────────┬────────────┬───┬─────────┬───────────┬────────────┬────────┐\n",
              "│ Parent     ┆ Name     ┆ Synonyms    ┆ Research   ┆ … ┆ Topical ┆ Black Box ┆ Availabili ┆ Smiles │\n",
              "│ Molecule   ┆ ---      ┆ ---         ┆ Codes      ┆   ┆ ---     ┆ ---       ┆ ty Type    ┆ ---    │\n",
              "│ ---        ┆ str      ┆ str         ┆ ---        ┆   ┆ i64     ┆ i64       ┆ ---        ┆ str    │\n",
              "│ str        ┆          ┆             ┆ str        ┆   ┆         ┆           ┆ str        ┆        │\n",
              "╞════════════╪══════════╪═════════════╪════════════╪═══╪═════════╪═══════════╪════════════╪════════╡\n",
              "│ CHEMBL3989 ┆ NEOMYCIN ┆ FRADIOMYCIN ┆            ┆ … ┆ 1       ┆ 1         ┆ Prescripti ┆        │\n",
              "│ 751        ┆          ┆ |KAOMYCINE| ┆            ┆   ┆         ┆           ┆ on Only    ┆        │\n",
              "│            ┆          ┆ NEOLATE|NE… ┆            ┆   ┆         ┆           ┆            ┆        │\n",
              "└────────────┴──────────┴─────────────┴────────────┴───┴─────────┴───────────┴────────────┴────────┘"
            ]
          },
          "execution_count": 11,
          "metadata": {},
          "output_type": "execute_result"
        }
      ],
      "source": [
        "# Spot the missing/empty SMILES\n",
        "df_ai_rx.filter(pl.col(\"Smiles\") == \"\")"
      ]
    },
    {
      "cell_type": "code",
      "execution_count": null,
      "metadata": {},
      "outputs": [],
      "source": [
        "# Example from StackOverflow - https://stackoverflow.com/questions/72292048/idiomatic-replacement-of-empty-string-with-pl-null-null-in-polars\n",
        "# only_these = ['str1', 'str2']\n",
        "# df.with_columns([\n",
        "#     pl.when(pl.col(only_these).str.lengths() == 0)\n",
        "#     .then(None)\n",
        "#     .otherwise(pl.col(only_these))\n",
        "#     .keep_name()\n",
        "# ])"
      ]
    },
    {
      "cell_type": "code",
      "execution_count": 28,
      "metadata": {},
      "outputs": [
        {
          "data": {
            "text/html": [
              "<div><style>\n",
              ".dataframe > thead > tr > th,\n",
              ".dataframe > tbody > tr > td {\n",
              "  text-align: right;\n",
              "}\n",
              "</style>\n",
              "<small>shape: (72, 29)</small><table border=\"1\" class=\"dataframe\"><thead><tr><th>Parent Molecule</th><th>Name</th><th>Synonyms</th><th>Research Codes</th><th>Phase</th><th>Drug Applicants</th><th>USAN Stem</th><th>USAN Year</th><th>USAN Definition</th><th>USAN Stem - Substem</th><th>First Approval</th><th>ATC Codes</th><th>Level 4 ATC Codes</th><th>Level 3 ATC Codes</th><th>Level 2 ATC Codes</th><th>Level 1 ATC Codes</th><th>Indication Class</th><th>Patent</th><th>Drug Type</th><th>Passes Rule of Five</th><th>First In Class</th><th>Chirality</th><th>Prodrug</th><th>Oral</th><th>Parenteral</th><th>Topical</th><th>Black Box</th><th>Availability Type</th><th>Smiles</th></tr><tr><td>str</td><td>str</td><td>str</td><td>str</td><td>f64</td><td>str</td><td>str</td><td>str</td><td>str</td><td>str</td><td>str</td><td>str</td><td>str</td><td>str</td><td>str</td><td>str</td><td>str</td><td>str</td><td>str</td><td>i64</td><td>i64</td><td>str</td><td>i64</td><td>i64</td><td>i64</td><td>i64</td><td>i64</td><td>str</td><td>str</td></tr></thead><tbody><tr><td>&quot;CHEMBL186&quot;</td><td>&quot;CEFEPIME&quot;</td><td>&quot;BMY-28142|CEFE…</td><td>&quot;BMY-28142|J01D…</td><td>4.0</td><td>&quot;Samson Medical…</td><td>&quot;&#x27;cef-&#x27;&quot;</td><td>&quot;1987&quot;</td><td>&quot;cephalosporins…</td><td>&quot;&#x27;cef-(cef-)&#x27;&quot;</td><td>&quot;1996&quot;</td><td>&quot;J01DE01&quot;</td><td>&quot;J01DE - Fourth…</td><td>&quot;J01D - OTHER B…</td><td>&quot;J01 - ANTIBACT…</td><td>&quot;J - ANTIINFECT…</td><td>&quot;Antibacterial&quot;</td><td>&quot;None&quot;</td><td>&quot;1:Synthetic Sm…</td><td>1</td><td>0</td><td>&quot;Single Stereoi…</td><td>0</td><td>0</td><td>1</td><td>0</td><td>0</td><td>&quot;Prescription O…</td><td>&quot;CO/N=C(\\C(=O)N…</td></tr><tr><td>&quot;CHEMBL2364632&quot;</td><td>&quot;SARECYCLINE&quot;</td><td>&quot;P-005672|P0056…</td><td>&quot;P-005672|P0056…</td><td>4.0</td><td>&quot;Almirall Llc&quot;</td><td>&quot;&#x27;-cycline&#x27;&quot;</td><td>&quot;2012&quot;</td><td>&quot;antibiotics (t…</td><td>&quot;&#x27;-cycline(-cyc…</td><td>&quot;2018&quot;</td><td>&quot;J01AA14&quot;</td><td>&quot;J01AA - Tetrac…</td><td>&quot;J01A - TETRACY…</td><td>&quot;J01 - ANTIBACT…</td><td>&quot;J - ANTIINFECT…</td><td>&quot;&quot;</td><td>&quot;US-8318706-B2&quot;</td><td>&quot;1:Synthetic Sm…</td><td>1</td><td>0</td><td>&quot;Single Stereoi…</td><td>0</td><td>1</td><td>0</td><td>0</td><td>0</td><td>&quot;Prescription O…</td><td>&quot;CON(C)Cc1ccc(O…</td></tr><tr><td>&quot;CHEMBL31&quot;</td><td>&quot;GATIFLOXACIN&quot;</td><td>&quot;AM-1155|BMS-20…</td><td>&quot;AM-1155|BMS-20…</td><td>4.0</td><td>&quot;Apotex Inc|Bri…</td><td>&quot;&#x27;-oxacin&#x27;&quot;</td><td>&quot;1997&quot;</td><td>&quot;antibacterials…</td><td>&quot;&#x27;-oxacin(-oxac…</td><td>&quot;1999&quot;</td><td>&quot;S01AE06 | J01M…</td><td>&quot;S01AE - Fluoro…</td><td>&quot;S01A - ANTIINF…</td><td>&quot;S01 - OPHTHALM…</td><td>&quot;S - SENSORY OR…</td><td>&quot;Antibacterial&quot;</td><td>&quot;None&quot;</td><td>&quot;1:Synthetic Sm…</td><td>1</td><td>0</td><td>&quot;Racemic Mixtur…</td><td>0</td><td>1</td><td>1</td><td>1</td><td>0</td><td>&quot;Prescription O…</td><td>&quot;COc1c(N2CCNC(C…</td></tr><tr><td>&quot;CHEMBL3039597&quot;</td><td>&quot;GENTAMICIN&quot;</td><td>&quot;GENTAMICIN|GEN…</td><td>&quot;SCH-9724&quot;</td><td>4.0</td><td>&quot;Schering Corp …</td><td>&quot;&#x27;-micin&#x27;&quot;</td><td>&quot;1963&quot;</td><td>&quot;antibiotics (M…</td><td>&quot;&#x27;-micin(-micin…</td><td>&quot;1970&quot;</td><td>&quot;S01AA11 | S02A…</td><td>&quot;S01AA - Antibi…</td><td>&quot;S01A - ANTIINF…</td><td>&quot;S01 - OPHTHALM…</td><td>&quot;S - SENSORY OR…</td><td>&quot;Antibacterial&quot;</td><td>&quot;None&quot;</td><td>&quot;1:Synthetic Sm…</td><td>0</td><td>0</td><td>&quot;Unknown&quot;</td><td>0</td><td>0</td><td>1</td><td>1</td><td>1</td><td>&quot;Prescription O…</td><td>&quot;CNC(C)[C@@H]1C…</td></tr><tr><td>&quot;CHEMBL893&quot;</td><td>&quot;DICLOXACILLIN&quot;</td><td>&quot;BRL-1702|DICLO…</td><td>&quot;BRL-1702|R-134…</td><td>4.0</td><td>&quot;Teva Pharmaceu…</td><td>&quot;&#x27;-cillin&#x27;&quot;</td><td>&quot;1965&quot;</td><td>&quot;penicillins&quot;</td><td>&quot;&#x27;-cillin(-cill…</td><td>&quot;1968&quot;</td><td>&quot;J01CF01&quot;</td><td>&quot;J01CF - Beta-l…</td><td>&quot;J01C - BETA-LA…</td><td>&quot;J01 - ANTIBACT…</td><td>&quot;J - ANTIINFECT…</td><td>&quot;Antibacterial&quot;</td><td>&quot;None&quot;</td><td>&quot;1:Synthetic Sm…</td><td>1</td><td>0</td><td>&quot;Single Stereoi…</td><td>0</td><td>1</td><td>0</td><td>0</td><td>0</td><td>&quot;Prescription O…</td><td>&quot;Cc1onc(-c2c(Cl…</td></tr><tr><td>&quot;CHEMBL1449&quot;</td><td>&quot;TICARCILLIN&quot;</td><td>&quot;TICARCILLIN|Ti…</td><td>&quot;&quot;</td><td>4.0</td><td>&quot;Glaxosmithklin…</td><td>&quot;&#x27;-cillin&#x27;&quot;</td><td>&quot;1973&quot;</td><td>&quot;penicillins&quot;</td><td>&quot;&#x27;-cillin(-cill…</td><td>&quot;1976&quot;</td><td>&quot;J01CA13&quot;</td><td>&quot;J01CA - Penici…</td><td>&quot;J01C - BETA-LA…</td><td>&quot;J01 - ANTIBACT…</td><td>&quot;J - ANTIINFECT…</td><td>&quot;Antibacterial&quot;</td><td>&quot;None&quot;</td><td>&quot;1:Synthetic Sm…</td><td>1</td><td>0</td><td>&quot;Single Stereoi…</td><td>0</td><td>0</td><td>1</td><td>0</td><td>0</td><td>&quot;Prescription O…</td><td>&quot;CC1(C)S[C@@H]2…</td></tr><tr><td>&quot;CHEMBL1220&quot;</td><td>&quot;TINIDAZOLE&quot;</td><td>&quot;CP-12,574|CP-1…</td><td>&quot;CP-12,574|CP-1…</td><td>4.0</td><td>&quot;Mission Pharma…</td><td>&quot;&#x27;-nidazole&#x27;&quot;</td><td>&quot;1970&quot;</td><td>&quot;antiprotozoal …</td><td>&quot;&#x27;-nidazole(-ni…</td><td>&quot;2004&quot;</td><td>&quot;P01AB02 | J01X…</td><td>&quot;P01AB - Nitroi…</td><td>&quot;P01A - AGENTS …</td><td>&quot;P01 - ANTIPROT…</td><td>&quot;P - ANTIPARASI…</td><td>&quot;Antiprotozoal&quot;</td><td>&quot;None&quot;</td><td>&quot;1:Synthetic Sm…</td><td>1</td><td>0</td><td>&quot;Achiral Molecu…</td><td>1</td><td>1</td><td>0</td><td>0</td><td>1</td><td>&quot;Prescription O…</td><td>&quot;CCS(=O)(=O)CCn…</td></tr><tr><td>&quot;CHEMBL501122&quot;</td><td>&quot;CEFTAROLINE FO…</td><td>&quot;CEFTAROLINE FO…</td><td>&quot;PPI-0903|TAK 5…</td><td>4.0</td><td>&quot;Apotex Inc|All…</td><td>&quot;&#x27;cef-; fos-&#x27;&quot;</td><td>&quot;2006&quot;</td><td>&quot;cephalosporins…</td><td>&quot;&#x27;cef-(cef-); f…</td><td>&quot;2010&quot;</td><td>&quot;J01DI02&quot;</td><td>&quot;J01DI - Other …</td><td>&quot;J01D - OTHER B…</td><td>&quot;J01 - ANTIBACT…</td><td>&quot;J - ANTIINFECT…</td><td>&quot;&quot;</td><td>&quot;US-6417175-B1&quot;</td><td>&quot;1:Synthetic Sm…</td><td>0</td><td>0</td><td>&quot;Single Stereoi…</td><td>1</td><td>0</td><td>1</td><td>0</td><td>0</td><td>&quot;Prescription O…</td><td>&quot;CCO/N=C(\\C(=O)…</td></tr><tr><td>&quot;CHEMBL137&quot;</td><td>&quot;METRONIDAZOLE&quot;</td><td>&quot;ACEA|ANABACT|B…</td><td>&quot;BAY-5360|BAYER…</td><td>4.0</td><td>&quot;Inforlife Sa|L…</td><td>&quot;&#x27;-nidazole&#x27;&quot;</td><td>&quot;1962&quot;</td><td>&quot;antiprotozoal …</td><td>&quot;&#x27;-nidazole(-ni…</td><td>&quot;1963&quot;</td><td>&quot;D06BX01 | P01A…</td><td>&quot;D06BX - Other …</td><td>&quot;D06B - CHEMOTH…</td><td>&quot;D06 - ANTIBIOT…</td><td>&quot;D - DERMATOLOG…</td><td>&quot;Antibacterial,…</td><td>&quot;US-6881726-B2&quot;</td><td>&quot;1:Synthetic Sm…</td><td>1</td><td>0</td><td>&quot;Achiral Molecu…</td><td>0</td><td>1</td><td>1</td><td>1</td><td>1</td><td>&quot;Prescription O…</td><td>&quot;Cc1ncc([N+](=O…</td></tr><tr><td>&quot;CHEMBL376140&quot;</td><td>&quot;TIGECYCLINE&quot;</td><td>&quot;TIGECYCLINE|Ty…</td><td>&quot;WAY-GAR-936&quot;</td><td>4.0</td><td>&quot;Apotex Inc|Fre…</td><td>&quot;&#x27;-cycline&#x27;&quot;</td><td>&quot;2002&quot;</td><td>&quot;antibiotics (t…</td><td>&quot;&#x27;-cycline(-cyc…</td><td>&quot;2005&quot;</td><td>&quot;J01AA12&quot;</td><td>&quot;J01AA - Tetrac…</td><td>&quot;J01A - TETRACY…</td><td>&quot;J01 - ANTIBACT…</td><td>&quot;J - ANTIINFECT…</td><td>&quot;&quot;</td><td>&quot;US-7879828-B2&quot;</td><td>&quot;1:Synthetic Sm…</td><td>0</td><td>0</td><td>&quot;Single Stereoi…</td><td>0</td><td>0</td><td>1</td><td>0</td><td>1</td><td>&quot;Prescription O…</td><td>&quot;CN(C)c1cc(NC(=…</td></tr><tr><td>&quot;CHEMBL1741&quot;</td><td>&quot;CLARITHROMYCIN…</td><td>&quot;6-O-METHYLERYT…</td><td>&quot;A-56268|ABBOTT…</td><td>4.0</td><td>&quot;Sunshine Lake …</td><td>&quot;&#x27;-mycin&#x27;&quot;</td><td>&quot;1988&quot;</td><td>&quot;antibiotics (S…</td><td>&quot;&#x27;-mycin(-mycin…</td><td>&quot;1991&quot;</td><td>&quot;J01FA09&quot;</td><td>&quot;J01FA - Macrol…</td><td>&quot;J01F - MACROLI…</td><td>&quot;J01 - ANTIBACT…</td><td>&quot;J - ANTIINFECT…</td><td>&quot;Antibacterial&quot;</td><td>&quot;US-7977488-B2&quot;</td><td>&quot;1:Synthetic Sm…</td><td>0</td><td>0</td><td>&quot;Single Stereoi…</td><td>0</td><td>1</td><td>0</td><td>0</td><td>0</td><td>&quot;Prescription O…</td><td>&quot;CC[C@H]1OC(=O)…</td></tr><tr><td>&quot;CHEMBL1747&quot;</td><td>&quot;TOBRAMYCIN&quot;</td><td>&quot;47663|Aktob|BE…</td><td>&quot;47663|NSC-1805…</td><td>4.0</td><td>&quot;Igi Laboratori…</td><td>&quot;&#x27;-mycin&#x27;&quot;</td><td>&quot;1972&quot;</td><td>&quot;antibiotics (S…</td><td>&quot;&#x27;-mycin(-mycin…</td><td>&quot;1975&quot;</td><td>&quot;J01GB01 | S01A…</td><td>&quot;J01GB - Other …</td><td>&quot;J01G - AMINOGL…</td><td>&quot;J01 - ANTIBACT…</td><td>&quot;J - ANTIINFECT…</td><td>&quot;Antibacterial&quot;</td><td>&quot;US-6987094-B2&quot;</td><td>&quot;1:Synthetic Sm…</td><td>0</td><td>0</td><td>&quot;Single Stereoi…</td><td>0</td><td>0</td><td>1</td><td>1</td><td>1</td><td>&quot;Prescription O…</td><td>&quot;NC[C@H]1O[C@H]…</td></tr><tr><td>&hellip;</td><td>&hellip;</td><td>&hellip;</td><td>&hellip;</td><td>&hellip;</td><td>&hellip;</td><td>&hellip;</td><td>&hellip;</td><td>&hellip;</td><td>&hellip;</td><td>&hellip;</td><td>&hellip;</td><td>&hellip;</td><td>&hellip;</td><td>&hellip;</td><td>&hellip;</td><td>&hellip;</td><td>&hellip;</td><td>&hellip;</td><td>&hellip;</td><td>&hellip;</td><td>&hellip;</td><td>&hellip;</td><td>&hellip;</td><td>&hellip;</td><td>&hellip;</td><td>&hellip;</td><td>&hellip;</td><td>&hellip;</td></tr><tr><td>&quot;CHEMBL404&quot;</td><td>&quot;TAZOBACTAM&quot;</td><td>&quot;CL 298,741|CL-…</td><td>&quot;CL 298,741|CL-…</td><td>4.0</td><td>&quot;Wytells Pharma…</td><td>&quot;&#x27;-bactam&#x27;&quot;</td><td>&quot;1989&quot;</td><td>&quot;beta-lactamase…</td><td>&quot;&#x27;-bactam(-bact…</td><td>&quot;1993&quot;</td><td>&quot;J01CG02&quot;</td><td>&quot;J01CG - Beta-l…</td><td>&quot;J01C - BETA-LA…</td><td>&quot;J01 - ANTIBACT…</td><td>&quot;J - ANTIINFECT…</td><td>&quot;Inhibitor (bet…</td><td>&quot;US-6900184-B2&quot;</td><td>&quot;1:Synthetic Sm…</td><td>1</td><td>0</td><td>&quot;Single Stereoi…</td><td>0</td><td>0</td><td>1</td><td>0</td><td>0</td><td>&quot;Prescription O…</td><td>&quot;C[C@]1(Cn2ccnn…</td></tr><tr><td>&quot;CHEMBL1689772&quot;</td><td>&quot;OMADACYCLINE&quot;</td><td>&quot;AMADACYCLINE|B…</td><td>&quot;BAY 73-6944|PT…</td><td>4.0</td><td>&quot;Paratek Pharma…</td><td>&quot;&#x27;-cycline&#x27;&quot;</td><td>&quot;2009&quot;</td><td>&quot;antibiotics (t…</td><td>&quot;&#x27;-cycline(-cyc…</td><td>&quot;2018&quot;</td><td>&quot;J01AA15&quot;</td><td>&quot;J01AA - Tetrac…</td><td>&quot;J01A - TETRACY…</td><td>&quot;J01 - ANTIBACT…</td><td>&quot;J - ANTIINFECT…</td><td>&quot;&quot;</td><td>&quot;US-7326696-B2&quot;</td><td>&quot;1:Synthetic Sm…</td><td>0</td><td>0</td><td>&quot;Single Stereoi…</td><td>0</td><td>1</td><td>1</td><td>0</td><td>0</td><td>&quot;Prescription O…</td><td>&quot;CN(C)c1cc(CNCC…</td></tr><tr><td>&quot;CHEMBL3989974&quot;</td><td>&quot;CEFIDEROCOL&quot;</td><td>&quot;CEFIDEROCOL|GS…</td><td>&quot;GSK2696266|S-6…</td><td>4.0</td><td>&quot;Shionogi Inc&quot;</td><td>&quot;&#x27;cef-&#x27;&quot;</td><td>&quot;2017&quot;</td><td>&quot;cephalosporins…</td><td>&quot;&#x27;cef-(cef-)&#x27;&quot;</td><td>&quot;2019&quot;</td><td>&quot;J01DI04&quot;</td><td>&quot;J01DI - Other …</td><td>&quot;J01D - OTHER B…</td><td>&quot;J01 - ANTIBACT…</td><td>&quot;J - ANTIINFECT…</td><td>&quot;&quot;</td><td>&quot;US-9238657-B2&quot;</td><td>&quot;1:Synthetic Sm…</td><td>0</td><td>0</td><td>&quot;Single Stereoi…</td><td>0</td><td>0</td><td>1</td><td>0</td><td>0</td><td>&quot;Prescription O…</td><td>&quot;CC(C)(O/N=C(\\C…</td></tr><tr><td>&quot;CHEMBL1435&quot;</td><td>&quot;CEFAZOLIN&quot;</td><td>&quot;CEFAZOLIN|CEPH…</td><td>&quot;J01DB04|SK&amp;F-4…</td><td>4.0</td><td>&quot;Glaxosmithklin…</td><td>&quot;&#x27;cef-&#x27;&quot;</td><td>&quot;1972&quot;</td><td>&quot;cephalosporins…</td><td>&quot;&#x27;cef-(cef-)&#x27;&quot;</td><td>&quot;1973&quot;</td><td>&quot;J01DB04&quot;</td><td>&quot;J01DB - First-…</td><td>&quot;J01D - OTHER B…</td><td>&quot;J01 - ANTIBACT…</td><td>&quot;J - ANTIINFECT…</td><td>&quot;Antibacterial …</td><td>&quot;None&quot;</td><td>&quot;1:Synthetic Sm…</td><td>0</td><td>0</td><td>&quot;Single Stereoi…</td><td>0</td><td>0</td><td>1</td><td>0</td><td>0</td><td>&quot;Prescription O…</td><td>&quot;Cc1nnc(SCC2=C(…</td></tr><tr><td>&quot;CHEMBL3989751&quot;</td><td>&quot;NEOMYCIN&quot;</td><td>&quot;FRADIOMYCIN|KA…</td><td>&quot;&quot;</td><td>4.0</td><td>&quot;Bayer Pharmace…</td><td>&quot;&#x27;-mycin&#x27;&quot;</td><td>&quot;1966&quot;</td><td>&quot;antibiotics (S…</td><td>&quot;&#x27;-mycin(-mycin…</td><td>&quot;1957&quot;</td><td>&quot;R02AB01 | S01A…</td><td>&quot;R02AB - Antibi…</td><td>&quot;R02A - THROAT …</td><td>&quot;R02 - THROAT P…</td><td>&quot;R - RESPIRATOR…</td><td>&quot;&quot;</td><td>&quot;None&quot;</td><td>&quot;1:Synthetic Sm…</td><td>0</td><td>0</td><td>&quot;Single Stereoi…</td><td>0</td><td>1</td><td>0</td><td>1</td><td>1</td><td>&quot;Prescription O…</td><td>&quot;C1C(C(C(C(C1N)…</td></tr><tr><td>&quot;CHEMBL572&quot;</td><td>&quot;NITROFURANTOIN…</td><td>&quot;BERKFURIN|CEDU…</td><td>&quot;NSC-2107|NSC-4…</td><td>4.0</td><td>&quot;Sun Pharmaceut…</td><td>&quot;&#x27;-toin&#x27;&quot;</td><td>&quot;&quot;</td><td>&quot;antiepileptics…</td><td>&quot;&#x27;-toin(-toin)&#x27;…</td><td>&quot;1953&quot;</td><td>&quot;J01XE01 | J01X…</td><td>&quot;J01XE - Nitrof…</td><td>&quot;J01X - OTHER A…</td><td>&quot;J01 - ANTIBACT…</td><td>&quot;J - ANTIINFECT…</td><td>&quot;Antibacterial …</td><td>&quot;None&quot;</td><td>&quot;1:Synthetic Sm…</td><td>1</td><td>0</td><td>&quot;Achiral Molecu…</td><td>0</td><td>1</td><td>1</td><td>0</td><td>0</td><td>&quot;Prescription O…</td><td>&quot;O=C1CN(/N=C/c2…</td></tr><tr><td>&quot;CHEMBL44354&quot;</td><td>&quot;CEFTAZIDIME&quot;</td><td>&quot;CEFTAZIDIME|CE…</td><td>&quot;GR 20263|GR-20…</td><td>4.0</td><td>&quot;Glaxosmithklin…</td><td>&quot;&#x27;cef-&#x27;&quot;</td><td>&quot;1980&quot;</td><td>&quot;cephalosporins…</td><td>&quot;&#x27;cef-(cef-)&#x27;&quot;</td><td>&quot;1985&quot;</td><td>&quot;J01DD02&quot;</td><td>&quot;J01DD - Third-…</td><td>&quot;J01D - OTHER B…</td><td>&quot;J01 - ANTIBACT…</td><td>&quot;J - ANTIINFECT…</td><td>&quot;Antibacterial&quot;</td><td>&quot;US-7112592-B2&quot;</td><td>&quot;1:Synthetic Sm…</td><td>0</td><td>0</td><td>&quot;Single Stereoi…</td><td>0</td><td>0</td><td>1</td><td>0</td><td>1</td><td>&quot;Prescription O…</td><td>&quot;CC(C)(O/N=C(\\C…</td></tr><tr><td>&quot;CHEMBL29&quot;</td><td>&quot;BENZYLPENICILL…</td><td>&quot;BENZYL PENICIL…</td><td>&quot;J01CE01|NSC-19…</td><td>4.0</td><td>&quot;Hq Specialty P…</td><td>&quot;&#x27;-cillin&#x27;&quot;</td><td>&quot;&quot;</td><td>&quot;penicillins&quot;</td><td>&quot;&#x27;-cillin(-cill…</td><td>&quot;1947&quot;</td><td>&quot;J01CE01 | S01A…</td><td>&quot;J01CE - Beta-l…</td><td>&quot;J01C - BETA-LA…</td><td>&quot;J01 - ANTIBACT…</td><td>&quot;J - ANTIINFECT…</td><td>&quot;Antibacterial&quot;</td><td>&quot;None&quot;</td><td>&quot;1:Synthetic Sm…</td><td>1</td><td>0</td><td>&quot;Single Stereoi…</td><td>0</td><td>1</td><td>1</td><td>0</td><td>1</td><td>&quot;Prescription O…</td><td>&quot;CC1(C)S[C@@H]2…</td></tr><tr><td>&quot;CHEMBL8&quot;</td><td>&quot;CIPROFLOXACIN&quot;</td><td>&quot;BAY O 9867 FRE…</td><td>&quot;BAY O 9867 FRE…</td><td>4.0</td><td>&quot;Inforlife Sa|A…</td><td>&quot;&#x27;-oxacin&#x27;&quot;</td><td>&quot;1987&quot;</td><td>&quot;antibacterials…</td><td>&quot;&#x27;-oxacin(-oxac…</td><td>&quot;1987&quot;</td><td>&quot;J01MA02 | S03A…</td><td>&quot;J01MA - Fluoro…</td><td>&quot;J01M - QUINOLO…</td><td>&quot;J01 - ANTIBACT…</td><td>&quot;J - ANTIINFECT…</td><td>&quot;Antibacterial&quot;</td><td>&quot;US-8318817-B2&quot;</td><td>&quot;1:Synthetic Sm…</td><td>1</td><td>0</td><td>&quot;Achiral Molecu…</td><td>0</td><td>1</td><td>1</td><td>1</td><td>1</td><td>&quot;Prescription O…</td><td>&quot;O=C(O)c1cn(C2C…</td></tr><tr><td>&quot;CHEMBL9&quot;</td><td>&quot;NORFLOXACIN&quot;</td><td>&quot;Baccidal|CHIBR…</td><td>&quot;MK-366|NSC-757…</td><td>4.0</td><td>&quot;Merck Research…</td><td>&quot;&#x27;-oxacin&#x27;&quot;</td><td>&quot;1984&quot;</td><td>&quot;antibacterials…</td><td>&quot;&#x27;-oxacin(-oxac…</td><td>&quot;1986&quot;</td><td>&quot;J01MA06 | S01A…</td><td>&quot;J01MA - Fluoro…</td><td>&quot;J01M - QUINOLO…</td><td>&quot;J01 - ANTIBACT…</td><td>&quot;J - ANTIINFECT…</td><td>&quot;Antibacterial&quot;</td><td>&quot;None&quot;</td><td>&quot;1:Synthetic Sm…</td><td>1</td><td>0</td><td>&quot;Achiral Molecu…</td><td>0</td><td>1</td><td>0</td><td>1</td><td>1</td><td>&quot;Prescription O…</td><td>&quot;CCn1cc(C(=O)O)…</td></tr><tr><td>&quot;CHEMBL21&quot;</td><td>&quot;SULFANILAMIDE&quot;</td><td>&quot;ANILINE-P-SULF…</td><td>&quot;NSC-7618&quot;</td><td>4.0</td><td>&quot;Mylan Specialt…</td><td>&quot;&#x27;sulfa-&#x27;&quot;</td><td>&quot;&quot;</td><td>&quot;antimicrobials…</td><td>&quot;&#x27;sulfa-(sulfa-…</td><td>&quot;1985&quot;</td><td>&quot;D06BA05 | J01E…</td><td>&quot;D06BA - Sulfon…</td><td>&quot;D06B - CHEMOTH…</td><td>&quot;D06 - ANTIBIOT…</td><td>&quot;D - DERMATOLOG…</td><td>&quot;&quot;</td><td>&quot;None&quot;</td><td>&quot;1:Synthetic Sm…</td><td>1</td><td>0</td><td>&quot;Achiral Molecu…</td><td>0</td><td>0</td><td>0</td><td>1</td><td>0</td><td>&quot;Prescription O…</td><td>&quot;Nc1ccc(S(N)(=O…</td></tr><tr><td>&quot;CHEMBL4&quot;</td><td>&quot;OFLOXACIN&quot;</td><td>&quot;DL-8280|EXOCIN…</td><td>&quot;DL-8280|HOE 28…</td><td>4.0</td><td>&quot;Bausch And Lom…</td><td>&quot;&#x27;-oxacin&#x27;&quot;</td><td>&quot;1984&quot;</td><td>&quot;antibacterials…</td><td>&quot;&#x27;-oxacin(-oxac…</td><td>&quot;1990&quot;</td><td>&quot;J01MA01 | S02A…</td><td>&quot;J01MA - Fluoro…</td><td>&quot;J01M - QUINOLO…</td><td>&quot;J01 - ANTIBACT…</td><td>&quot;J - ANTIINFECT…</td><td>&quot;Antibacterial&quot;</td><td>&quot;None&quot;</td><td>&quot;1:Synthetic Sm…</td><td>1</td><td>0</td><td>&quot;Racemic Mixtur…</td><td>0</td><td>1</td><td>1</td><td>1</td><td>1</td><td>&quot;Prescription O…</td><td>&quot;CC1COc2c(N3CCN…</td></tr></tbody></table></div>"
            ],
            "text/plain": [
              "shape: (72, 29)\n",
              "┌────────────┬───────────┬──────────┬────────────┬───┬─────────┬───────────┬────────────┬──────────┐\n",
              "│ Parent     ┆ Name      ┆ Synonyms ┆ Research   ┆ … ┆ Topical ┆ Black Box ┆ Availabili ┆ Smiles   │\n",
              "│ Molecule   ┆ ---       ┆ ---      ┆ Codes      ┆   ┆ ---     ┆ ---       ┆ ty Type    ┆ ---      │\n",
              "│ ---        ┆ str       ┆ str      ┆ ---        ┆   ┆ i64     ┆ i64       ┆ ---        ┆ str      │\n",
              "│ str        ┆           ┆          ┆ str        ┆   ┆         ┆           ┆ str        ┆          │\n",
              "╞════════════╪═══════════╪══════════╪════════════╪═══╪═════════╪═══════════╪════════════╪══════════╡\n",
              "│ CHEMBL186  ┆ CEFEPIME  ┆ BMY-2814 ┆ BMY-28142| ┆ … ┆ 0       ┆ 0         ┆ Prescripti ┆ CO/N=C(\\ │\n",
              "│            ┆           ┆ 2|CEFEPI ┆ J01DE01|VN ┆   ┆         ┆           ┆ on Only    ┆ C(=O)N[C │\n",
              "│            ┆           ┆ ME|J01DE ┆ RX-5022    ┆   ┆         ┆           ┆            ┆ @@H]1C(= │\n",
              "│            ┆           ┆ 01|Maxip ┆            ┆   ┆         ┆           ┆            ┆ O)N2C(C( │\n",
              "│            ┆           ┆ …        ┆            ┆   ┆         ┆           ┆            ┆ …        │\n",
              "│ CHEMBL2364 ┆ SARECYCLI ┆ P-005672 ┆ P-005672|P ┆ … ┆ 0       ┆ 0         ┆ Prescripti ┆ CON(C)Cc │\n",
              "│ 632        ┆ NE        ┆ |P005672 ┆ 005672     ┆   ┆         ┆           ┆ on Only    ┆ 1ccc(O)c │\n",
              "│            ┆           ┆ |SARECYC ┆            ┆   ┆         ┆           ┆            ┆ 2c1C[C@H │\n",
              "│            ┆           ┆ LINE     ┆            ┆   ┆         ┆           ┆            ┆ ]1C[C@H] │\n",
              "│            ┆           ┆          ┆            ┆   ┆         ┆           ┆            ┆ …        │\n",
              "│ CHEMBL31   ┆ GATIFLOXA ┆ AM-1155| ┆ AM-1155|BM ┆ … ┆ 1       ┆ 0         ┆ Prescripti ┆ COc1c(N2 │\n",
              "│            ┆ CIN       ┆ BMS-2065 ┆ S-206584-0 ┆   ┆         ┆           ┆ on Only    ┆ CCNC(C)C │\n",
              "│            ┆           ┆ 84-01|BM ┆ 1|BMS-2065 ┆   ┆         ┆           ┆            ┆ 2)c(F)cc │\n",
              "│            ┆           ┆ S-206584 ┆ 84…        ┆   ┆         ┆           ┆            ┆ 2c(=O)c( │\n",
              "│            ┆           ┆ …        ┆            ┆   ┆         ┆           ┆            ┆ …        │\n",
              "│ CHEMBL3039 ┆ GENTAMICI ┆ GENTAMIC ┆ SCH-9724   ┆ … ┆ 1       ┆ 1         ┆ Prescripti ┆ CNC(C)[C │\n",
              "│ 597        ┆ N         ┆ IN|GENTA ┆            ┆   ┆         ┆           ┆ on Only    ┆ @@H]1CC[ │\n",
              "│            ┆           ┆ MYCIN|LY ┆            ┆   ┆         ┆           ┆            ┆ C@@H](N) │\n",
              "│            ┆           ┆ RAMYCIN| ┆            ┆   ┆         ┆           ┆            ┆ [C@@H](O │\n",
              "│            ┆           ┆ …        ┆            ┆   ┆         ┆           ┆            ┆ …        │\n",
              "│ …          ┆ …         ┆ …        ┆ …          ┆ … ┆ …       ┆ …         ┆ …          ┆ …        │\n",
              "│ CHEMBL8    ┆ CIPROFLOX ┆ BAY O    ┆ BAY O 9867 ┆ … ┆ 1       ┆ 1         ┆ Prescripti ┆ O=C(O)c1 │\n",
              "│            ┆ ACIN      ┆ 9867     ┆ FREE       ┆   ┆         ┆           ┆ on Only    ┆ cn(C2CC2 │\n",
              "│            ┆           ┆ FREE     ┆ BASE|BAY Q ┆   ┆         ┆           ┆            ┆ )c2cc(N3 │\n",
              "│            ┆           ┆ BASE|BAY ┆ 3939|…     ┆   ┆         ┆           ┆            ┆ CCNCC3)c │\n",
              "│            ┆           ┆ Q 3939|… ┆            ┆   ┆         ┆           ┆            ┆ …        │\n",
              "│ CHEMBL9    ┆ NORFLOXAC ┆ Baccidal ┆ MK-366|NSC ┆ … ┆ 1       ┆ 1         ┆ Prescripti ┆ CCn1cc(C │\n",
              "│            ┆ IN        ┆ |CHIBROX ┆ -757250    ┆   ┆         ┆           ┆ on Only    ┆ (=O)O)c( │\n",
              "│            ┆           ┆ IN|MK-36 ┆            ┆   ┆         ┆           ┆            ┆ =O)c2cc( │\n",
              "│            ┆           ┆ 6|NORFLO ┆            ┆   ┆         ┆           ┆            ┆ F)c(N3CC │\n",
              "│            ┆           ┆ …        ┆            ┆   ┆         ┆           ┆            ┆ …        │\n",
              "│ CHEMBL21   ┆ SULFANILA ┆ ANILINE- ┆ NSC-7618   ┆ … ┆ 1       ┆ 0         ┆ Prescripti ┆ Nc1ccc(S │\n",
              "│            ┆ MIDE      ┆ P-SULFON ┆            ┆   ┆         ┆           ┆ on Only    ┆ (N)(=O)= │\n",
              "│            ┆           ┆ IC AMIDE ┆            ┆   ┆         ┆           ┆            ┆ O)cc1    │\n",
              "│            ┆           ┆ |NSC-761 ┆            ┆   ┆         ┆           ┆            ┆          │\n",
              "│            ┆           ┆ …        ┆            ┆   ┆         ┆           ┆            ┆          │\n",
              "│ CHEMBL4    ┆ OFLOXACIN ┆ DL-8280| ┆ DL-8280|HO ┆ … ┆ 1       ┆ 1         ┆ Prescripti ┆ CC1COc2c │\n",
              "│            ┆           ┆ EXOCIN|F ┆ E 280|HOE- ┆   ┆         ┆           ┆ on Only    ┆ (N3CCN(C │\n",
              "│            ┆           ┆ LOXIN    ┆ 280|J01MA0 ┆   ┆         ┆           ┆            ┆ )CC3)c(F │\n",
              "│            ┆           ┆ OTIC|Flo ┆ 1|…        ┆   ┆         ┆           ┆            ┆ )cc3c(=O │\n",
              "│            ┆           ┆ xi…      ┆            ┆   ┆         ┆           ┆            ┆ …        │\n",
              "└────────────┴───────────┴──────────┴────────────┴───┴─────────┴───────────┴────────────┴──────────┘"
            ]
          },
          "execution_count": 28,
          "metadata": {},
          "output_type": "execute_result"
        }
      ],
      "source": [
        "# Canonical SMILES for neomycin - C1C(C(C(C(C1N)OC2C(C(C(C(O2)CN)O)O)N)OC3C(C(C(O3)CO)OC4C(C(C(C(O4)CN)O)O)N)O)O)N\n",
        "# Extracted from PubChem (https://pubchem.ncbi.nlm.nih.gov/compound/Neomycin)\n",
        "\n",
        "df_ai_rx = df_ai_rx.with_columns([\n",
        "    pl.when(pl.col(\"Smiles\").str.lengths() == 0)\n",
        "    .then(\"C1C(C(C(C(C1N)OC2C(C(C(C(O2)CN)O)O)N)OC3C(C(C(O3)CO)OC4C(C(C(C(O4)CN)O)O)N)O)O)N\")\n",
        "    .otherwise(pl.col(\"Smiles\"))\n",
        "    .keep_name()\n",
        "])\n",
        "\n",
        "df_ai_rx"
      ]
    },
    {
      "cell_type": "code",
      "execution_count": null,
      "metadata": {},
      "outputs": [],
      "source": [
        "print(df_ai.glimpse())"
      ]
    },
    {
      "cell_type": "code",
      "execution_count": 29,
      "metadata": {},
      "outputs": [
        {
          "data": {
            "text/html": [
              "<div><style>\n",
              ".dataframe > thead > tr > th,\n",
              ".dataframe > tbody > tr > td {\n",
              "  text-align: right;\n",
              "}\n",
              "</style>\n",
              "<small>shape: (5, 2)</small><table border=\"1\" class=\"dataframe\"><thead><tr><th>Name</th><th>Smiles</th></tr><tr><td>str</td><td>str</td></tr></thead><tbody><tr><td>&quot;CEFEPIME&quot;</td><td>&quot;CO/N=C(\\C(=O)N…</td></tr><tr><td>&quot;SARECYCLINE&quot;</td><td>&quot;CON(C)Cc1ccc(O…</td></tr><tr><td>&quot;GATIFLOXACIN&quot;</td><td>&quot;COc1c(N2CCNC(C…</td></tr><tr><td>&quot;GENTAMICIN&quot;</td><td>&quot;CNC(C)[C@@H]1C…</td></tr><tr><td>&quot;DICLOXACILLIN&quot;</td><td>&quot;Cc1onc(-c2c(Cl…</td></tr></tbody></table></div>"
            ],
            "text/plain": [
              "shape: (5, 2)\n",
              "┌───────────────┬───────────────────────────────────┐\n",
              "│ Name          ┆ Smiles                            │\n",
              "│ ---           ┆ ---                               │\n",
              "│ str           ┆ str                               │\n",
              "╞═══════════════╪═══════════════════════════════════╡\n",
              "│ CEFEPIME      ┆ CO/N=C(\\C(=O)N[C@@H]1C(=O)N2C(C(… │\n",
              "│ SARECYCLINE   ┆ CON(C)Cc1ccc(O)c2c1C[C@H]1C[C@H]… │\n",
              "│ GATIFLOXACIN  ┆ COc1c(N2CCNC(C)C2)c(F)cc2c(=O)c(… │\n",
              "│ GENTAMICIN    ┆ CNC(C)[C@@H]1CC[C@@H](N)[C@@H](O… │\n",
              "│ DICLOXACILLIN ┆ Cc1onc(-c2c(Cl)cccc2Cl)c1C(=O)N[… │\n",
              "└───────────────┴───────────────────────────────────┘"
            ]
          },
          "execution_count": 29,
          "metadata": {},
          "output_type": "execute_result"
        }
      ],
      "source": [
        "df_ai_rx = df_ai_rx.select([\"Name\", \"Smiles\"])\n",
        "df_ai_rx.head()"
      ]
    },
    {
      "cell_type": "code",
      "execution_count": 30,
      "metadata": {},
      "outputs": [
        {
          "data": {
            "text/html": [
              "<div>\n",
              "<style scoped>\n",
              "    .dataframe tbody tr th:only-of-type {\n",
              "        vertical-align: middle;\n",
              "    }\n",
              "\n",
              "    .dataframe tbody tr th {\n",
              "        vertical-align: top;\n",
              "    }\n",
              "\n",
              "    .dataframe thead th {\n",
              "        text-align: right;\n",
              "    }\n",
              "</style>\n",
              "<table border=\"1\" class=\"dataframe\">\n",
              "  <thead>\n",
              "    <tr style=\"text-align: right;\">\n",
              "      <th></th>\n",
              "      <th>Name</th>\n",
              "      <th>Smiles</th>\n",
              "    </tr>\n",
              "  </thead>\n",
              "  <tbody>\n",
              "    <tr>\n",
              "      <th>0</th>\n",
              "      <td>CEFEPIME</td>\n",
              "      <td>CO/N=C(\\C(=O)N[C@@H]1C(=O)N2C(C(=O)[O-])=C(C[N...</td>\n",
              "    </tr>\n",
              "    <tr>\n",
              "      <th>1</th>\n",
              "      <td>SARECYCLINE</td>\n",
              "      <td>CON(C)Cc1ccc(O)c2c1C[C@H]1C[C@H]3[C@H](N(C)C)C...</td>\n",
              "    </tr>\n",
              "    <tr>\n",
              "      <th>2</th>\n",
              "      <td>GATIFLOXACIN</td>\n",
              "      <td>COc1c(N2CCNC(C)C2)c(F)cc2c(=O)c(C(=O)O)cn(C3CC...</td>\n",
              "    </tr>\n",
              "    <tr>\n",
              "      <th>3</th>\n",
              "      <td>GENTAMICIN</td>\n",
              "      <td>CNC(C)[C@@H]1CC[C@@H](N)[C@@H](O[C@H]2[C@H](O)...</td>\n",
              "    </tr>\n",
              "    <tr>\n",
              "      <th>4</th>\n",
              "      <td>DICLOXACILLIN</td>\n",
              "      <td>Cc1onc(-c2c(Cl)cccc2Cl)c1C(=O)N[C@@H]1C(=O)N2[...</td>\n",
              "    </tr>\n",
              "  </tbody>\n",
              "</table>\n",
              "</div>"
            ],
            "text/plain": [
              "            Name                                             Smiles\n",
              "0       CEFEPIME  CO/N=C(\\C(=O)N[C@@H]1C(=O)N2C(C(=O)[O-])=C(C[N...\n",
              "1    SARECYCLINE  CON(C)Cc1ccc(O)c2c1C[C@H]1C[C@H]3[C@H](N(C)C)C...\n",
              "2   GATIFLOXACIN  COc1c(N2CCNC(C)C2)c(F)cc2c(=O)c(C(=O)O)cn(C3CC...\n",
              "3     GENTAMICIN  CNC(C)[C@@H]1CC[C@@H](N)[C@@H](O[C@H]2[C@H](O)...\n",
              "4  DICLOXACILLIN  Cc1onc(-c2c(Cl)cccc2Cl)c1C(=O)N[C@@H]1C(=O)N2[..."
            ]
          },
          "execution_count": 30,
          "metadata": {},
          "output_type": "execute_result"
        }
      ],
      "source": [
        "# Convert polars dataframe into a pandas dataframe\n",
        "df_ai_pd = df_ai_rx.to_pandas()\n",
        "df_ai_pd.head()"
      ]
    },
    {
      "cell_type": "code",
      "execution_count": 31,
      "metadata": {},
      "outputs": [
        {
          "data": {
            "text/plain": [
              "pandas.core.frame.DataFrame"
            ]
          },
          "execution_count": 31,
          "metadata": {},
          "output_type": "execute_result"
        }
      ],
      "source": [
        "type(df_ai_pd)"
      ]
    },
    {
      "cell_type": "code",
      "execution_count": null,
      "metadata": {},
      "outputs": [],
      "source": [
        "# Make a molecule column from the smiles column\n",
        "df_ai_pd[\"mol\"] = df_ai_pd[\"Smiles\"].apply(lambda x: dm.to_mol(x, kekulize=True))\n",
        "df_ai_pd.head()"
      ]
    },
    {
      "cell_type": "code",
      "execution_count": null,
      "metadata": {},
      "outputs": [],
      "source": [
        "print(df_ai_pd[\"mol\"].dtypes)"
      ]
    },
    {
      "cell_type": "code",
      "execution_count": null,
      "metadata": {},
      "outputs": [],
      "source": [
        "# Generate canonical SMILES from mol objects\n",
        "df_ai_pd[\"smiles_c\"] = df_ai_pd[\"mol\"].apply(lambda x: dm.to_smiles(x, kekulize=True))\n"
      ]
    },
    {
      "cell_type": "code",
      "execution_count": null,
      "metadata": {},
      "outputs": [],
      "source": [
        "df_ai_pd.head()"
      ]
    },
    {
      "cell_type": "code",
      "execution_count": null,
      "metadata": {},
      "outputs": [],
      "source": [
        "df_ai_pd[\"mol_c\"] = df_ai_pd[\"smiles_c\"].apply(lambda x: dm.to_mol(x, kekulize=True))\n",
        "df_ai_pd.head()"
      ]
    },
    {
      "cell_type": "code",
      "execution_count": 33,
      "metadata": {},
      "outputs": [
        {
          "data": {
            "text/html": [
              "<div>\n",
              "<style scoped>\n",
              "    .dataframe tbody tr th:only-of-type {\n",
              "        vertical-align: middle;\n",
              "    }\n",
              "\n",
              "    .dataframe tbody tr th {\n",
              "        vertical-align: top;\n",
              "    }\n",
              "\n",
              "    .dataframe thead th {\n",
              "        text-align: right;\n",
              "    }\n",
              "</style>\n",
              "<table border=\"1\" class=\"dataframe\">\n",
              "  <thead>\n",
              "    <tr style=\"text-align: right;\">\n",
              "      <th></th>\n",
              "      <th>Name</th>\n",
              "      <th>Smiles</th>\n",
              "      <th>selfies</th>\n",
              "    </tr>\n",
              "  </thead>\n",
              "  <tbody>\n",
              "    <tr>\n",
              "      <th>0</th>\n",
              "      <td>CEFEPIME</td>\n",
              "      <td>CO/N=C(\\C(=O)N[C@@H]1C(=O)N2C(C(=O)[O-])=C(C[N...</td>\n",
              "      <td>[C][O][/N][=C][Branch2][Ring2][#Branch2][\\C][=...</td>\n",
              "    </tr>\n",
              "    <tr>\n",
              "      <th>1</th>\n",
              "      <td>SARECYCLINE</td>\n",
              "      <td>CON(C)Cc1ccc(O)c2c1C[C@H]1C[C@H]3[C@H](N(C)C)C...</td>\n",
              "      <td>[C][O][N][Branch1][C][C][C][C][=C][C][=C][Bran...</td>\n",
              "    </tr>\n",
              "    <tr>\n",
              "      <th>2</th>\n",
              "      <td>GATIFLOXACIN</td>\n",
              "      <td>COc1c(N2CCNC(C)C2)c(F)cc2c(=O)c(C(=O)O)cn(C3CC...</td>\n",
              "      <td>[C][O][C][=C][Branch1][N][N][C][C][N][C][Branc...</td>\n",
              "    </tr>\n",
              "    <tr>\n",
              "      <th>3</th>\n",
              "      <td>GENTAMICIN</td>\n",
              "      <td>CNC(C)[C@@H]1CC[C@@H](N)[C@@H](O[C@H]2[C@H](O)...</td>\n",
              "      <td>[C][N][C][Branch1][C][C][C@@H1][C][C][C@@H1][B...</td>\n",
              "    </tr>\n",
              "    <tr>\n",
              "      <th>4</th>\n",
              "      <td>DICLOXACILLIN</td>\n",
              "      <td>Cc1onc(-c2c(Cl)cccc2Cl)c1C(=O)N[C@@H]1C(=O)N2[...</td>\n",
              "      <td>[C][C][O][N][=C][Branch1][=N][C][=C][Branch1][...</td>\n",
              "    </tr>\n",
              "    <tr>\n",
              "      <th>...</th>\n",
              "      <td>...</td>\n",
              "      <td>...</td>\n",
              "      <td>...</td>\n",
              "    </tr>\n",
              "    <tr>\n",
              "      <th>67</th>\n",
              "      <td>BENZYLPENICILLIN</td>\n",
              "      <td>CC1(C)S[C@@H]2[C@H](NC(=O)Cc3ccccc3)C(=O)N2[C@...</td>\n",
              "      <td>[C][C][Branch1][C][C][S][C@@H1][C@H1][Branch1]...</td>\n",
              "    </tr>\n",
              "    <tr>\n",
              "      <th>68</th>\n",
              "      <td>CIPROFLOXACIN</td>\n",
              "      <td>O=C(O)c1cn(C2CC2)c2cc(N3CCNCC3)c(F)cc2c1=O</td>\n",
              "      <td>[O][=C][Branch1][C][O][C][=C][N][Branch1][=Bra...</td>\n",
              "    </tr>\n",
              "    <tr>\n",
              "      <th>69</th>\n",
              "      <td>NORFLOXACIN</td>\n",
              "      <td>CCn1cc(C(=O)O)c(=O)c2cc(F)c(N3CCNCC3)cc21</td>\n",
              "      <td>[C][C][N][C][=C][Branch1][=Branch1][C][=Branch...</td>\n",
              "    </tr>\n",
              "    <tr>\n",
              "      <th>70</th>\n",
              "      <td>SULFANILAMIDE</td>\n",
              "      <td>Nc1ccc(S(N)(=O)=O)cc1</td>\n",
              "      <td>[N][C][=C][C][=C][Branch1][=Branch2][S][Branch...</td>\n",
              "    </tr>\n",
              "    <tr>\n",
              "      <th>71</th>\n",
              "      <td>OFLOXACIN</td>\n",
              "      <td>CC1COc2c(N3CCN(C)CC3)c(F)cc3c(=O)c(C(=O)O)cn1c23</td>\n",
              "      <td>[C][C][C][O][C][=C][Branch1][N][N][C][C][N][Br...</td>\n",
              "    </tr>\n",
              "  </tbody>\n",
              "</table>\n",
              "<p>72 rows × 3 columns</p>\n",
              "</div>"
            ],
            "text/plain": [
              "                Name                                             Smiles  \\\n",
              "0           CEFEPIME  CO/N=C(\\C(=O)N[C@@H]1C(=O)N2C(C(=O)[O-])=C(C[N...   \n",
              "1        SARECYCLINE  CON(C)Cc1ccc(O)c2c1C[C@H]1C[C@H]3[C@H](N(C)C)C...   \n",
              "2       GATIFLOXACIN  COc1c(N2CCNC(C)C2)c(F)cc2c(=O)c(C(=O)O)cn(C3CC...   \n",
              "3         GENTAMICIN  CNC(C)[C@@H]1CC[C@@H](N)[C@@H](O[C@H]2[C@H](O)...   \n",
              "4      DICLOXACILLIN  Cc1onc(-c2c(Cl)cccc2Cl)c1C(=O)N[C@@H]1C(=O)N2[...   \n",
              "..               ...                                                ...   \n",
              "67  BENZYLPENICILLIN  CC1(C)S[C@@H]2[C@H](NC(=O)Cc3ccccc3)C(=O)N2[C@...   \n",
              "68     CIPROFLOXACIN         O=C(O)c1cn(C2CC2)c2cc(N3CCNCC3)c(F)cc2c1=O   \n",
              "69       NORFLOXACIN          CCn1cc(C(=O)O)c(=O)c2cc(F)c(N3CCNCC3)cc21   \n",
              "70     SULFANILAMIDE                              Nc1ccc(S(N)(=O)=O)cc1   \n",
              "71         OFLOXACIN   CC1COc2c(N3CCN(C)CC3)c(F)cc3c(=O)c(C(=O)O)cn1c23   \n",
              "\n",
              "                                              selfies  \n",
              "0   [C][O][/N][=C][Branch2][Ring2][#Branch2][\\C][=...  \n",
              "1   [C][O][N][Branch1][C][C][C][C][=C][C][=C][Bran...  \n",
              "2   [C][O][C][=C][Branch1][N][N][C][C][N][C][Branc...  \n",
              "3   [C][N][C][Branch1][C][C][C@@H1][C][C][C@@H1][B...  \n",
              "4   [C][C][O][N][=C][Branch1][=N][C][=C][Branch1][...  \n",
              "..                                                ...  \n",
              "67  [C][C][Branch1][C][C][S][C@@H1][C@H1][Branch1]...  \n",
              "68  [O][=C][Branch1][C][O][C][=C][N][Branch1][=Bra...  \n",
              "69  [C][C][N][C][=C][Branch1][=Branch1][C][=Branch...  \n",
              "70  [N][C][=C][C][=C][Branch1][=Branch2][S][Branch...  \n",
              "71  [C][C][C][O][C][=C][Branch1][N][N][C][C][N][Br...  \n",
              "\n",
              "[72 rows x 3 columns]"
            ]
          },
          "execution_count": 33,
          "metadata": {},
          "output_type": "execute_result"
        }
      ],
      "source": [
        "# Issue with one compound with empty Smiles cell!\n",
        "# **Fixed by adding the missing SMILES for neomycin**\n",
        "df_ai_pd[\"selfies\"] = df_ai_pd[\"Smiles\"].apply(lambda x: dm.to_selfies(x))\n",
        "df_ai_pd"
      ]
    },
    {
      "cell_type": "code",
      "execution_count": null,
      "metadata": {},
      "outputs": [],
      "source": [
        "# Selfies conversion Works for one SMILES\n",
        "selfies = dm.to_selfies(\"O=C(N[C@H](CO)[C@H](O)c1ccc([N+](=O)[O-])cc1)C(Cl)Cl\")\n",
        "selfies"
      ]
    },
    {
      "cell_type": "code",
      "execution_count": null,
      "metadata": {},
      "outputs": [],
      "source": []
    },
    {
      "cell_type": "code",
      "execution_count": null,
      "metadata": {},
      "outputs": [],
      "source": [
        "# Grab all SMILES from df_ai\n",
        "df_ai_sm = df_ai[\"Smiles\"]\n",
        "# Load a list of molecules in SMILES\n",
        "# dm.to_mol default set with sanitize = True\n",
        "mol_ls = [dm.to_mol(smile) for smile in df_ai_sm]\n",
        "# Alternative way to convert dataframe into a list of mols (same as mol_ls)\n",
        "# mols = dm.from_df(df_ai_pd, smiles_column=\"Smiles\")\n",
        "# Convert the list of molecules into 2D images\n",
        "dm.to_image(mol_ls, n_cols = 5, mol_size = (400, 400))"
      ]
    },
    {
      "cell_type": "code",
      "execution_count": null,
      "metadata": {},
      "outputs": [],
      "source": [
        "# Extract Murcko scaffolds from mol_ls (ChEMBL anti-infectives)\n",
        "m_scaffolds = [dm.to_scaffold_murcko(mol) for mol in mol_ls]\n",
        "dm.to_image(m_scaffolds, mol_size = (400, 400))"
      ]
    },
    {
      "attachments": {},
      "cell_type": "markdown",
      "metadata": {},
      "source": [
        "The section below focuses on 3 compounds from this paper - Lin, H.-Y.J.; Battaje, R.R.;\n",
        "Tan, J.; Doddareddy, M.; Dhaked, H.P.S.; Srivastava, S.; Hawkins, B.A.; Al-Shdifat, L.M.H.; Hibbs, D.E.; Panda, D.; et al. Discovery of 2',6-Bis(4-hydroxybenzyl)-2-acetylcyclohexanone, a Novel FtsZ\n",
        "Inhibitor. Molecules 2022, 27, 6993. https://doi.org/10.3390/molecules27206993"
      ]
    },
    {
      "cell_type": "code",
      "execution_count": null,
      "metadata": {},
      "outputs": [],
      "source": [
        "# Convert compound 1 to mol from InChI\n",
        "cpd1 = dm.from_inchi(\"InChI=1S/C22H20O4/c23-18-9-4-15(5-10-18)8-13-21(25)20-3-1-2-17(22(20)26)14-16-6-11-19(24)12-7-16/h4-14,20,23-24H,1-3H2/b13-8+,17-14+\")\n",
        "cpd1"
      ]
    },
    {
      "cell_type": "code",
      "execution_count": null,
      "metadata": {},
      "outputs": [],
      "source": [
        "# Convert compound 2 SMILES to mol\n",
        "cpd2 = dm.to_mol(\"OC1=C(C=CC=C1CC1=CC=C(C=C1)O)C(CCC1=CC=C(C=C1)O)=O\")\n",
        "cpd2"
      ]
    },
    {
      "cell_type": "code",
      "execution_count": null,
      "metadata": {},
      "outputs": [],
      "source": [
        "# Convert compound 3 SMILES to mol\n",
        "cpd3 = dm.to_mol(\"OC1=CC=C(CC2C(C(CCC2)C(CCC2=CC=C(C=C2)O)=O)=O)C=C1\")\n",
        "cpd3"
      ]
    },
    {
      "cell_type": "code",
      "execution_count": null,
      "metadata": {},
      "outputs": [],
      "source": [
        "# Save these 3 compounds into a list\n",
        "mol_lst = [cpd1, cpd2, cpd3]\n",
        "mol_lst"
      ]
    },
    {
      "cell_type": "code",
      "execution_count": null,
      "metadata": {},
      "outputs": [],
      "source": [
        "# Convert a list of mols to a dataframe\n",
        "df = dm.to_df(mol_lst)\n",
        "df"
      ]
    },
    {
      "cell_type": "code",
      "execution_count": null,
      "metadata": {},
      "outputs": [],
      "source": [
        "names = [\"Compound 1\", \"Compound 2\", \"Compound 3\"]\n",
        "df[\"names\"] = names\n",
        "df"
      ]
    },
    {
      "cell_type": "code",
      "execution_count": null,
      "metadata": {},
      "outputs": [],
      "source": [
        "\n",
        "# Pre-process molecules using _preprocess function - adapted with courtesy from datamol.io\n",
        "\n",
        "smiles_column = \"smiles\"\n",
        "\n",
        "dm.disable_rdkit_log()\n",
        "\n",
        "def _preprocess(row):\n",
        "    mol = dm.to_mol(row[smiles_column], ordered=True)\n",
        "    mol = dm.fix_mol(mol)\n",
        "    mol = dm.sanitize_mol(mol, sanifix=True, charge_neutral=False)\n",
        "    mol = dm.standardize_mol(\n",
        "        mol,\n",
        "        disconnect_metals=False,\n",
        "        normalize=True,\n",
        "        reionize=True,\n",
        "        uncharge=False,\n",
        "        stereo=True,\n",
        "    )\n",
        "\n",
        "    row[\"standard_smiles\"] = dm.standardize_smiles(dm.to_smiles(mol))\n",
        "    row[\"selfies\"] = dm.to_selfies(mol)\n",
        "    row[\"inchi\"] = dm.to_inchi(mol)\n",
        "    row[\"inchikey\"] = dm.to_inchikey(mol)\n",
        "    return row"
      ]
    },
    {
      "cell_type": "code",
      "execution_count": null,
      "metadata": {},
      "outputs": [],
      "source": [
        "data_cleaned = df.apply(_preprocess, axis=1)\n",
        "data_cleaned"
      ]
    },
    {
      "cell_type": "code",
      "execution_count": null,
      "metadata": {},
      "outputs": [],
      "source": []
    }
  ],
  "metadata": {
    "kernelspec": {
      "display_name": "Python 3 (ipykernel)",
      "language": "python",
      "name": "python3"
    },
    "language_info": {
      "codemirror_mode": {
        "name": "ipython",
        "version": 3
      },
      "file_extension": ".py",
      "mimetype": "text/x-python",
      "name": "python",
      "nbconvert_exporter": "python",
      "pygments_lexer": "ipython3",
      "version": "3.11.0"
    }
  },
  "nbformat": 4,
  "nbformat_minor": 4
}
