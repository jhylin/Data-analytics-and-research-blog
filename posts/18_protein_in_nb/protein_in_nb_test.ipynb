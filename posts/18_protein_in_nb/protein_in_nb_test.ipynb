{
 "cells": [
  {
   "cell_type": "markdown",
   "metadata": {},
   "source": [
    "Draft plan - protein in notebook\n",
    "\n",
    "Try NGLview to display proteins e.g. from PDB in jupyter notebook & integrate with RDKit.\n",
    "\n",
    "Inspiration from ljmartin's dockviz3 (combines NGL & RDKitJS).\n"
   ]
  },
  {
   "cell_type": "markdown",
   "metadata": {},
   "source": []
  }
 ],
 "metadata": {
  "language_info": {
   "name": "python"
  }
 },
 "nbformat": 4,
 "nbformat_minor": 2
}
