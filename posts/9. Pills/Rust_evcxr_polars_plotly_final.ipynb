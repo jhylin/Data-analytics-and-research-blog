{
 "cells": [
  {
   "cell_type": "raw",
   "id": "3e03ccd5-ba50-4dfa-a193-751e8817dc2f",
   "metadata": {},
   "source": [
    "---\n",
    "title: Pills dataset - Part 3\n",
    "subtitle: Using Rust for data visualisation\n",
    "author: Jennifer HY Lin\n",
    "date: 2023-2-13\n",
    "draft: true\n",
    "keep-ipynb: true\n",
    "categories: [Data analytics projects, Rust, Polars, Plotly.rs, Evcxr, Jupyter]\n",
    "---"
   ]
  },
  {
   "cell_type": "markdown",
   "id": "2a8d5b29-4b5f-4cc4-999c-7201bf66e3df",
   "metadata": {},
   "source": [
    "##### **Background**\n",
    "\n",
    "The aim of this final part (part 3) for the pills dataset was really for me to start using Rust in a beginner-friendly way. Overall, these 3 parts to the pills dataset project formulated an overview of how to use Polars in Python (mainly), Pandas in Python (smaller section) and Rust (even little less as this is new to me) with Plotly. Over the time, I find myself learning the best by doing and applying, rather than only reading and thinking, so I've got myself started in this very new programming language, Rust, to get some familiarisations. I anticipate that I'll still work with Python and R mainly in the near future, so that I'll at least be proficient in at least one to two programming languages at the very minimum. \n",
    "\n",
    "My very initial idea was to integrate Rust-Polars, Plotly in Rust (Plotly.rs) and Jupyter-Evcxr together, and see if I could manage to get a simple data visualisation from a small dataset. That was all, and I was actually quite stuck at the step of importing one of the columns as x-axis variables in Rust-Polars to Plotly.rs. I figured it might possibly be due to my very lack-of-knowledge and lack-of-familiarities with Rust (I do need to continue reading the Rust programming language book), Polars (I'm better with Python-Polars actually), Plotly.rs and also Evcxr. Another possibility could be that Plotly.rs mainly had ndarray support, and Polars was not mentioned explicitly so my guess was that these two might not be flowing very well together (hoping in the future there might be some Polars support in Plotly.rs?). Also, Polars itself was constantly evolving and growing as well. \n",
    "\n",
    "So I've decided to leave things as how it would be for now, before I delayed this post any further, if I happened to figure out how to do this in the future then I'll come back to update this last part of the project. While I was tackling this little issue mentioned above, somehow I've managed to deconstruct Polars dataframe in Rust in Evcxr. So I'll show a little bit about it below. One slightly good news that came out from all of this, was that I've managed to import the other column as y-axis variables, which contained numbers, without problems. I've also figured out the Rust codes to convert Series/ChunkedArray to vectors in Rust IDEs (e.g. VS Code, and quite a few others). So I did learn a few things while completing this post, and hoped I could grow further on this later.\n",
    "\n",
    "\n",
    "##### **Import dependencies**\n",
    "\n",
    "These dependencies were known as crates in the world of Rust. I'd also like to think of them as libraries or packages we tend to install or import in Python and R. So this step was necessary before I even started on anything decent in Rust for now."
   ]
  },
  {
   "cell_type": "code",
   "execution_count": 2,
   "id": "f98c0df3-6601-45c1-86f5-d4b5a6a9b73d",
   "metadata": {},
   "outputs": [],
   "source": [
    "// Set up required dependencies\n",
    ":dep ndarray = \"0.15.6\""
   ]
  },
  {
   "cell_type": "code",
   "execution_count": 3,
   "id": "a2b8f293-df0a-4b60-8bc3-9d249de962ee",
   "metadata": {},
   "outputs": [],
   "source": [
    "// ?other features\n",
    ":dep plotly = { version = \">=0.8.0\", features = [\"plotly_ndarray\"]}"
   ]
  },
  {
   "cell_type": "code",
   "execution_count": 21,
   "id": "3ded742b-a34f-4e6e-9944-e4b533faa52c",
   "metadata": {},
   "outputs": [],
   "source": [
    "// May take a few minutes to load polars crate (depending on your machine specs)\n",
    ":dep polars = { version = \">=0.26.0\", features = [\"lazy\", \"csv-file\", \"strings\", \"dtype-duration\", \"dtype-categorical\", \"concat_str\", \"rank\", \"lazy_regex\", \"ndarray\"]}"
   ]
  },
  {
   "cell_type": "code",
   "execution_count": 13,
   "id": "f1192f2f-f599-472e-9711-6a1d3c7a89a5",
   "metadata": {},
   "outputs": [],
   "source": [
    "// May not need this\n",
    ":dep itertools = {version = \"0.9.0\"}"
   ]
  },
  {
   "cell_type": "markdown",
   "id": "40c56aae-3ab0-4e54-8770-6f9c7287fa6a",
   "metadata": {},
   "source": [
    "##### **Import external crates**"
   ]
  },
  {
   "cell_type": "code",
   "execution_count": 5,
   "id": "add86089-396f-4deb-a34d-5734e1a93a37",
   "metadata": {},
   "outputs": [],
   "source": [
    "// Import external crates needed\n",
    "extern crate ndarray;\n",
    "extern crate plotly;\n",
    "extern crate polars;\n",
    "//extern crate rayon;\n",
    "//extern crate arrow;"
   ]
  },
  {
   "cell_type": "markdown",
   "id": "cec8fc12-311b-43a7-bc05-493afa544f3f",
   "metadata": {},
   "source": [
    "##### **Specify imports or modules required**"
   ]
  },
  {
   "cell_type": "code",
   "execution_count": 14,
   "id": "9f9e09cf-40ad-40fb-90e0-72b1384332f0",
   "metadata": {},
   "outputs": [],
   "source": [
    "use ndarray::prelude::*;\n",
    "use polars::prelude::*;\n",
    "use plotly::common::{\n",
    "    ColorScale, ColorScalePalette, DashType, Fill, Font, Line, LineShape, Marker, Mode, Title,\n",
    "};\n",
    "use plotly::layout::{Axis, BarMode, Layout, Legend, TicksDirection};\n",
    "use plotly::{Plot, Scatter, Bar};\n",
    "use itertools::Itertools;"
   ]
  },
  {
   "cell_type": "markdown",
   "id": "98110327-f253-4a10-8cba-30e712e83dfa",
   "metadata": {},
   "source": [
    "##### **Reading csv file**\n",
    "\n",
    "Here, I've imported the .csv file saved from part 2."
   ]
  },
  {
   "cell_type": "code",
   "execution_count": 8,
   "id": "6426de13-00b2-4a22-8916-eb9cc5507c23",
   "metadata": {},
   "outputs": [],
   "source": [
    "// Reading .csv file\n",
    "let df = CsvReader::from_path(\"ace_para_count.csv\").unwrap().finish().unwrap();"
   ]
  },
  {
   "cell_type": "code",
   "execution_count": 9,
   "id": "8946002b-6c0d-442a-9eee-1207e9e55dff",
   "metadata": {},
   "outputs": [
    {
     "data": {
      "text/plain": [
       "shape: (6, 2)\n",
       "┌──────────────┬───────┐\n",
       "│ Colour       ┆ count │\n",
       "│ ---          ┆ ---   │\n",
       "│ str          ┆ i64   │\n",
       "╞══════════════╪═══════╡\n",
       "│ RED          ┆ 1     │\n",
       "│ ORANGE;BROWN ┆ 1     │\n",
       "│ YELLOW;WHITE ┆ 1     │\n",
       "│ ORANGE       ┆ 1     │\n",
       "│ WHITE        ┆ 7     │\n",
       "│ BLUE         ┆ 2     │\n",
       "└──────────────┴───────┘"
      ]
     },
     "execution_count": 9,
     "metadata": {},
     "output_type": "execute_result"
    }
   ],
   "source": [
    "df"
   ]
  },
  {
   "cell_type": "markdown",
   "id": "91855521-d5c7-40be-85b3-7d7d275a1132",
   "metadata": {},
   "source": [
    "##### **Converting columns into ndarrays**\n",
    "\n",
    "I've tested plotting in Plotly.rs by a few trials and errors at the beginning, but luckily I've spotted the ndarray support from the [Plotly.rs book](https://igiagkiozis.github.io/plotly/content/plotly_rs.html) soon enough to figure out that I could convert the \"count\" column into a ndarray first, which was shown in the code below."
   ]
  },
  {
   "cell_type": "code",
   "execution_count": 16,
   "id": "d1648b06-8209-4124-a5e7-afe2b09da806",
   "metadata": {},
   "outputs": [
    {
     "name": "stdout",
     "output_type": "stream",
     "text": [
      "[[NaN, 1.0],\n",
      " [NaN, 1.0],\n",
      " [NaN, 1.0],\n",
      " [NaN, 1.0],\n",
      " [NaN, 7.0],\n",
      " [NaN, 2.0]], shape=[6, 2], strides=[1, 6], layout=Ff (0xa), const ndim=2\n"
     ]
    }
   ],
   "source": [
    "// Switch Polars dataframe into 2D array\n",
    "// Ensure \"ndarray\" was added as one of the features for polars under dependencies\n",
    "\n",
    "/*Example from Polars documentation:\n",
    "let df = DataFrame::new(vec![a, b]).unwrap();\n",
    "let ndarray = df.to_ndarray::<Float64Type>().unwrap();\n",
    "println!(\"{:?}\", ndarray);\n",
    "*/\n",
    "\n",
    "//Note: ndarray for numbers only, not strings, so only count column was converted\n",
    "let ndarray = df.to_ndarray::<Float64Type>().unwrap();\n",
    "println!(\"{:?}\", ndarray);"
   ]
  },
  {
   "cell_type": "markdown",
   "id": "fe61be68-8156-4685-b1a8-912c6bfdb62f",
   "metadata": {},
   "source": [
    "##### **Deconstructing Polars dataframe in Rust**\n",
    "\n",
    "So because to_ndarray was only for numerics and not strings, I ran into a problem trying to figure out how to best import this other \"Colour\" column into Plotly.rs. This led to my little convoluted journey to work with Polars dataframe in Rust, trying to see if I could convert the \"Colour\" column into a vector, as I've tried plotting with the \"count\" column in ndarray as a vector with success. I didn't quite achieve my goal but I've managed to break down the Polars dataframe into different formats."
   ]
  },
  {
   "cell_type": "code",
   "execution_count": 10,
   "id": "b2869e35-e290-4c97-a49b-69589cfc44ee",
   "metadata": {},
   "outputs": [],
   "source": [
    "// Select specific column or series by position\n",
    "let Colours = df[0].clone();\n",
    "\n",
    "//Alternative way to select specific column or series by name\n",
    "//let u = df.select_series(&[\"Colour\"]);"
   ]
  },
  {
   "cell_type": "code",
   "execution_count": 11,
   "id": "7f73f7b8-cd42-4ff9-ac2f-5feb3e551957",
   "metadata": {},
   "outputs": [
    {
     "data": {
      "text/plain": [
       "shape: (6,)\n",
       "Series: 'Colour' [str]\n",
       "[\n",
       "\t\"RED\"\n",
       "\t\"ORANGE;BROWN\"\n",
       "\t\"YELLOW;WHITE\"\n",
       "\t\"ORANGE\"\n",
       "\t\"WHITE\"\n",
       "\t\"BLUE\"\n",
       "]"
      ]
     },
     "execution_count": 11,
     "metadata": {},
     "output_type": "execute_result"
    }
   ],
   "source": [
    "Colours"
   ]
  },
  {
   "cell_type": "code",
   "execution_count": 15,
   "id": "7b48ebe8-7183-43bc-9cf2-8630ad4d2c90",
   "metadata": {},
   "outputs": [
    {
     "name": "stdout",
     "output_type": "stream",
     "text": [
      "\"RED\"\n",
      "\"ORANGE;BROWN\"\n",
      "\"YELLOW;WHITE\"\n",
      "\"ORANGE\"\n",
      "\"WHITE\"\n",
      "\"BLUE\"\n"
     ]
    }
   ],
   "source": [
    "// Print out items in column by applying an iterator to it\n",
    "println!(\"{}\", &Colours.iter().format(\"\\n\"));"
   ]
  },
  {
   "cell_type": "markdown",
   "id": "4f4c7a61-032e-453b-8b26-41dcf91002ac",
   "metadata": {},
   "source": [
    "There was a mention of storing series (column) in a vec as Vec<Series> in Polars' documentation, which I've tried to plot in Plotly.rs and unfortunately it failed to recognise it. Then I was searching on StackOverflow for similar questions, then I found something relating to what I wanted to do form Polars docs as shown below."
   ]
  },
  {
   "cell_type": "markdown",
   "id": "d70247c4-d439-49fa-9816-8f52cd51b467",
   "metadata": {},
   "source": [
    "// From: https://docs.rs/polars/latest/polars/docs/eager/index.html#series\n",
    "//Extracting data:\n",
    "//To be able to extract data out of Series, \n",
    "//either by iterating over them or converting them to other datatypes like a Vec<T>, \n",
    "//we first need to downcast them to a ChunkedArray<T>. \n",
    "//This is needed because we don’t know the data type that is held by the Series.\n",
    "\n",
    "/*use polars::prelude::*;\n",
    "use polars::df;\n",
    "\n",
    "//fn extract_data() -> PolarsResult<()> {\n",
    "let df = df! [\n",
    "    \"a\" => [None, Some(1.0f32), Some(2.0)],\n",
    "    \"str\" => [\"foo\", \"bar\", \"ham\"]\n",
    "]?;\n",
    "\n",
    "    // first extract ChunkedArray to get the inner type.\n",
    "let ca = df.column(\"a\")?.f32()?;\n",
    "\n",
    "    // Then convert to vec\n",
    "let _to_vec: Vec<Option<f32>> = Vec::from(ca);\n",
    "\n",
    "    // ***We can also do this with iterators***\n",
    "let ca = df.column(\"str\")?.utf8()?;\n",
    "let _to_vec: Vec<Option<&str>> = ca.into_iter().collect();\n",
    "let _to_vec_no_options: Vec<&str> = ca.into_no_null_iter().collect();\n",
    "\n",
    "    //Ok(())\n",
    "//}"
   ]
  },
  {
   "cell_type": "markdown",
   "id": "f806cc9e-7605-406a-834e-e54a2afdd33c",
   "metadata": {},
   "source": [
    "It took me quite a long time to just downcast series into chunkedarray, but somehow I've managed to figure the code myself below."
   ]
  },
  {
   "cell_type": "code",
   "execution_count": 17,
   "id": "8e219924-5aba-44ac-8eca-2d93fa26a91e",
   "metadata": {},
   "outputs": [
    {
     "name": "stdout",
     "output_type": "stream",
     "text": [
      "shape: (6,)\n",
      "ChunkedArray: 'Colour' [str]\n",
      "[\n",
      "\t\"RED\"\n",
      "\t\"ORANGE;BROWN\"\n",
      "\t\"YELLOW;WHITE\"\n",
      "\t\"ORANGE\"\n",
      "\t\"WHITE\"\n",
      "\t\"BLUE\"\n",
      "]\n"
     ]
    }
   ],
   "source": [
    "// Somehow worked out how to convert series to chunkedarray by accident!\n",
    "println!(\"{:?}\", Colours.utf8().unwrap());"
   ]
  },
  {
   "cell_type": "markdown",
   "id": "72c51cac-db38-42bc-88ab-afa7e3962c16",
   "metadata": {},
   "source": [
    "Then I moved onto trying to figure out how to convert or place a chunkedarray into a vector, with the closest answer shown below. However, bear in mind that these Rust codes were for Rust IDEs, and not for Evcxr, so this added slightly more complexities to what I was trying to do (perhaps I should just stick with Rust IDEs in the future...)."
   ]
  },
  {
   "cell_type": "markdown",
   "id": "436b08c8-ab4a-49b8-96d0-d42217c0c03b",
   "metadata": {},
   "source": [
    "/*From StackOverflow - How to get a Vec from polars Series or ChunkedArray?\n",
    "\n",
    "You can collect the values into a Vec.\n",
    "\n",
    "use polars::prelude::*;\n",
    "\n",
    "fn main() -> Result<()> {\n",
    "    let s = Series::new(\"a\", 0..10i32);\n",
    "\n",
    "    let as_vec: Vec<Option<i32>> = s.i32()?.into_iter().collect();\n",
    "\n",
    "    // if we are certain we don't have missing values\n",
    "    let as_vec: Vec<i32> = s.i32()?.into_no_null_iter().collect();\n",
    "    Ok(())\n",
    "}\n",
    "*/\n",
    "\n",
    "/*fn iter_forward(ca: &Float32Chunked) {\n",
    "    ca.into_iter()\n",
    "        .for_each(|opt_v| println!(\"{:?}\", opt_v))\n",
    "}\n",
    "*/"
   ]
  },
  {
   "cell_type": "markdown",
   "id": "1b003f02-42f1-447a-abcd-9463c5aa1b70",
   "metadata": {},
   "source": [
    "I then tested using the iterator method, and came up with another line of code as shown below, which listed the colours in the \"Colour\" column."
   ]
  },
  {
   "cell_type": "code",
   "execution_count": 18,
   "id": "849e3967-5ad4-4e91-ac6b-9e7d19acf168",
   "metadata": {},
   "outputs": [
    {
     "name": "stdout",
     "output_type": "stream",
     "text": [
      "Some(\"RED\")\n",
      "Some(\"ORANGE;BROWN\")\n",
      "Some(\"YELLOW;WHITE\")\n",
      "Some(\"ORANGE\")\n",
      "Some(\"WHITE\")\n",
      "Some(\"BLUE\")\n"
     ]
    }
   ],
   "source": [
    "Colours.utf8().unwrap().into_iter().for_each(|array|println!(\"{:?}\", array));"
   ]
  },
  {
   "cell_type": "markdown",
   "id": "cccfe1b2-ca05-486e-8c4b-a20ad73a014e",
   "metadata": {},
   "source": [
    "I then found out, randomly, how to slice strings for ChunkedArrays in Polars."
   ]
  },
  {
   "cell_type": "code",
   "execution_count": 114,
   "id": "7fd7560b-d8fc-4a63-b666-0a6180077b3c",
   "metadata": {},
   "outputs": [
    {
     "data": {
      "text/plain": [
       "Ok(shape: (6,)\n",
       "ChunkedArray: 'Colour' [str]\n",
       "[\n",
       "\t\"RED\"\n",
       "\t\"ORANGE;BROWN\"\n",
       "\t\"YELLOW;WHITE\"\n",
       "\t\"ORANGE\"\n",
       "\t\"WHITE\"\n",
       "\t\"BLUE\"\n",
       "])"
      ]
     },
     "execution_count": 114,
     "metadata": {},
     "output_type": "execute_result"
    }
   ],
   "source": [
    "// Another method to use if needing to slice strings\n",
    "let x = Colours.utf8().unwrap().str_slice(0, Some(15));\n",
    "x"
   ]
  },
  {
   "cell_type": "markdown",
   "id": "b2a53447-0c24-4504-8a8a-ad8437bb0e82",
   "metadata": {},
   "source": [
    "Lastly, before we got too carried away, I just wanted to show the method shown from Polars doc that this was the way to select a specific column from Polars dataframe."
   ]
  },
  {
   "cell_type": "code",
   "execution_count": 19,
   "id": "22cd665a-3bb4-4f8d-a47c-451084d99d32",
   "metadata": {},
   "outputs": [
    {
     "data": {
      "text/plain": [
       "shape: (6, 1)\n",
       "┌──────────────┐\n",
       "│ Colour       │\n",
       "│ ---          │\n",
       "│ str          │\n",
       "╞══════════════╡\n",
       "│ RED          │\n",
       "│ ORANGE;BROWN │\n",
       "│ YELLOW;WHITE │\n",
       "│ ORANGE       │\n",
       "│ WHITE        │\n",
       "│ BLUE         │\n",
       "└──────────────┘"
      ]
     },
     "execution_count": 19,
     "metadata": {},
     "output_type": "execute_result"
    }
   ],
   "source": [
    "// This was the Polars' way to select a column in a dataframe\n",
    "let ca = df.clone().lazy().select([cols([\"Colour\"])]).collect()?;\n",
    "ca"
   ]
  },
  {
   "cell_type": "markdown",
   "id": "cebeffca-f84f-4464-a6f9-9cf436074ce9",
   "metadata": {},
   "source": [
    "##### **Plotting Polars dataframe in Plotly.rs**\n",
    "\n",
    "For the x-axis, eventually, I reverted for manual input due to the issue mentioned in the background section. So the colours from the \"Colour\" column were stored in a vector set up manually, rather than coming directly from the dataframe. While searching for answers, I've also learnt several other tricks, although not directly solving the problem. For the y-axis, the ndarray for the \"count\" column was converted into a vector first before being fed into the trace (graph module), and thankfully it worked nicely."
   ]
  },
  {
   "cell_type": "code",
   "execution_count": 20,
   "id": "32528177-523f-4054-9df1-555b22c90aa1",
   "metadata": {},
   "outputs": [
    {
     "data": {
      "application/vnd.plotly.v1+json": {
       "config": {},
       "data": [
        {
         "type": "scatter",
         "x": [
          "RED",
          "ORANGE;BROWN",
          "YELLOW;WHITE",
          "ORANGE",
          "WHITE",
          "BLUE"
         ],
         "y": [
          1,
          1,
          1,
          1,
          7,
          2
         ]
        }
       ],
       "layout": {
        "autosize": true,
        "title": {
         "text": "Frequency of colours in acetaminophen (paracetamol) oral dosage forms"
        },
        "xaxis": {
         "autorange": true,
         "range": [
          -0.316638686812162,
          5.316638686812162
         ],
         "title": {
          "text": "Colours"
         },
         "type": "category"
        },
        "yaxis": {
         "autorange": true,
         "range": [
          0.5775401069518717,
          7.422459893048129
         ],
         "title": {
          "text": "Count"
         },
         "type": "linear"
        }
       }
      },
      "image/png": "[encoded data removed]",
      "text/plain": [
       "\"EVCXR_BEGIN_CONTENT application/vnd.plotly.v1+json\\n{\\\"data\\\":[{\\\"type\\\":\\\"scatter\\\",\\\"x\\\":[\\\"RED\\\",\\\"ORANGE;BROWN\\\",\\\"YELLOW;WHITE\\\",\\\"ORANGE\\\",\\\"WHITE\\\",\\\"BLUE\\\"],\\\"y\\\":[1.0,1.0,1.0,1.0,7.0,2.0]}],\\\"layout\\\":{\\\"title\\\":{\\\"text\\\":\\\"Frequency of colours in acetaminophen (paracetamol) oral dosage forms\\\"},\\\"height\\\":500,\\\"xaxis\\\":{\\\"title\\\":{\\\"text\\\":\\\"Colours\\\"}},\\\"yaxis\\\":{\\\"title\\\":{\\\"text\\\":\\\"Count\\\"}}},\\\"config\\\":{}}\\nEVCXR_END_CONTENT\""
      ]
     },
     "execution_count": 20,
     "metadata": {},
     "output_type": "execute_result"
    }
   ],
   "source": [
    "// MANUAL Sample method:\n",
    "// Use vec! macro to create new vectors to hold x variables (words as strings) for plotting\n",
    "// Manually input the colour names (as ndarray is only for numbers)\n",
    "let x = vec![\"RED\", \"ORANGE;BROWN\", \"YELLOW;WHITE\", \"ORANGE\", \"WHITE\", \"BLUE\"];\n",
    "\n",
    "// Plot using ndarray, which is supported by Plotly.rs (?Polars not supported yet)\n",
    "// Convert ndarray (holding counts as y variables) into vector for plotting\n",
    "let y = ndarray.column(1).to_vec();\n",
    "\n",
    "// Use trace as a graph module,\n",
    "// choose which type of plots is needed with x & y variables called\n",
    "// Graph options e.g. Scatter, Line or Bar\n",
    "let trace = Scatter::new(x, y);\n",
    "\n",
    "// Set plot variable as mutable and initiate a plot\n",
    "let mut plot = Plot::new();\n",
    "// Add trace (graph) into the plot variable\n",
    "plot.add_trace(trace);\n",
    "\n",
    "// Specify the specs for plot\n",
    "let layout = Layout::new()\n",
    "    // Choose height of graph\n",
    "    .height(500)\n",
    "    // Name x-axis\n",
    "    .x_axis(Axis::new().title(Title::new(\"Colours\")))\n",
    "    // Name y-axis\n",
    "    .y_axis(Axis::new().title(Title::new(\"Count\")))\n",
    "    // Add title of graph\n",
    "    .title(Title::new(\"Frequency of colours in acetaminophen (paracetamol) oral dosage forms\"));\n",
    "\n",
    "// Set the layout of the plot\n",
    "plot.set_layout(layout);\n",
    "\n",
    "// Display the plot in Jupyter Lab format \n",
    "// note for Jupyter Notebook: use plot.notebook_display();\n",
    "plot.lab_display();\n",
    "format!(\"EVCXR_BEGIN_CONTENT application/vnd.plotly.v1+json\\n{}\\nEVCXR_END_CONTENT\", plot.to_json())"
   ]
  },
  {
   "cell_type": "markdown",
   "id": "bf5ed09c-e623-4e34-aa25-baeadde5308e",
   "metadata": {},
   "source": [
    "##### **Conclusion**\n",
    "\n",
    "This last part was the hardest for me out of all 3 parts of pills dataset, as Rust was completely new to me, but it was interesting to be able to get a feel of how this programming language was applied in Polars dataframe library. Also, I'd just like to get a taste of using Rust in data visualisations. All that I wanted to show was that there were a variety of data tools that could be utilised, and knowing your tools of trade would be the most critical when working on data projects as certain tools would only be best suited for certain tasks and scenarios."
   ]
  },
  {
   "cell_type": "code",
   "execution_count": null,
   "id": "59ba8a43-1e91-4b6d-8bd7-b04d17614a3b",
   "metadata": {},
   "outputs": [],
   "source": []
  }
 ],
 "metadata": {
  "kernelspec": {
   "display_name": "Rust",
   "language": "rust",
   "name": "rust"
  },
  "language_info": {
   "codemirror_mode": "rust",
   "file_extension": ".rs",
   "mimetype": "text/rust",
   "name": "Rust",
   "pygment_lexer": "rust",
   "version": ""
  }
 },
 "nbformat": 4,
 "nbformat_minor": 5
}
