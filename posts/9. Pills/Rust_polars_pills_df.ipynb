{
  "cells": [
    {
      "cell_type": "raw",
      "metadata": {},
      "source": [
        "---\n",
        "title: Pills dataset - Part 2\n",
        "subtitle: Text cleaning using Polars & visualising pills with Plotly\n",
        "author: Jennifer HY Lin\n",
        "date: 2023-1-31\n",
        "draft: false\n",
        "keep-ipynb: true\n",
        "categories:\n",
        "  - Data analytics projects\n",
        "  - Polars\n",
        "  - Python\n",
        "  - Plotly\n",
        "  - Jupyter\n",
        "---"
      ],
      "id": "8f1c77c6"
    },
    {
      "cell_type": "markdown",
      "metadata": {},
      "source": [
        "##### **Quick overview**\n",
        "\n",
        "Part 2 of this project aimed to look at the pills data up close, particularly into the types of dosage forms, colours, shapes and inactive excipients used in oral medications. Plotly was used as the main data visualisation library, which was followed by some text cleaning for a particularly busy column in the dataset. This was then completed with a section in the end to generate a small dataframe, preparing for a simple data visualisation in Rust-Evcxr for the final part of this project (part 3).\n",
        "\n",
        "<br>\n",
        "\n",
        "![Photo by <a href=\"https://unsplash.com/@myriamzilles?utm_source=unsplash&utm_medium=referral&utm_content=creditCopyText\">Myriam Zilles</a> on <a href=\"https://unsplash.com/photos/KltoLK6Mk-g?utm_source=unsplash&utm_medium=referral&utm_content=creditCopyText\">Unsplash</a>](pills.jpg){fig-align=\"left\"}\n",
        "\n",
        "<br>\n",
        "\n",
        "##### **Import libraries and pills dataset**\n"
      ],
      "id": "1130dfba"
    },
    {
      "cell_type": "code",
      "metadata": {},
      "source": [
        "import polars as pl\n",
        "import plotly.express as px"
      ],
      "id": "5a019cca",
      "execution_count": null,
      "outputs": []
    },
    {
      "cell_type": "markdown",
      "metadata": {},
      "source": [
        "The pills.csv file saved from part 1 was imported as shown below.\n"
      ],
      "id": "396ecba6"
    },
    {
      "cell_type": "code",
      "metadata": {},
      "source": [
        "df = pl.read_csv(\"pills.csv\")\n",
        "df"
      ],
      "id": "8c9b83a7",
      "execution_count": null,
      "outputs": []
    },
    {
      "cell_type": "markdown",
      "metadata": {},
      "source": [
        "<br>\n",
        "\n",
        "##### **Change column names**\n",
        "\n",
        "Again, column names were changed to something easier to read.\n"
      ],
      "id": "f0a11fde"
    },
    {
      "cell_type": "code",
      "metadata": {},
      "source": [
        "# Rename all column names\n",
        "df_new = df.rename({\"splcolor_text\": \"Colour\", \n",
        "                    \"splshape_text\": \"Shape\", \n",
        "                    \"spl_strength\": \"Drug_strength\", \n",
        "                    \"spl_inactive_ing\": \"Inactive_excipients\", \n",
        "                    \"DosageForm\": \"Dosage_form\"}\n",
        "                  )\n",
        "df_new"
      ],
      "id": "e399f13f",
      "execution_count": null,
      "outputs": []
    },
    {
      "cell_type": "markdown",
      "metadata": {},
      "source": [
        "<br>\n",
        "\n",
        "##### **Visualising oral dosage forms & colours in pills**\n",
        "\n",
        "Grabbing only unique drugs in the dataset to minimise duplications.\n"
      ],
      "id": "3419c2f7"
    },
    {
      "cell_type": "code",
      "metadata": {},
      "source": [
        "df_viz = df_new.unique(subset = \"Drug_strength\")\n",
        "df_viz"
      ],
      "id": "3d20363b",
      "execution_count": null,
      "outputs": []
    },
    {
      "cell_type": "markdown",
      "metadata": {},
      "source": [
        "One way to avoid switching Polars dataframe to a Pandas one, which could be one of the options to plot data from Polars dataframes in Plotly, was to call the x-axis and y-axis data directly from the dataframe as shown in the codes below.\n"
      ],
      "id": "68fa8007"
    },
    {
      "cell_type": "code",
      "metadata": {},
      "source": [
        "# scatter plot for colours, dosage forms & drug strengths \n",
        "fig = px.scatter(x = df_viz[\"Colour\"], \n",
        "                 y = df_viz[\"Dosage_form\"], \n",
        "                 color = df_viz[\"Colour\"],\n",
        "                 hover_name = df_viz[\"Drug_strength\"],\n",
        "                 width = 900, \n",
        "                 height = 400,\n",
        "                 title = \"Oral dosage forms and colours of pills\")\n",
        "\n",
        "# Update layout of the plot\n",
        "fig.update_layout(\n",
        "    # Change title font size\n",
        "    title = dict(\n",
        "        font = dict(\n",
        "            size = 15)),\n",
        "    # Centre the title\n",
        "    title_x = 0.5,\n",
        "    # Edit margins\n",
        "    margin = dict(\n",
        "        l = 20, r = 20, t = 40, b = 3),\n",
        "    # Change x-axis\n",
        "    xaxis = dict(\n",
        "        tickfont = dict(size = 9), \n",
        "        title = \"Colours\"\n",
        "    ),\n",
        "    # Change y-axis\n",
        "    yaxis = dict(\n",
        "        tickfont = dict(size = 9), \n",
        "        title = \"Dosage forms\"\n",
        "    ),\n",
        "    # Edit lengend font size\n",
        "    legend = dict(\n",
        "        font = dict(\n",
        "            size = 9)))\n",
        "\n",
        "fig.show()"
      ],
      "id": "9799b216",
      "execution_count": null,
      "outputs": []
    },
    {
      "cell_type": "markdown",
      "metadata": {},
      "source": [
        "<br>\n",
        "\n",
        "White was the most common colour, especially after zooming in the plot. Capsule was very commonly used as the oral dosage form of choice in this dataset.\n",
        "\n",
        "<br>\n",
        "\n",
        "##### **Visualising shapes & colours in pills**\n"
      ],
      "id": "a6dd95c7"
    },
    {
      "cell_type": "code",
      "metadata": {},
      "source": [
        "fig = px.scatter(x = df_viz[\"Colour\"], \n",
        "                 y = df_viz[\"Shape\"], \n",
        "                 color = df_viz[\"Colour\"],\n",
        "                 hover_name = df_viz[\"Drug_strength\"],\n",
        "                 width = 900, \n",
        "                 height = 400,\n",
        "                 title = \"Shapes and colours of pills\")\n",
        "\n",
        "# Update layout of the plot\n",
        "fig.update_layout(\n",
        "    # Change title font size\n",
        "    title = dict(\n",
        "        font = dict(\n",
        "            size = 15)),\n",
        "    # Centre the title\n",
        "    title_x = 0.5,\n",
        "    # Edit margins\n",
        "    margin = dict(\n",
        "        l = 20, r = 20, t = 40, b = 3),\n",
        "    # Change x-axis\n",
        "    xaxis = dict(\n",
        "        tickfont = dict(size = 9), \n",
        "        title = \"Colours\"\n",
        "    ),\n",
        "    # Change y-axis\n",
        "    yaxis = dict(\n",
        "        tickfont = dict(size = 9), \n",
        "        title = \"Shapes\"\n",
        "    ),\n",
        "    # Edit lengend font size\n",
        "    legend = dict(\n",
        "        font = dict(\n",
        "            size = 9)))\n",
        "\n",
        "fig.show()"
      ],
      "id": "93024a58",
      "execution_count": null,
      "outputs": []
    },
    {
      "cell_type": "markdown",
      "metadata": {},
      "source": [
        "<br>\n",
        "\n",
        "Capsule was again the most common oral dosage shape used for pills in the dataset. Common colours included red, brown, blue, purple, pink, orange, green, white and yellow. Combination colours followed these common ones, which had a mixture of a variety of colours used simultaneously, likely to avoid confusions and errors in dispensings or administrations.\n",
        "\n",
        "<br>\n",
        "\n",
        "##### **Visualising inactive excipients in pills**\n",
        "\n",
        "The messiest part of the data actually lied in the column of \"Inactive_excipients\", with numerous different punctuations used inconsistently, such as forward slashes, commas and semi-colons. There were vast quantities of different inactive components used for oral dosage forms. Because of this, I had to spend a bit more time cleaning up the texts in order to find out what were the commonly used inactive ingredients in the end.\n"
      ],
      "id": "0b3a08b0"
    },
    {
      "cell_type": "code",
      "metadata": {},
      "source": [
        "# Formulated a separate dataframe with just \"Inactive_excipients\"\n",
        "df_ie = df_new.select([pl.col(\"Inactive_excipients\")])\n",
        "df_ie"
      ],
      "id": "1914c299",
      "execution_count": null,
      "outputs": []
    },
    {
      "cell_type": "markdown",
      "metadata": {},
      "source": [
        "###### **Text cleaning for inactive excipients column**\n",
        "\n",
        "To prepare this column for data visualisations, I used Polars' string expressions (or more commonly known as regex - regular expressions) to try and tidy up the raw texts. When I did the text cleaning in Jupyter Lab initially, the line of code for .str.strip(\" ,\") worked, but when I converted the .ipynb file into a .qmd (Quarto markdown) one, and used the same line, it failed to work due to the extra space in front of the comma. However, I got around the error by splitting it into two separate units as space and comma, and it worked without problem. One possible reason would be due to the reticulate package needed to run Python in RStudio IDE, and how Polars dataframe library was relatively newer than Pandas dataframe library, which meant certain features in Polars might not have been taken on board in the reticulate package (only my guess).\n"
      ],
      "id": "103dafd2"
    },
    {
      "cell_type": "code",
      "metadata": {},
      "source": [
        "# Clean string texts \n",
        "# Convert uppercase letters into lowercase ones in the excipients column\n",
        "df_de = (df_ie.with_column(pl.col(\"Inactive_excipients\").str.to_lowercase(\n",
        "    # replace old punctuations (1st position) with new one (2nd position)\n",
        "    ).str.replace_all(\n",
        "        \";\", \", \"\n",
        "    ).str.replace_all(\n",
        "        \" /\", \", \"\n",
        "    ).str.replace_all(\n",
        "        \"/\", \", \"\n",
        "    # Remove extra space & comma by stripping\n",
        "    # In Jupyter notebook/lab - can combine space & comma: .str.strip(\" ,\")\n",
        "    # For RStudio IDE - separate into two for this to work\n",
        "    ).str.strip(\n",
        "        \" \"\n",
        "    ).str.strip(\n",
        "        \",\"\n",
        "    # Split the texts by the specified punctuation e.g. comma with space\n",
        "    ).str.split(\n",
        "        by = \", \"\n",
        "    # Create a new column with a new name\n",
        "    ).alias(\n",
        "        \"Inactive\"\n",
        "    )\n",
        "# Explode the splitted texts into separate rows within the new column\n",
        ").explode(\n",
        "    \"Inactive\"\n",
        ")\n",
        ")\n",
        "\n",
        "df_de"
      ],
      "id": "18923f08",
      "execution_count": null,
      "outputs": []
    },
    {
      "cell_type": "code",
      "metadata": {},
      "source": [
        "# Quick look at the dataframe to see before and after text cleaning\n",
        "print(df_de.glimpse())"
      ],
      "id": "a7eb5edb",
      "execution_count": null,
      "outputs": []
    },
    {
      "cell_type": "markdown",
      "metadata": {},
      "source": [
        "As shown above, the \"Inactive_excipients\" column was the original column for excipients, where the second column named, \"Inactive\" was the new column shown after the punctuation tidy-ups, string strip and row text explosion. The excipients were broken down into individual terms, rather than in massively long strings which might not make sense to some readers.\n"
      ],
      "id": "a18e9c0b"
    },
    {
      "cell_type": "code",
      "metadata": {},
      "source": [
        "# Re-organise the dataframe to choose the cleaned \"Inactive\" column\n",
        "df_final = df_de.select([\"Inactive\"])\n",
        "df_final"
      ],
      "id": "8a04ebca",
      "execution_count": null,
      "outputs": []
    },
    {
      "cell_type": "code",
      "metadata": {},
      "source": [
        "# Remove all cells with null values\n",
        "df_final = df_final.drop_nulls()"
      ],
      "id": "ffe1e350",
      "execution_count": null,
      "outputs": []
    },
    {
      "cell_type": "code",
      "metadata": {},
      "source": [
        "# Group the data by different inactive excipients with counts shown\n",
        "df_final = df_final.groupby(\"Inactive\").agg(pl.count())\n",
        "df_final.head()"
      ],
      "id": "a7eb8f8e",
      "execution_count": null,
      "outputs": []
    },
    {
      "cell_type": "markdown",
      "metadata": {},
      "source": [
        "###### **Inactive excipient counts**\n"
      ],
      "id": "16f45f38"
    },
    {
      "cell_type": "code",
      "metadata": {},
      "source": [
        "# Count each excipient and cast the whole column into integers\n",
        "df_final = df_final.with_column((pl.col(\"count\")).cast(pl.Int64, strict = False))\n",
        "df_final"
      ],
      "id": "a48ce976",
      "execution_count": null,
      "outputs": []
    },
    {
      "cell_type": "markdown",
      "metadata": {},
      "source": [
        "###### **Overview of inactive excipients used in oral dosage forms**\n"
      ],
      "id": "bad8ba95"
    },
    {
      "cell_type": "code",
      "metadata": {},
      "source": [
        "fig = px.scatter(x = df_final[\"Inactive\"], \n",
        "                 y = df_final[\"count\"], \n",
        "                 hover_name = df_final[\"Inactive\"],\n",
        "                 title = \"Inactive excipients and their respective counts in pills\")\n",
        "\n",
        "fig.update_layout(\n",
        "    title = dict(\n",
        "        font = dict(\n",
        "            size = 15)),\n",
        "    title_x = 0.5,\n",
        "    margin = dict(\n",
        "        l = 20, r = 20, t = 40, b = 10),\n",
        "    xaxis = dict(\n",
        "        tickfont = dict(size = 9), \n",
        "        title = \"Inactive excipients\"\n",
        "    ),\n",
        "    yaxis = dict(\n",
        "        tickfont = dict(size = 9), \n",
        "        title = \"Counts\"\n",
        "    ),\n",
        "    legend = dict(\n",
        "        font = dict(\n",
        "            size = 9)))\n",
        "\n",
        "\n",
        "fig.show()"
      ],
      "id": "71f15c9f",
      "execution_count": null,
      "outputs": []
    },
    {
      "cell_type": "markdown",
      "metadata": {},
      "source": [
        "###### **Frequently used inactive excipients**\n"
      ],
      "id": "3814b604"
    },
    {
      "cell_type": "code",
      "metadata": {},
      "source": [
        "# Re-order the excipients with counts in descending order\n",
        "# Filter out only the ones with counts over 10,000\n",
        "df_ex = df_final.sort(\"count\", reverse = True).filter((pl.col(\"count\")) >= 10000)\n",
        "df_ex.head()"
      ],
      "id": "32fb6bca",
      "execution_count": null,
      "outputs": []
    },
    {
      "cell_type": "code",
      "metadata": {},
      "source": [
        "fig = px.bar(x = df_ex[\"Inactive\"], \n",
        "             y = df_ex[\"count\"], \n",
        "             color = df_ex[\"Inactive\"],\n",
        "             title = \"Commonly used inactive excipients in pills\")\n",
        "\n",
        "fig.update_layout(\n",
        "    title = dict(\n",
        "        font = dict(\n",
        "            size = 15)),\n",
        "    title_x = 0.5,\n",
        "    margin = dict(\n",
        "        l = 10, r = 10, t = 40, b = 5),\n",
        "    xaxis = dict(\n",
        "        tickfont = dict(size = 9), \n",
        "        title = \"Inactive excipients\"\n",
        "    ),\n",
        "    yaxis = dict(\n",
        "        tickfont = dict(size = 9), \n",
        "        title = \"Counts\"\n",
        "    ),\n",
        "    legend = dict(\n",
        "        font = dict(\n",
        "            size = 9)))\n",
        "\n",
        "fig.show()"
      ],
      "id": "ba810501",
      "execution_count": null,
      "outputs": []
    },
    {
      "cell_type": "markdown",
      "metadata": {},
      "source": [
        "<br>\n",
        "\n",
        "The text cleaning might not be perfect at this stage, but I think I've managed to get most of the core texts cleaned into a more sensible and readable formats. From what I've worked out here, the most frequently used inactive ingredient was magnesium stearate, which was followed by titanium dioxide, and then interestingly \"unspecified\", which was exactly how it was documented in the original pillbox dataset at the beginning. I didn't go further digging into what this \"unspecified\" inactive excipients might be, as in whether it meant it in a singular or plural forms. So this still remained a mystery at this stage, but if all these oral medications were FDA-approved, we would've hoped each and everyone of these pills would be verified in safety, quality and effectiveness before they entered into the market for wide prescriptions. In the worst case, each therapeutic drug should also have post-marketing surveillance, for long-term safety monitoring.\n",
        "\n",
        "<br>\n",
        "\n",
        "##### **Create a small dataframe for data visualisation in Rust-Evcxr**\n",
        "\n",
        "All acetaminophens were filtered out in the \"Drug_strength\" column and all duplicates were removed in the dataset.\n"
      ],
      "id": "eadd4c6f"
    },
    {
      "cell_type": "code",
      "metadata": {},
      "source": [
        "df_ac = df_new.filter(\n",
        "    pl.col(\"Drug_strength\")\n",
        "    .str.starts_with(\"acetam\")).unique(subset = [\"Drug_strength\"])\n",
        "\n",
        "df_ac"
      ],
      "id": "b5f0e28e",
      "execution_count": null,
      "outputs": []
    },
    {
      "cell_type": "markdown",
      "metadata": {},
      "source": [
        "I've opted for finding out the different types of colours with their respective counts in oral acetaminophen, or also known as paracetamol in some other countries.\n"
      ],
      "id": "10dcdac7"
    },
    {
      "cell_type": "code",
      "metadata": {},
      "source": [
        "df_ac = df_ac.groupby(\"Colour\").agg(pl.count())\n",
        "df_ac"
      ],
      "id": "ede6f89a",
      "execution_count": null,
      "outputs": []
    },
    {
      "cell_type": "code",
      "metadata": {},
      "source": [
        "fig = px.scatter(x = df_ac[\"Colour\"], \n",
        "                 y = df_ac[\"count\"], \n",
        "                 size = df_ac[\"count\"], \n",
        "                 color = df_ac[\"Colour\"],\n",
        "                 title = \"Frequency of colours in acetaminophen (paracetamol) oral dosage forms\"\n",
        "                )\n",
        "\n",
        "fig.update_layout(\n",
        "    xaxis = dict(\n",
        "        title = \"Colours\"\n",
        "    ), \n",
        "    yaxis = dict(\n",
        "        title = \"Counts\"\n",
        "    )\n",
        ")\n",
        "\n",
        "fig.show()"
      ],
      "id": "0f4737da",
      "execution_count": null,
      "outputs": []
    },
    {
      "cell_type": "markdown",
      "metadata": {},
      "source": [
        "<br>\n",
        "\n",
        "I've decided to keep the dataframe very simple for part 3 as my original intention was to trial plotting a graph in Evcxr only (nothing fancy at this stage), and also to gain some familiarities with Rust as another new programming language for me. Readers might notice that I've opted for a scatter plot in Plotly (in Python3 kernel) here for this last dataframe, and when we finally got to part 3 (hopefully coming soon as I needed to figure how to publish Rust codes in Quarto...), I might very likely revert this to a bar graph (in Rust kernel), due to some technical issues (slow dependency loading, and somehow with Plotly.rs in Evcxr, the scatter graph looked more like scatter line graph instead... more stories to follow) and being a new Rust-Evcxr user. At the very least, I've kind of tried something I've planned for, although not looking very elegant yet, with rooms for improvements in the future."
      ],
      "id": "eb1834e5"
    }
  ],
  "metadata": {
    "kernelspec": {
      "name": "python3",
      "language": "python",
      "display_name": "Python 3 (ipykernel)"
    }
  },
  "nbformat": 4,
  "nbformat_minor": 5
}