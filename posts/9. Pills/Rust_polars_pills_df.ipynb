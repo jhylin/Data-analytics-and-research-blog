{
  "cells": [
    {
      "cell_type": "raw",
      "metadata": {},
      "source": [
        "---\n",
        "title: Pills dataset - Part 2\n",
        "subtitle: Text cleaning using Polars & visualising pills with Plotly\n",
        "author: Jennifer HY Lin\n",
        "date: 2023-1-30\n",
        "draft: true\n",
        "keep-ipynb: true\n",
        "categories:\n",
        "  - Data analytics projects\n",
        "  - Polars\n",
        "  - Python\n",
        "  - Plotly\n",
        "  - Jupyter\n",
        "---"
      ],
      "id": "c1ecc555"
    },
    {
      "cell_type": "markdown",
      "metadata": {},
      "source": [
        "##### **Quick overview**\n",
        "\n",
        "Part 2 of this project aimed to look at the pills data up close, particularly into the dosage forms, colours, shapes and inactive excipients used in the dataset. Plotly was used as the main data visualisation library here, with a section in the end to generate a small dataframe in preparation for a data visualisation in Rust-Evcxr for part 3.\n",
        "\n",
        "<br>\n",
        "\n",
        "##### **Import libraries and pills dataset**\n"
      ],
      "id": "fd2dd909"
    },
    {
      "cell_type": "code",
      "metadata": {},
      "source": [
        "import polars as pl\n",
        "import plotly.express as px"
      ],
      "id": "75cea1c2",
      "execution_count": null,
      "outputs": []
    },
    {
      "cell_type": "markdown",
      "metadata": {},
      "source": [
        "The pills.csv file saved from part 1 was imported as shown below.\n"
      ],
      "id": "edbdc3a6"
    },
    {
      "cell_type": "code",
      "metadata": {},
      "source": [
        "df = pl.read_csv(\"pills.csv\")\n",
        "df"
      ],
      "id": "6ebeb393",
      "execution_count": null,
      "outputs": []
    },
    {
      "cell_type": "markdown",
      "metadata": {},
      "source": [
        "<br>\n",
        "\n",
        "##### **Change column names**\n",
        "\n",
        "Again, column names were changed to something easier to read.\n"
      ],
      "id": "dcce83c3"
    },
    {
      "cell_type": "code",
      "metadata": {},
      "source": [
        "# Rename all column names\n",
        "df_new = df.rename({\"splcolor_text\": \"Colour\", \n",
        "                    \"splshape_text\": \"Shape\", \n",
        "                    \"spl_strength\": \"Drug_strength\", \n",
        "                    \"spl_inactive_ing\": \"Inactive_excipients\", \n",
        "                    \"DosageForm\": \"Dosage_form\"}\n",
        "                  )\n",
        "df_new"
      ],
      "id": "e8e4c666",
      "execution_count": null,
      "outputs": []
    },
    {
      "cell_type": "markdown",
      "metadata": {},
      "source": [
        "<br>\n",
        "\n",
        "##### **Visualising oral dosage forms & colours in pills**\n",
        "\n",
        "Grabbing only unique drugs in the dataset to minimise duplications.\n"
      ],
      "id": "922896ff"
    },
    {
      "cell_type": "code",
      "metadata": {},
      "source": [
        "df_viz = df_new.unique(subset = \"Drug_strength\")\n",
        "df_viz"
      ],
      "id": "3ddbf796",
      "execution_count": null,
      "outputs": []
    },
    {
      "cell_type": "markdown",
      "metadata": {},
      "source": [
        "One way to avoid switching Polars dataframe to a Pandas one, which might be one of the options to plot data from Polars dataframes in Plotly, was to call the x-axis and y-axis datasets directly as shown in the codes below.\n"
      ],
      "id": "539e81d2"
    },
    {
      "cell_type": "code",
      "metadata": {},
      "source": [
        "# scatter plot for colours, dosage forms & drug strengths \n",
        "fig = px.scatter(x = df_viz[\"Colour\"], \n",
        "                 y = df_viz[\"Dosage_form\"], \n",
        "                 color = df_viz[\"Colour\"],\n",
        "                 hover_name = df_viz[\"Drug_strength\"],\n",
        "                 width = 900, \n",
        "                 height = 400,\n",
        "                 title = \"Oral dosage forms and colours of pills\")\n",
        "\n",
        "fig.update_layout(\n",
        "    title = dict(\n",
        "        font = dict(\n",
        "            size = 15)),\n",
        "    title_x = 0.5,\n",
        "    margin = dict(\n",
        "        l = 20, r = 20, t = 40, b = 3),\n",
        "    xaxis = dict(\n",
        "        tickfont = dict(size = 9), \n",
        "        title = \"Colours\"\n",
        "    ),\n",
        "    yaxis = dict(\n",
        "        tickfont = dict(size = 9), \n",
        "        title = \"Dosage forms\"\n",
        "    ),\n",
        "    legend = dict(\n",
        "        font = dict(\n",
        "            size = 9)))\n",
        "\n",
        "fig.show()"
      ],
      "id": "39c6e1cd",
      "execution_count": null,
      "outputs": []
    },
    {
      "cell_type": "markdown",
      "metadata": {},
      "source": [
        "White was the most common colour, especially after zooming in the plot. Capsule was very commonly used as the oral dosage form of choice in this dataset.\n",
        "\n",
        "<br>\n",
        "\n",
        "##### **Visualising shapes & colours in pills**\n"
      ],
      "id": "eca20052"
    },
    {
      "cell_type": "code",
      "metadata": {},
      "source": [
        "fig = px.scatter(x = df_viz[\"Colour\"], \n",
        "                 y = df_viz[\"Shape\"], \n",
        "                 color = df_viz[\"Colour\"],\n",
        "                 hover_name = df_viz[\"Drug_strength\"],\n",
        "                 width = 900, \n",
        "                 height = 400,\n",
        "                 title = \"Shapes and colours of pills\")\n",
        "\n",
        "# Update layout of the plot\n",
        "fig.update_layout(\n",
        "    # Change title font size\n",
        "    title = dict(\n",
        "        font = dict(\n",
        "            size = 15)),\n",
        "    # Centre the title\n",
        "    title_x = 0.5,\n",
        "    # Edit margins\n",
        "    margin = dict(\n",
        "        l = 20, r = 20, t = 40, b = 3),\n",
        "    # Change x-axis\n",
        "    xaxis = dict(\n",
        "        tickfont = dict(size = 9), \n",
        "        title = \"Colours\"\n",
        "    ),\n",
        "    # Change y-axis\n",
        "    yaxis = dict(\n",
        "        tickfont = dict(size = 9), \n",
        "        title = \"Shapes\"\n",
        "    ),\n",
        "    # Edit lengend font size\n",
        "    legend = dict(\n",
        "        font = dict(\n",
        "            size = 9)))\n",
        "\n",
        "fig.show()"
      ],
      "id": "f101041a",
      "execution_count": null,
      "outputs": []
    },
    {
      "cell_type": "markdown",
      "metadata": {},
      "source": [
        "Capsule was again the most common oral dosage shape used for pills in the dataset. Common colours included red, brown, blue, purple, pink, orange, green, white and yellow. Combination colours followed these common ones, which had a mixture of a variety of colours used simultaneously, likely to avoid confusions and errors in dispensings or administrations.\n",
        "\n",
        "<br>\n",
        "\n",
        "##### **Visualising inactive excipients in pills**\n",
        "\n",
        "The messiest part of the data actually lied in the column of \"Inactive_excipients\", with numerous different punctuations used inconsistently, such as forward slashes, commas and semi-colons. There were vast quantities of different inactive components used for oral dosage forms. Because of this, I had to spend a bit more time cleaning up the texts in order to observe what sort of visulaisations would result in the end.\n"
      ],
      "id": "83797369"
    },
    {
      "cell_type": "code",
      "metadata": {},
      "source": [
        "# Formulated a separate dataframe with just \"Inactive_excipients\"\n",
        "df_ie = df_new.select([pl.col(\"Inactive_excipients\")])\n",
        "df_ie"
      ],
      "id": "da02b305",
      "execution_count": null,
      "outputs": []
    },
    {
      "cell_type": "markdown",
      "metadata": {},
      "source": [
        "###### **Text cleaning for inactive excipients column**\n",
        "\n",
        "In order to prepare this column for data visualisations, I used Polars' string expressions to try and tidy up the raw texts. When I did the text cleaning in Jupyter Lab initially, the line of code for .str.strip(\" ,\") worked, but when I converted the .ipynb file into a .qmd (Quarto markdown) one, and used the same line, it failed to work due to the extra space in front of the comma. However, I got around the error by splitting it into two separate units as space and comma, and it worked without problem. One possible reason would be due to the reticulate package needed to run Python in RStudio IDE, and how Polars dataframe library was relatively newer than Pandas dataframe library, which meant certain features in Polars might not have been taken on board in the reticulate package (only my guess).\n"
      ],
      "id": "895398f9"
    },
    {
      "cell_type": "code",
      "metadata": {},
      "source": [
        "# Clean string texts\n",
        "df_de = (df_ie.with_column(pl.col(\"Inactive_excipients\").str.to_lowercase(\n",
        "    ).str.replace_all(\n",
        "        \";\", \", \"\n",
        "    ).str.replace_all(\n",
        "        \" /\", \", \"\n",
        "    ).str.replace_all(\n",
        "        \"/\", \", \"\n",
        "    # In Jupyter notebook/lab: .str.strip(\" ,\") - combine space & comma\n",
        "    ).str.strip(\n",
        "        \" \"\n",
        "    ).str.strip(\n",
        "        \",\"\n",
        "    ).str.split(\n",
        "        by = \", \"\n",
        "    ).alias(\n",
        "        \"Inactive\"\n",
        "    )\n",
        ").explode(\n",
        "    \"Inactive\"\n",
        ")\n",
        ")\n",
        "\n",
        "df_de"
      ],
      "id": "3b4a4d74",
      "execution_count": null,
      "outputs": []
    },
    {
      "cell_type": "code",
      "metadata": {},
      "source": [
        "# Quick look at the dataframe to see before and after text cleaning\n",
        "print(df_de.glimpse())"
      ],
      "id": "860b6679",
      "execution_count": null,
      "outputs": []
    },
    {
      "cell_type": "markdown",
      "metadata": {},
      "source": [
        "As shown above, the \"Inactive_excipients\" column was the original column for excipients, where the second column named, \"Inactive\" was the new column shown after the first string strip and row text explosion. The excipients were broken down into smaller units than previously.\n"
      ],
      "id": "8eccfcbd"
    },
    {
      "cell_type": "code",
      "metadata": {},
      "source": [
        "# Re-organise the dataframe to choose the cleaned \"Inactive\" column\n",
        "df_final = df_de.select([\"Inactive\"])\n",
        "df_final"
      ],
      "id": "983ba9b6",
      "execution_count": null,
      "outputs": []
    },
    {
      "cell_type": "code",
      "metadata": {},
      "source": [
        "# Remove all cells with null values\n",
        "df_final = df_final.drop_nulls()"
      ],
      "id": "85f0cc2f",
      "execution_count": null,
      "outputs": []
    },
    {
      "cell_type": "code",
      "metadata": {},
      "source": [
        "# Group the data by different inactive excipients with counts shown\n",
        "df_final = df_final.groupby(\"Inactive\").agg(pl.count())\n",
        "df_final.head()"
      ],
      "id": "353dd34e",
      "execution_count": null,
      "outputs": []
    },
    {
      "cell_type": "markdown",
      "metadata": {},
      "source": [
        "###### **Inactive excipient counts**\n"
      ],
      "id": "8aabdedf"
    },
    {
      "cell_type": "code",
      "metadata": {},
      "source": [
        "# Count each excipient and cast the whole column into integers\n",
        "df_final = df_final.with_column((pl.col(\"count\")).cast(pl.Int64, strict = False))\n",
        "df_final"
      ],
      "id": "af447a2a",
      "execution_count": null,
      "outputs": []
    },
    {
      "cell_type": "markdown",
      "metadata": {},
      "source": [
        "###### **Overview of inactive excipients used in oral dosage forms**\n"
      ],
      "id": "0982326f"
    },
    {
      "cell_type": "code",
      "metadata": {},
      "source": [
        "fig = px.scatter(x = df_final[\"Inactive\"], \n",
        "                 y = df_final[\"count\"], \n",
        "                 hover_name = df_final[\"Inactive\"],\n",
        "                 title = \"Inactive excipients and their respective counts in pills\")\n",
        "\n",
        "fig.update_layout(\n",
        "    title = dict(\n",
        "        font = dict(\n",
        "            size = 15)),\n",
        "    title_x = 0.5,\n",
        "    margin = dict(\n",
        "        l = 20, r = 20, t = 40, b = 10),\n",
        "    xaxis = dict(\n",
        "        tickfont = dict(size = 9), \n",
        "        title = \"Inactive excipients\"\n",
        "    ),\n",
        "    yaxis = dict(\n",
        "        tickfont = dict(size = 9), \n",
        "        title = \"Counts\"\n",
        "    ),\n",
        "    legend = dict(\n",
        "        font = dict(\n",
        "            size = 9)))\n",
        "\n",
        "\n",
        "fig.show()"
      ],
      "id": "bd61eda7",
      "execution_count": null,
      "outputs": []
    },
    {
      "cell_type": "markdown",
      "metadata": {},
      "source": [
        "###### **Frequently used inactive excipients**\n"
      ],
      "id": "5ffa4531"
    },
    {
      "cell_type": "code",
      "metadata": {},
      "source": [
        "# Re-order the excipients with counts in descending order\n",
        "# Filter out only the ones with counts over 10,000\n",
        "df_ex = df_final.sort(\"count\", reverse = True).filter((pl.col(\"count\")) >= 10000)\n",
        "df_ex.head()"
      ],
      "id": "c41eb27a",
      "execution_count": null,
      "outputs": []
    },
    {
      "cell_type": "code",
      "metadata": {},
      "source": [
        "fig = px.bar(x = df_ex[\"Inactive\"], \n",
        "             y = df_ex[\"count\"], \n",
        "             color = df_ex[\"Inactive\"],\n",
        "             title = \"Commonly used inactive excipients in pills\")\n",
        "\n",
        "fig.update_layout(\n",
        "    title = dict(\n",
        "        font = dict(\n",
        "            size = 15)),\n",
        "    title_x = 0.5,\n",
        "    margin = dict(\n",
        "        l = 10, r = 10, t = 40, b = 5),\n",
        "    xaxis = dict(\n",
        "        tickfont = dict(size = 9), \n",
        "        title = \"Inactive excipients\"\n",
        "    ),\n",
        "    yaxis = dict(\n",
        "        tickfont = dict(size = 9), \n",
        "        title = \"Counts\"\n",
        "    ),\n",
        "    legend = dict(\n",
        "        font = dict(\n",
        "            size = 9)))\n",
        "\n",
        "fig.show()"
      ],
      "id": "fda3fc8d",
      "execution_count": null,
      "outputs": []
    },
    {
      "cell_type": "markdown",
      "metadata": {},
      "source": [
        "<br>\n",
        "\n",
        "##### **Create a small dataframe for data visualisation in Rust-Evcxr**\n",
        "\n",
        "Filtered out all acetaminophens in the \"Drug_strength\" column and removed all duplicates in the dataset.\n"
      ],
      "id": "5dfc45a4"
    },
    {
      "cell_type": "code",
      "metadata": {},
      "source": [
        "df_ac = df_new.filter(\n",
        "    pl.col(\"Drug_strength\")\n",
        "    .str.starts_with(\"acetam\")).unique(subset = [\"Drug_strength\"])\n",
        "\n",
        "df_ac"
      ],
      "id": "6836de8e",
      "execution_count": null,
      "outputs": []
    },
    {
      "cell_type": "code",
      "metadata": {},
      "source": [
        "df_ac = df_ac.groupby(\"Colour\").agg(pl.count())\n",
        "df_ac"
      ],
      "id": "07dfe1de",
      "execution_count": null,
      "outputs": []
    },
    {
      "cell_type": "code",
      "metadata": {},
      "source": [
        "fig = px.scatter(x = df_ac[\"Colour\"], \n",
        "                 y = df_ac[\"count\"], \n",
        "                 size = df_ac[\"count\"], \n",
        "                 color = df_ac[\"Colour\"],\n",
        "                 title = \"Frequency of colours in acetaminophen (paracetamol) oral dosage forms\"\n",
        "                )\n",
        "\n",
        "fig.update_layout(\n",
        "    xaxis = dict(\n",
        "        title = \"Colours\"\n",
        "    ), \n",
        "    yaxis = dict(\n",
        "        title = \"Counts\"\n",
        "    )\n",
        ")\n",
        "\n",
        "fig.show()"
      ],
      "id": "61c5119f",
      "execution_count": null,
      "outputs": []
    },
    {
      "cell_type": "markdown",
      "metadata": {},
      "source": [
        "I've decided to keep the dataframe very simple for part 3 as my original intention was to trial plotting a graph in Evcxr only (nothing fancy at this stage), and also to gain some familiarities with Rust as another new programming language for me. Readers might notice that I've opted for a scatter plot here for this last dataframe, and when we finally got to part 3 (hopefully coming soon as I needed to figure how to publish Rust codes in Quarto...), I might very likely revert this to a bar graph, due to some technical issues and being a new Rust-Evcxr user. At the very least, I've kind of tried something I've planned for, although it might not look very elegant yet."
      ],
      "id": "158ded3d"
    }
  ],
  "metadata": {
    "kernelspec": {
      "name": "python3",
      "language": "python",
      "display_name": "Python 3 (ipykernel)"
    }
  },
  "nbformat": 4,
  "nbformat_minor": 5
}