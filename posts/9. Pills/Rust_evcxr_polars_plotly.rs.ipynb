{
 "cells": [
  {
   "cell_type": "raw",
   "id": "3e03ccd5-ba50-4dfa-a193-751e8817dc2f",
   "metadata": {},
   "source": [
    "---\n",
    "title: Pills dataset - Part 3\n",
    "subtitle: Using Rust for data visualisation\n",
    "author: Jennifer HY Lin\n",
    "date: 2023-2-8\n",
    "draft: true\n",
    "categories: [Data analytics projects, Polars, Rust, Evcxr, Plotly.rs, Jupyter]\n",
    "---"
   ]
  },
  {
   "cell_type": "code",
   "execution_count": null,
   "id": "1a69d3f2-3a63-49fe-a1eb-a16db03be1e7",
   "metadata": {},
   "outputs": [],
   "source": [
    "/*use polars_core::prelude::*;\n",
    "use polars_io::prelude::*;\n",
    "use std::fs::File;\n",
    "\n",
    "fn example() -> PolarsResult<DataFrame> {\n",
    "    CsvReader::from_path(\"iris_csv\")?\n",
    "            .has_header(true)\n",
    "            .finish()\n",
    "}"
   ]
  },
  {
   "cell_type": "code",
   "execution_count": 2,
   "id": "f98c0df3-6601-45c1-86f5-d4b5a6a9b73d",
   "metadata": {},
   "outputs": [],
   "source": [
    "// Set up required dependencies\n",
    ":dep ndarray = \"0.15.6\""
   ]
  },
  {
   "cell_type": "code",
   "execution_count": 3,
   "id": "a2b8f293-df0a-4b60-8bc3-9d249de962ee",
   "metadata": {},
   "outputs": [],
   "source": [
    ":dep plotly = { version = \">=0.8.0\", features = [\"plotly_ndarray\"]}"
   ]
  },
  {
   "cell_type": "code",
   "execution_count": null,
   "id": "daf2b6b5-52d2-4316-a34c-a82f2108cc68",
   "metadata": {},
   "outputs": [],
   "source": [
    "// May take a few minutes to load polars crate"
   ]
  },
  {
   "cell_type": "code",
   "execution_count": 4,
   "id": "3ded742b-a34f-4e6e-9944-e4b533faa52c",
   "metadata": {},
   "outputs": [],
   "source": [
    ":dep polars = { version = \">=0.26.0\", features = [\"lazy\", \"csv-file\", \"strings\", \"dtype-duration\", \"dtype-categorical\", \"concat_str\", \"rank\", \"lazy_regex\", \"ndarray\"]}"
   ]
  },
  {
   "cell_type": "code",
   "execution_count": 58,
   "id": "f1192f2f-f599-472e-9711-6a1d3c7a89a5",
   "metadata": {},
   "outputs": [],
   "source": [
    ":dep itertools = {version = \"0.9.0\"}"
   ]
  },
  {
   "cell_type": "code",
   "execution_count": 5,
   "id": "add86089-396f-4deb-a34d-5734e1a93a37",
   "metadata": {},
   "outputs": [],
   "source": [
    "// Import external crates needed\n",
    "extern crate ndarray;\n",
    "extern crate plotly;\n",
    "extern crate polars;"
   ]
  },
  {
   "cell_type": "code",
   "execution_count": 59,
   "id": "9f9e09cf-40ad-40fb-90e0-72b1384332f0",
   "metadata": {},
   "outputs": [],
   "source": [
    "// Specify imports/modules required\n",
    "// May not need following line\n",
    "//use ndarray::{Array, Ix1, Ix2};\n",
    "//use ndarray::Array;\n",
    "//Check - may not need ndarray prelude\n",
    "use ndarray::prelude::*;\n",
    "use std::str::FromStr;\n",
    "use polars::prelude::*;\n",
    "use polars::frame::DataFrame;\n",
    "use plotly::common::{\n",
    "    ColorScale, ColorScalePalette, DashType, Fill, Font, Line, LineShape, Marker, Mode, Title,\n",
    "};\n",
    "use plotly::layout::{Axis, BarMode, Layout, Legend, TicksDirection};\n",
    "use plotly::{Plot, Scatter, Bar};\n",
    "use itertools::Itertools;"
   ]
  },
  {
   "cell_type": "code",
   "execution_count": 14,
   "id": "6426de13-00b2-4a22-8916-eb9cc5507c23",
   "metadata": {},
   "outputs": [],
   "source": [
    "// Reading .csv file\n",
    "let df_1 = CsvReader::from_path(\"ace_para_count.csv\").unwrap().finish().unwrap();"
   ]
  },
  {
   "cell_type": "code",
   "execution_count": 31,
   "id": "8946002b-6c0d-442a-9eee-1207e9e55dff",
   "metadata": {},
   "outputs": [
    {
     "data": {
      "text/plain": [
       "shape: (6, 2)\n",
       "┌──────────────┬───────┐\n",
       "│ Colour       ┆ count │\n",
       "│ ---          ┆ ---   │\n",
       "│ str          ┆ i64   │\n",
       "╞══════════════╪═══════╡\n",
       "│ ORANGE;BROWN ┆ 1     │\n",
       "├╌╌╌╌╌╌╌╌╌╌╌╌╌╌┼╌╌╌╌╌╌╌┤\n",
       "│ RED          ┆ 1     │\n",
       "├╌╌╌╌╌╌╌╌╌╌╌╌╌╌┼╌╌╌╌╌╌╌┤\n",
       "│ WHITE        ┆ 7     │\n",
       "├╌╌╌╌╌╌╌╌╌╌╌╌╌╌┼╌╌╌╌╌╌╌┤\n",
       "│ BLUE         ┆ 2     │\n",
       "├╌╌╌╌╌╌╌╌╌╌╌╌╌╌┼╌╌╌╌╌╌╌┤\n",
       "│ YELLOW;WHITE ┆ 1     │\n",
       "├╌╌╌╌╌╌╌╌╌╌╌╌╌╌┼╌╌╌╌╌╌╌┤\n",
       "│ ORANGE       ┆ 1     │\n",
       "└──────────────┴───────┘"
      ]
     },
     "execution_count": 31,
     "metadata": {},
     "output_type": "execute_result"
    }
   ],
   "source": [
    "df_1"
   ]
  },
  {
   "cell_type": "code",
   "execution_count": 72,
   "id": "71a66cf6-cffc-47a6-8f91-d182b1397383",
   "metadata": {},
   "outputs": [],
   "source": [
    "/*let src4: &str = r#\"g{'race'}\"#;\n",
    "  let string4 = String::from(src4);\n",
    "  let char4: Vec<char> = src4.chars().collect();\n",
    "  let byte4: Vec<u8> = src4.as_bytes().to_vec();\n",
    "  println!(\"str:{:?} | String:{:?}, Vec<char>:{:?}, Vec<u8>:{:?}\", src4, string4, char4, byte4);\n",
    "\n",
    "let df: DataFrame = df!(\"Name\" => &[\"Methane\", \"Ethane\", \"Propane\"],\n",
    "                        \"Carbon\" => &[1, 2, 3],\n",
    "                        \"Hydrogen\" => &[4, 6, 8])?;\n",
    "let sv: Vec<Series> = df.select_series(&[\"Carbon\", \"Hydrogen\"])?;\n",
    "assert_eq!(df[\"Carbon\"], sv[0]);\n",
    "*/\n",
    "let Colours = df_1[0].clone();"
   ]
  },
  {
   "cell_type": "code",
   "execution_count": 73,
   "id": "7f73f7b8-cd42-4ff9-ac2f-5feb3e551957",
   "metadata": {},
   "outputs": [
    {
     "data": {
      "text/plain": [
       "shape: (6,)\n",
       "Series: 'Colour' [str]\n",
       "[\n",
       "\t\"ORANGE;BROWN\"\n",
       "\t\"RED\"\n",
       "\t\"WHITE\"\n",
       "\t\"BLUE\"\n",
       "\t\"YELLOW;WHITE\"\n",
       "\t\"ORANGE\"\n",
       "]"
      ]
     },
     "execution_count": 73,
     "metadata": {},
     "output_type": "execute_result"
    }
   ],
   "source": [
    "Colours"
   ]
  },
  {
   "cell_type": "code",
   "execution_count": 74,
   "id": "7b48ebe8-7183-43bc-9cf2-8630ad4d2c90",
   "metadata": {},
   "outputs": [
    {
     "name": "stdout",
     "output_type": "stream",
     "text": [
      "\"ORANGE;BROWN\"\n",
      "\"RED\"\n",
      "\"WHITE\"\n",
      "\"BLUE\"\n",
      "\"YELLOW;WHITE\"\n",
      "\"ORANGE\"\n"
     ]
    }
   ],
   "source": [
    "println!(\"{}\", &Colours.iter().format(\"\\n\"));"
   ]
  },
  {
   "cell_type": "code",
   "execution_count": 32,
   "id": "d1648b06-8209-4124-a5e7-afe2b09da806",
   "metadata": {},
   "outputs": [
    {
     "name": "stdout",
     "output_type": "stream",
     "text": [
      "[[NaN, 1.0],\n",
      " [NaN, 1.0],\n",
      " [NaN, 7.0],\n",
      " [NaN, 2.0],\n",
      " [NaN, 1.0],\n",
      " [NaN, 1.0]], shape=[6, 2], strides=[1, 6], layout=Ff (0xa), const ndim=2\n"
     ]
    }
   ],
   "source": [
    "// Switch Polars dataframe into 2D array\n",
    "// Ensure \"ndarray\" was added as one of the features for polars under dependencies\n",
    "\n",
    "//Example from documentation:\n",
    "//let df = DataFrame::new(vec![a, b]).unwrap();\n",
    "//let ndarray = df.to_ndarray::<Float64Type>().unwrap();\n",
    "//println!(\"{:?}\", ndarray);\n",
    "\n",
    "let ndarray = df_1.to_ndarray::<Float64Type>().unwrap();\n",
    "println!(\"{:?}\", ndarray);"
   ]
  },
  {
   "cell_type": "code",
   "execution_count": null,
   "id": "0b7bddc9-470b-43cc-8101-ce51a385b407",
   "metadata": {},
   "outputs": [],
   "source": []
  },
  {
   "cell_type": "code",
   "execution_count": 88,
   "id": "32528177-523f-4054-9df1-555b22c90aa1",
   "metadata": {},
   "outputs": [
    {
     "ename": "Error",
     "evalue": "Couldn't automatically determine type of variable `trace`.\nPlease give it an explicit type.",
     "output_type": "error",
     "traceback": [
      "Couldn't automatically determine type of variable `trace`.\nPlease give it an explicit type."
     ]
    }
   ],
   "source": [
    "// Sample method:\n",
    "// Use vec! macro to create new vectors to hold x variables (words as strings) for plotting\n",
    "// Manually input the colour names (as ndarray is only for numbers)\n",
    "//let x = vec![\"WHITE\", \"YELLOW;WHITE\", \"ORANGE\", \"ORANGE;BROWN\", \"BLUE\", \"RED\"];\n",
    "\n",
    "// Trial importing from df - need to sort out series/chunkedarray -> ?convert Vec<Series> to ChunkedArray\n",
    "let x = Colours;\n",
    "\n",
    "// Plot using ndarray, which is supported by Plotly.rs (Polars not supported yet)\n",
    "// Convert ndarray (holding counts as y variables) into vector for plotting\n",
    "let y = ndarray.column(1).to_vec();\n",
    "\n",
    "// Use trace as a graph module,\n",
    "// choose which type of plots is needed with x & y variables called\n",
    "// Graph options e.g. Scatter, Line or Bar\n",
    "let trace = Bar::new(x, y);\n",
    "\n",
    "// Set plot variable as mutable and initiate a plot\n",
    "let mut plot = Plot::new();\n",
    "// Add trace (graph) into the plot variable\n",
    "plot.add_trace(trace);\n",
    "\n",
    "// Specify the specs for plot\n",
    "let layout = Layout::new()\n",
    "    // Choose height of graph\n",
    "    .height(500)\n",
    "    // Name x-axis\n",
    "    .x_axis(Axis::new().title(Title::new(\"Colours\")))\n",
    "    // Name y-axis\n",
    "    .y_axis(Axis::new().title(Title::new(\"Count\")))\n",
    "    // Add title of graph\n",
    "    .title(Title::new(\"Frequency of colours in acetaminophen (paracetamol) oral dosage forms\"));\n",
    "\n",
    "// Set the layout of the plot\n",
    "plot.set_layout(layout);\n",
    "\n",
    "// Display the plot in Jupyter Lab format \n",
    "// note for Jupyter Notebook - plot.notebook_display();\n",
    "plot.lab_display();\n",
    "format!(\"EVCXR_BEGIN_CONTENT application/vnd.plotly.v1+json\\n{}\\nEVCXR_END_CONTENT\", plot.to_json())"
   ]
  },
  {
   "cell_type": "code",
   "execution_count": null,
   "id": "3f5063a8-e84a-44a1-b3fd-cba070c1b8e4",
   "metadata": {},
   "outputs": [],
   "source": []
  }
 ],
 "metadata": {
  "kernelspec": {
   "display_name": "Rust",
   "language": "rust",
   "name": "rust"
  },
  "language_info": {
   "codemirror_mode": "rust",
   "file_extension": ".rs",
   "mimetype": "text/rust",
   "name": "Rust",
   "pygment_lexer": "rust",
   "version": ""
  }
 },
 "nbformat": 4,
 "nbformat_minor": 5
}
