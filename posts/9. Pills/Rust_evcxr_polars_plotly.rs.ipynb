{
 "cells": [
  {
   "cell_type": "raw",
   "id": "3e03ccd5-ba50-4dfa-a193-751e8817dc2f",
   "metadata": {},
   "source": [
    "---\n",
    "title: Pills dataset - Part 3\n",
    "subtitle: Using Rust for data visualisation\n",
    "author: Jennifer HY Lin\n",
    "date: 2023-2-5\n",
    "draft: true\n",
    "categories: [Data analytics projects, Polars, Rust, Evcxr, Plotly.rs, Jupyter]\n",
    "---"
   ]
  },
  {
   "cell_type": "code",
   "execution_count": null,
   "id": "1a69d3f2-3a63-49fe-a1eb-a16db03be1e7",
   "metadata": {},
   "outputs": [],
   "source": [
    "/*use polars_core::prelude::*;\n",
    "use polars_io::prelude::*;\n",
    "use std::fs::File;\n",
    "\n",
    "fn example() -> PolarsResult<DataFrame> {\n",
    "    CsvReader::from_path(\"iris_csv\")?\n",
    "            .has_header(true)\n",
    "            .finish()\n",
    "}"
   ]
  },
  {
   "cell_type": "code",
   "execution_count": null,
   "id": "f98c0df3-6601-45c1-86f5-d4b5a6a9b73d",
   "metadata": {},
   "outputs": [],
   "source": [
    "// Set up required dependencies\n",
    ":dep ndarray = \"0.15.6\""
   ]
  },
  {
   "cell_type": "code",
   "execution_count": null,
   "id": "a2b8f293-df0a-4b60-8bc3-9d249de962ee",
   "metadata": {},
   "outputs": [],
   "source": [
    ":dep plotly = { version = \">=0.8.0\" }"
   ]
  },
  {
   "cell_type": "code",
   "execution_count": null,
   "id": "3ded742b-a34f-4e6e-9944-e4b533faa52c",
   "metadata": {},
   "outputs": [],
   "source": [
    ":dep polars = { version = \">=0.26.0\", features = [\"lazy\", \"csv-file\", \"strings\", \"dtype-duration\", \"dtype-categorical\", \"concat_str\", \"rank\", \"lazy_regex\"]}"
   ]
  },
  {
   "cell_type": "code",
   "execution_count": null,
   "id": "add86089-396f-4deb-a34d-5734e1a93a37",
   "metadata": {},
   "outputs": [],
   "source": [
    "// Import external crates needed\n",
    "//extern crate ndarray;\n",
    "extern crate plotly;\n",
    "extern crate polars;"
   ]
  },
  {
   "cell_type": "code",
   "execution_count": null,
   "id": "9f9e09cf-40ad-40fb-90e0-72b1384332f0",
   "metadata": {},
   "outputs": [],
   "source": [
    "// Specify imports/modules required\n",
    "use ndarray::Array;\n",
    "use polars::prelude::*;\n",
    "use plotly::common::{\n",
    "    ColorScale, ColorScalePalette, DashType, Fill, Font, Line, LineShape, Marker, Mode, Title,\n",
    "};\n",
    "use plotly::layout::{Axis, BarMode, Layout, Legend, TicksDirection};\n",
    "use plotly::{Plot, Scatter, Bar};"
   ]
  },
  {
   "cell_type": "code",
   "execution_count": null,
   "id": "6426de13-00b2-4a22-8916-eb9cc5507c23",
   "metadata": {},
   "outputs": [],
   "source": [
    "// Reading .csv file\n",
    "let df = CsvReader::from_path(\"ace_para_count.csv\").unwrap().finish().unwrap();"
   ]
  },
  {
   "cell_type": "code",
   "execution_count": null,
   "id": "7c748192-4c3b-4f8b-abed-d525d1246b47",
   "metadata": {},
   "outputs": [],
   "source": [
    "df"
   ]
  },
  {
   "cell_type": "code",
   "execution_count": null,
   "id": "d1648b06-8209-4124-a5e7-afe2b09da806",
   "metadata": {},
   "outputs": [],
   "source": [
    "// To trial:\n",
    "// Switch Polars dataframe into 2D ndarray\n",
    "\n",
    "//Example:\n",
    "//let ndarray = df.to_ndarray::<Float64Type>().unwrap();\n",
    "//println!(\"{:?}\", ndarray);\n",
    "\n",
    "let ndarray = df.to_ndarray::<Float64Type>().unwrap();\n",
    "println!(\"{:?}\", ndarray);"
   ]
  },
  {
   "cell_type": "code",
   "execution_count": null,
   "id": "32528177-523f-4054-9df1-555b22c90aa1",
   "metadata": {},
   "outputs": [],
   "source": [
    "// Sample method:\n",
    "// Use vec! macro to create new vectors to hold x & y variables for plotting\n",
    "//let x = vec![\"yellow/white\", \"orange\", \"orange/brown\", \"red\", \"white\", \"blue\"];\n",
    "//let y = vec![1, 1, 1, 1, 7, 2];\n",
    "\n",
    "// Try to plot using ndarray, which is supported by Plotly.rs (Polars not supported yet)\n",
    "// Manually input the colour names (as ndarray is only for numerics)\n",
    "let x = vec![\"white\", \"red\", \"orange\", \"yellow/white\", \"orange/brown\", \"blue\"];\n",
    "// *Import counts from ndarray\n",
    "let y = vec![];\n",
    "\n",
    "// Use trace as a graph module & choose which type of plots is needed with x & y variables called\n",
    "// Graph options e.g. Scatter, Line\n",
    "let trace1 = Bar::new(x, y);\n",
    "\n",
    "// Set plot variable as mutable and initiate a plot\n",
    "let mut plot = Plot::new();\n",
    "// Add trace (graph) into the plot variable\n",
    "plot.add_trace(trace1);\n",
    "\n",
    "// Specify the specs for plot\n",
    "let layout = Layout::new()\n",
    "    // Choose height of graph\n",
    "    .height(500)\n",
    "    // Name x-axis\n",
    "    .x_axis(Axis::new().title(Title::new(\"Colours\")))\n",
    "    // Name y-axis\n",
    "    .y_axis(Axis::new().title(Title::new(\"Count\")))\n",
    "    // Add title of graph\n",
    "    .title(Title::new(\"Frequency of colours in acetaminophen (paracetamol) oral dosage forms\"));\n",
    "\n",
    "// Set the layout of the plot\n",
    "plot.set_layout(layout);\n",
    "\n",
    "// Display the plot in Jupyter Lab format \n",
    "// note for Jupyter Notebook - plot.notebook_display();\n",
    "plot.lab_display();\n",
    "format!(\"EVCXR_BEGIN_CONTENT application/vnd.plotly.v1+json\\n{}\\nEVCXR_END_CONTENT\", plot.to_json())"
   ]
  },
  {
   "cell_type": "code",
   "execution_count": null,
   "id": "c7d3acb4-d8ea-41ba-bac0-465616d58419",
   "metadata": {},
   "outputs": [],
   "source": []
  }
 ],
 "metadata": {
  "kernelspec": {
   "display_name": "Rust",
   "language": "rust",
   "name": "rust"
  },
  "language_info": {
   "codemirror_mode": "rust",
   "file_extension": ".rs",
   "mimetype": "text/rust",
   "name": "Rust",
   "pygment_lexer": "rust",
   "version": ""
  }
 },
 "nbformat": 4,
 "nbformat_minor": 5
}
