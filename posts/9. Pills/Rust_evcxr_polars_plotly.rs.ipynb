{
 "cells": [
  {
   "cell_type": "raw",
   "id": "3e03ccd5-ba50-4dfa-a193-751e8817dc2f",
   "metadata": {},
   "source": [
    "---\n",
    "title: Pills dataset - Part 3\n",
    "subtitle: Using Rust for data visualisation\n",
    "author: Jennifer HY Lin\n",
    "date: 2023-2-10\n",
    "draft: true\n",
    "categories: [Data analytics projects, Polars, Rust, Evcxr, Plotly.rs, Jupyter]\n",
    "---"
   ]
  },
  {
   "cell_type": "code",
   "execution_count": null,
   "id": "1a69d3f2-3a63-49fe-a1eb-a16db03be1e7",
   "metadata": {},
   "outputs": [],
   "source": [
    "// Read .csv file in Rust IDEs e.g. VS Code etc.\n",
    "/*use polars_core::prelude::*;\n",
    "use polars_io::prelude::*;\n",
    "use std::fs::File;\n",
    "\n",
    "fn example() -> PolarsResult<DataFrame> {\n",
    "    CsvReader::from_path(\"iris_csv\")?\n",
    "            .has_header(true)\n",
    "            .finish()\n",
    "}"
   ]
  },
  {
   "cell_type": "code",
   "execution_count": 2,
   "id": "f98c0df3-6601-45c1-86f5-d4b5a6a9b73d",
   "metadata": {},
   "outputs": [],
   "source": [
    "// Set up required dependencies\n",
    ":dep ndarray = \"0.15.6\""
   ]
  },
  {
   "cell_type": "code",
   "execution_count": 3,
   "id": "a2b8f293-df0a-4b60-8bc3-9d249de962ee",
   "metadata": {},
   "outputs": [],
   "source": [
    ":dep plotly = { version = \">=0.8.0\", features = [\"plotly_ndarray\"]}"
   ]
  },
  {
   "cell_type": "code",
   "execution_count": 4,
   "id": "3ded742b-a34f-4e6e-9944-e4b533faa52c",
   "metadata": {},
   "outputs": [],
   "source": [
    "// May take a few minutes to load polars crate\n",
    ":dep polars = { version = \">=0.26.0\", features = [\"lazy\", \"csv-file\", \"strings\", \"dtype-duration\", \"dtype-categorical\", \"concat_str\", \"rank\", \"lazy_regex\", \"ndarray\"]}"
   ]
  },
  {
   "cell_type": "code",
   "execution_count": 9,
   "id": "f1192f2f-f599-472e-9711-6a1d3c7a89a5",
   "metadata": {},
   "outputs": [],
   "source": [
    "// May not need this\n",
    ":dep itertools = {version = \"0.9.0\"}"
   ]
  },
  {
   "cell_type": "code",
   "execution_count": 95,
   "id": "1e860467-5e76-4cfb-bc71-403b59e8bebd",
   "metadata": {},
   "outputs": [],
   "source": [
    ":dep serde = \"1.0.152\""
   ]
  },
  {
   "cell_type": "code",
   "execution_count": null,
   "id": "08b6ad9a-4624-4a93-9e55-d5d029e74c50",
   "metadata": {},
   "outputs": [],
   "source": [
    "//:dep rayon = \"1.6.1\""
   ]
  },
  {
   "cell_type": "code",
   "execution_count": null,
   "id": "e0f5efb4-5672-4b93-b4d6-1767ce550e81",
   "metadata": {},
   "outputs": [],
   "source": [
    "//:dep arrow = \"32.0.0\""
   ]
  },
  {
   "cell_type": "code",
   "execution_count": 5,
   "id": "add86089-396f-4deb-a34d-5734e1a93a37",
   "metadata": {},
   "outputs": [],
   "source": [
    "// Import external crates needed\n",
    "extern crate ndarray;\n",
    "extern crate plotly;\n",
    "extern crate polars;\n",
    "//extern crate rayon;\n",
    "//extern crate arrow;"
   ]
  },
  {
   "cell_type": "code",
   "execution_count": 96,
   "id": "9f9e09cf-40ad-40fb-90e0-72b1384332f0",
   "metadata": {},
   "outputs": [],
   "source": [
    "// Specify imports/modules required\n",
    "// May not need following line\n",
    "//use ndarray::{Array, Ix1, Ix2};\n",
    "//use ndarray::Array;\n",
    "//Check - may not need ndarray prelude\n",
    "use ndarray::prelude::*;\n",
    "//use std::str::FromStr;\n",
    "use polars::prelude::*;\n",
    "use polars::prelude::Series;\n",
    "use polars::frame::DataFrame;\n",
    "use polars::df;\n",
    "use plotly::common::{\n",
    "    ColorScale, ColorScalePalette, DashType, Fill, Font, Line, LineShape, Marker, Mode, Title,\n",
    "};\n",
    "use plotly::layout::{Axis, BarMode, Layout, Legend, TicksDirection};\n",
    "use plotly::{Plot, Scatter, Bar};\n",
    "use itertools::Itertools;\n",
    "//use rayon::prelude::*;\n",
    "use serde::Serialize;"
   ]
  },
  {
   "cell_type": "code",
   "execution_count": 81,
   "id": "6426de13-00b2-4a22-8916-eb9cc5507c23",
   "metadata": {},
   "outputs": [],
   "source": [
    "// Reading .csv file\n",
    "let df = CsvReader::from_path(\"ace_para_count.csv\").unwrap().finish().unwrap();"
   ]
  },
  {
   "cell_type": "code",
   "execution_count": 82,
   "id": "8946002b-6c0d-442a-9eee-1207e9e55dff",
   "metadata": {},
   "outputs": [
    {
     "data": {
      "text/plain": [
       "shape: (6, 2)\n",
       "┌──────────────┬───────┐\n",
       "│ Colour       ┆ count │\n",
       "│ ---          ┆ ---   │\n",
       "│ str          ┆ i64   │\n",
       "╞══════════════╪═══════╡\n",
       "│ RED          ┆ 1     │\n",
       "│ ORANGE;BROWN ┆ 1     │\n",
       "│ YELLOW;WHITE ┆ 1     │\n",
       "│ ORANGE       ┆ 1     │\n",
       "│ WHITE        ┆ 7     │\n",
       "│ BLUE         ┆ 2     │\n",
       "└──────────────┴───────┘"
      ]
     },
     "execution_count": 82,
     "metadata": {},
     "output_type": "execute_result"
    }
   ],
   "source": [
    "df"
   ]
  },
  {
   "cell_type": "code",
   "execution_count": 108,
   "id": "c9d375f5-ed3b-4cac-93bb-4428f1631b73",
   "metadata": {},
   "outputs": [],
   "source": [
    "/*let src4: &str = r#\"g{'race'}\"#;\n",
    "  let string4 = String::from(src4);\n",
    "  let char4: Vec<char> = src4.chars().collect();\n",
    "  let byte4: Vec<u8> = src4.as_bytes().to_vec();\n",
    "  println!(\"str:{:?} | String:{:?}, Vec<char>:{:?}, Vec<u8>:{:?}\", src4, string4, char4, byte4);\n",
    "\n",
    "let df: DataFrame = df!(\"Name\" => &[\"Methane\", \"Ethane\", \"Propane\"],\n",
    "                        \"Carbon\" => &[1, 2, 3],\n",
    "                        \"Hydrogen\" => &[4, 6, 8])?;\n",
    "let sv: Vec<Series> = df.select_series(&[\"Carbon\", \"Hydrogen\"])?;\n",
    "assert_eq!(df[\"Carbon\"], sv[0]);\n",
    "*/"
   ]
  },
  {
   "cell_type": "code",
   "execution_count": 75,
   "id": "156f94b2-36cc-42cf-a179-e6f7c4ed2efc",
   "metadata": {},
   "outputs": [
    {
     "data": {
      "text/plain": [
       "Ok([shape: (6,)\n",
       "Series: 'Colour' [str]\n",
       "[\n",
       "\t\"RED\"\n",
       "\t\"ORANGE;BROWN\"\n",
       "\t\"YELLOW;WHITE\"\n",
       "\t\"ORANGE\"\n",
       "\t\"WHITE\"\n",
       "\t\"BLUE\"\n",
       "]])"
      ]
     },
     "execution_count": 75,
     "metadata": {},
     "output_type": "execute_result"
    }
   ],
   "source": [
    "let u = df.select_series(&[\"Colour\"]);\n",
    "u"
   ]
  },
  {
   "cell_type": "code",
   "execution_count": 100,
   "id": "b2869e35-e290-4c97-a49b-69589cfc44ee",
   "metadata": {},
   "outputs": [],
   "source": [
    "let Colours = df[0].clone();"
   ]
  },
  {
   "cell_type": "code",
   "execution_count": 101,
   "id": "7f73f7b8-cd42-4ff9-ac2f-5feb3e551957",
   "metadata": {},
   "outputs": [
    {
     "data": {
      "text/plain": [
       "shape: (6,)\n",
       "Series: 'Colour' [str]\n",
       "[\n",
       "\t\"RED\"\n",
       "\t\"ORANGE;BROWN\"\n",
       "\t\"YELLOW;WHITE\"\n",
       "\t\"ORANGE\"\n",
       "\t\"WHITE\"\n",
       "\t\"BLUE\"\n",
       "]"
      ]
     },
     "execution_count": 101,
     "metadata": {},
     "output_type": "execute_result"
    }
   ],
   "source": [
    "Colours"
   ]
  },
  {
   "cell_type": "code",
   "execution_count": 34,
   "id": "7b48ebe8-7183-43bc-9cf2-8630ad4d2c90",
   "metadata": {},
   "outputs": [
    {
     "name": "stdout",
     "output_type": "stream",
     "text": [
      "\"RED\"\n",
      "\"ORANGE;BROWN\"\n",
      "\"YELLOW;WHITE\"\n",
      "\"ORANGE\"\n",
      "\"WHITE\"\n",
      "\"BLUE\"\n"
     ]
    }
   ],
   "source": [
    "println!(\"{}\", &Colours.iter().format(\"\\n\"));"
   ]
  },
  {
   "cell_type": "code",
   "execution_count": 36,
   "id": "d1648b06-8209-4124-a5e7-afe2b09da806",
   "metadata": {},
   "outputs": [
    {
     "name": "stdout",
     "output_type": "stream",
     "text": [
      "[[NaN, 1.0],\n",
      " [NaN, 1.0],\n",
      " [NaN, 1.0],\n",
      " [NaN, 1.0],\n",
      " [NaN, 7.0],\n",
      " [NaN, 2.0]], shape=[6, 2], strides=[1, 6], layout=Ff (0xa), const ndim=2\n"
     ]
    }
   ],
   "source": [
    "// Switch Polars dataframe into 2D array\n",
    "// Ensure \"ndarray\" was added as one of the features for polars under dependencies\n",
    "\n",
    "//Example from documentation:\n",
    "//let df = DataFrame::new(vec![a, b]).unwrap();\n",
    "//let ndarray = df.to_ndarray::<Float64Type>().unwrap();\n",
    "//println!(\"{:?}\", ndarray);\n",
    "\n",
    "let ndarray = df.to_ndarray::<Float64Type>().unwrap();\n",
    "println!(\"{:?}\", ndarray);"
   ]
  },
  {
   "cell_type": "code",
   "execution_count": null,
   "id": "3233eb02-15d6-46b7-b39e-19c15d77e549",
   "metadata": {},
   "outputs": [],
   "source": [
    "// From: https://docs.rs/polars/latest/polars/docs/eager/index.html#series\n",
    "//Extracting data:\n",
    "//To be able to extract data out of Series, \n",
    "//either by iterating over them or converting them to other datatypes like a Vec<T>, \n",
    "//we first need to downcast them to a ChunkedArray<T>. \n",
    "//This is needed because we don’t know the data type that is held by the Series.\n",
    "\n",
    "/*use polars::prelude::*;\n",
    "use polars::df;\n",
    "\n",
    "//fn extract_data() -> PolarsResult<()> {\n",
    "let df = df! [\n",
    "    \"a\" => [None, Some(1.0f32), Some(2.0)],\n",
    "    \"str\" => [\"foo\", \"bar\", \"ham\"]\n",
    "]?;\n",
    "\n",
    "    // first extract ChunkedArray to get the inner type.\n",
    "let ca = df.column(\"a\")?.f32()?;\n",
    "\n",
    "    // Then convert to vec\n",
    "let _to_vec: Vec<Option<f32>> = Vec::from(ca);\n",
    "\n",
    "    // ***We can also do this with iterators***\n",
    "let ca = df.column(\"str\")?.utf8()?;\n",
    "let _to_vec: Vec<Option<&str>> = ca.into_iter().collect();\n",
    "let _to_vec_no_options: Vec<&str> = ca.into_no_null_iter().collect();\n",
    "\n",
    "    //Ok(())\n",
    "//}"
   ]
  },
  {
   "cell_type": "code",
   "execution_count": 92,
   "id": "60f96a6c-cbba-4fa4-881d-1da724784a69",
   "metadata": {},
   "outputs": [],
   "source": [
    "//let colin = self.df.column(&string).unwrap().clone();\n",
    "\n",
    "//let c = self.df.column(&string).unwrap().clone();"
   ]
  },
  {
   "cell_type": "code",
   "execution_count": 107,
   "id": "8e219924-5aba-44ac-8eca-2d93fa26a91e",
   "metadata": {},
   "outputs": [
    {
     "name": "stdout",
     "output_type": "stream",
     "text": [
      "shape: (6,)\n",
      "ChunkedArray: 'Colour' [str]\n",
      "[\n",
      "\t\"RED\"\n",
      "\t\"ORANGE;BROWN\"\n",
      "\t\"YELLOW;WHITE\"\n",
      "\t\"ORANGE\"\n",
      "\t\"WHITE\"\n",
      "\t\"BLUE\"\n",
      "]\n"
     ]
    }
   ],
   "source": [
    "//series.utf8().unwrap().downcast_iter().for_each(|array| {\n",
    "    //println!(\"{:?}\", array.offsets());\n",
    "\n",
    "// Somehow worked out how to convert series to chunkedarray!\n",
    "println!(\"{:?}\", Colours.utf8().unwrap());"
   ]
  },
  {
   "cell_type": "code",
   "execution_count": null,
   "id": "9d0c687a-0a00-4d64-9975-15e83118dbe4",
   "metadata": {},
   "outputs": [],
   "source": [
    "/*From StackOverflow - How to get a Vec from polars Series or ChunkedArray?\n",
    "\n",
    "You can collect the values into a Vec.\n",
    "\n",
    "use polars::prelude::*;\n",
    "\n",
    "fn main() -> Result<()> {\n",
    "    let s = Series::new(\"a\", 0..10i32);\n",
    "\n",
    "    let as_vec: Vec<Option<i32>> = s.i32()?.into_iter().collect();\n",
    "\n",
    "    // if we are certain we don't have missing values\n",
    "    let as_vec: Vec<i32> = s.i32()?.into_no_null_iter().collect();\n",
    "    Ok(())\n",
    "}\n",
    "\n",
    "let"
   ]
  },
  {
   "cell_type": "code",
   "execution_count": 38,
   "id": "32528177-523f-4054-9df1-555b22c90aa1",
   "metadata": {},
   "outputs": [
    {
     "ename": "Error",
     "evalue": "Couldn't automatically determine type of variable `trace`.\nPlease give it an explicit type.",
     "output_type": "error",
     "traceback": [
      "Couldn't automatically determine type of variable `trace`.\nPlease give it an explicit type."
     ]
    }
   ],
   "source": [
    "// MANUAL Sample method:\n",
    "// Use vec! macro to create new vectors to hold x variables (words as strings) for plotting\n",
    "// Manually input the colour names (as ndarray is only for numbers)\n",
    "//let x = vec![\"WHITE\", \"YELLOW;WHITE\", \"ORANGE\", \"ORANGE;BROWN\", \"BLUE\", \"RED\"];\n",
    "\n",
    "// TRIAL importing from df - need to sort out series/chunkedarray \n",
    "//-> ?convert Vec<Series> to ChunkedArray\n",
    "let x = ;\n",
    "\n",
    "\n",
    "// Plot using ndarray, which is supported by Plotly.rs (Polars not supported yet)\n",
    "// Convert ndarray (holding counts as y variables) into vector for plotting\n",
    "let y = ndarray.column(1).to_vec();\n",
    "\n",
    "// Use trace as a graph module,\n",
    "// choose which type of plots is needed with x & y variables called\n",
    "// Graph options e.g. Scatter, Line or Bar\n",
    "let trace = Scatter::new(x, y);\n",
    "\n",
    "// Set plot variable as mutable and initiate a plot\n",
    "let mut plot = Plot::new();\n",
    "// Add trace (graph) into the plot variable\n",
    "plot.add_trace(trace);\n",
    "\n",
    "// Specify the specs for plot\n",
    "let layout = Layout::new()\n",
    "    // Choose height of graph\n",
    "    .height(500)\n",
    "    // Name x-axis\n",
    "    .x_axis(Axis::new().title(Title::new(\"Colours\")))\n",
    "    // Name y-axis\n",
    "    .y_axis(Axis::new().title(Title::new(\"Count\")))\n",
    "    // Add title of graph\n",
    "    .title(Title::new(\"Frequency of colours in acetaminophen (paracetamol) oral dosage forms\"));\n",
    "\n",
    "// Set the layout of the plot\n",
    "plot.set_layout(layout);\n",
    "\n",
    "// Display the plot in Jupyter Lab format \n",
    "// note for Jupyter Notebook - plot.notebook_display();\n",
    "plot.lab_display();\n",
    "format!(\"EVCXR_BEGIN_CONTENT application/vnd.plotly.v1+json\\n{}\\nEVCXR_END_CONTENT\", plot.to_json())"
   ]
  },
  {
   "cell_type": "code",
   "execution_count": null,
   "id": "a0229b67-d844-4beb-8138-9c395eb2e91c",
   "metadata": {},
   "outputs": [],
   "source": []
  },
  {
   "cell_type": "code",
   "execution_count": null,
   "id": "3f5063a8-e84a-44a1-b3fd-cba070c1b8e4",
   "metadata": {},
   "outputs": [],
   "source": []
  }
 ],
 "metadata": {
  "kernelspec": {
   "display_name": "Rust",
   "language": "rust",
   "name": "rust"
  },
  "language_info": {
   "codemirror_mode": "rust",
   "file_extension": ".rs",
   "mimetype": "text/rust",
   "name": "Rust",
   "pygment_lexer": "rust",
   "version": ""
  }
 },
 "nbformat": 4,
 "nbformat_minor": 5
}
