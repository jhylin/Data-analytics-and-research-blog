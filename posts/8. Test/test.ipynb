{
  "cells": [
    {
      "cell_type": "raw",
      "metadata": {},
      "source": [
        "---\n",
        "title: Test\n",
        "author: Jennifer HY Lin\n",
        "date: 2022-5-20\n",
        "format:\n",
        "  html:\n",
        "    code-fold: true\n",
        "keep-ipynb: true\n",
        "categories:\n",
        "  - Data analytics projects\n",
        "  - R\n",
        "  - Python\n",
        "  - Long COVID\n",
        "---"
      ],
      "id": "7b8c7ed6"
    },
    {
      "cell_type": "code",
      "metadata": {},
      "source": [
        "pip install polars"
      ],
      "id": "9d38ff37",
      "execution_count": null,
      "outputs": []
    },
    {
      "cell_type": "code",
      "metadata": {},
      "source": [
        "import polars as pl\n",
        "\n",
        "df = pl.read_csv(\"https://j.mp/iriscsv\")\n",
        "print(df.filter(pl.col(\"sepal_length\") > 5)\n",
        "      .groupby(\"species\")\n",
        "      .agg(pl.all().sum())\n",
        ")"
      ],
      "id": "7d9974d1",
      "execution_count": null,
      "outputs": []
    }
  ],
  "metadata": {
    "kernelspec": {
      "name": "python3",
      "language": "python",
      "display_name": "Python 3 (ipykernel)"
    }
  },
  "nbformat": 4,
  "nbformat_minor": 5
}