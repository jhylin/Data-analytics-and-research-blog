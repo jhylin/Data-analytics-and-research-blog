{
  "cells": [
    {
      "cell_type": "raw",
      "metadata": {},
      "source": [
        "---\n",
        "title: Tree models in ChEMBL data\n",
        "subtitle: ML series 2.1 - Decision tree - data pre-processing and preparation\n",
        "draft: true\n",
        "---"
      ],
      "id": "e17f3fdf"
    },
    {
      "cell_type": "markdown",
      "metadata": {},
      "source": [
        "#### **Introduction**\n",
        "\n",
        "I've now come to a stage to do some more in-depth machine learning work after reading some peer-reviewed papers about it in relation to drug discovery and cheminformatics. Previously, I've only lightly touched on a commonly used classifier algorithm, logistic regression, as the first series in the machine learning realm. Reflecting back, I think I could've done a more thorough job during data preparation stage. So this would be attempted this time.\n",
        "\n",
        "From a few of the papers I've read so far, dated in the recent years of 2021 and 2022, it seemed that traditional machine learning (ML) methods were still indispensible performance-wise, and along with deep learning neural networks, they tend to increase prediction accuracy a bit more. I haven't ventured into the practicality and usefulness of large language models in drug discovery yet. From what I could gather from experienced seniors in this area, they were still very much too novel to be useful, and from what I could imagine, molecular representations in texts or strings probably had already created numerous headaches e.g. standardisations regarding to whether to use canonical SMILES and/or SELFIES or not, and probably compound chiralities and so on. Because of this, I'd be sticking with learning to walk first in the conventional ML area before trying to jog and run actually (plans to work on deep learning in the future).\n",
        "\n",
        "The data preparation was carried out with strong reference to the materials and methods section in this paper: van Tilborg, D. *et al*. J. Chem. Inf.Model. 2022, 62, 5938-5951. There were probably other methods out there, but this was the paper I've read recently that had made sense and relatively easy to follow.\n",
        "\n",
        "<br>\n",
        "\n",
        "#### **Data retrieval**\n",
        "\n",
        "This time I've decided to try something new which was to use the ChEMBL webresource client to get data from the scratch (i.e. not from direct file downloads from the ChEMBL website). I found this great online resource about fetching data this way here - reference: TeachOpenCADD talktorial on \\[compound data acquisition(https://projects.volkamerlab.org/teachopencadd/talktorials/T001_query_chembl.html)\\]. The data retrieval workflow used below was mainly adapted from this cited talktorial.\n",
        "\n",
        "The webresource client was supported by ChEMBL group and based on a Django QuerySet interface - their [GitHub repository](https://github.com/chembl/chembl_webresource_client) might explain a bit more about it, particularly the Jupyter notebook provided in the repository would help a lot for how to write code to search for specific data.\n",
        "\n",
        "To do this, a few libraries were needed first.\n"
      ],
      "id": "6f79c3c1"
    },
    {
      "cell_type": "code",
      "metadata": {},
      "source": [
        "# Import libraries\n",
        "# Fetch data through ChEMBL webresource client\n",
        "from chembl_webresource_client.new_client import new_client\n",
        "\n",
        "# RDKit modules\n",
        "#from rdkit.Chem import PandasTools\n",
        "\n",
        "# Dataframe library\n",
        "#import numpy as np\n",
        "import pandas as pd\n",
        "\n",
        "# Progress bar\n",
        "from tqdm import tqdm"
      ],
      "id": "cd7a7874",
      "execution_count": null,
      "outputs": []
    },
    {
      "cell_type": "markdown",
      "metadata": {},
      "source": [
        "To see what types of data were provided by ChEMBL webresource client, run the following code and refer to ChEMBL documentations to find out what data were embedded inside which data categories. Sometimes, it might not be that straight forward and some digging would be required (I went back to this step to find the \"data_validity_comment\" when I got to the compound sanitisation step actually).\n"
      ],
      "id": "5d8bc081"
    },
    {
      "cell_type": "code",
      "metadata": {},
      "source": [
        "available_resources = [resource for resource in dir(new_client) if not resource.startswith('_')]\n",
        "print(available_resources)"
      ],
      "id": "de3a9ec4",
      "execution_count": null,
      "outputs": []
    },
    {
      "cell_type": "markdown",
      "metadata": {},
      "source": [
        "Create resource objects to enable API access as suggested.\n"
      ],
      "id": "bc483446"
    },
    {
      "cell_type": "code",
      "metadata": {},
      "source": [
        "# for targets (proteins)\n",
        "targets_api = new_client.target\n",
        "\n",
        "# for bioactivities\n",
        "bioact_api = new_client.activity\n",
        "\n",
        "# for compounds\n",
        "cpd_api = new_client.molecule"
      ],
      "id": "abf7a381",
      "execution_count": null,
      "outputs": []
    },
    {
      "cell_type": "markdown",
      "metadata": {},
      "source": [
        "Check object type for one of these API objects (e.g. bioactivity API object).\n"
      ],
      "id": "e21fc008"
    },
    {
      "cell_type": "code",
      "metadata": {},
      "source": [
        "type(bioact_api)"
      ],
      "id": "1945d496",
      "execution_count": null,
      "outputs": []
    },
    {
      "cell_type": "markdown",
      "metadata": {},
      "source": [
        "<br>\n",
        "\n",
        "##### **Fetching target data**\n",
        "\n",
        "Select a protein target e.g. acetylcholinesterase (this was randomly chosen).\n"
      ],
      "id": "24092447"
    },
    {
      "cell_type": "code",
      "metadata": {},
      "source": [
        "# Specify Uniprot ID for acetylcholinesterase\n",
        "uniprot_id = \"P22303\"\n",
        "\n",
        "# Get info from ChEMBL about this protein target, \n",
        "# with selected features only\n",
        "targets = targets_api.get(target_components__accession = uniprot_id).only(\n",
        "    \"target_chembl_id\",\n",
        "    \"organism\", \n",
        "    \"pref_name\", \n",
        "    \"target_type\"\n",
        ")"
      ],
      "id": "814bfd1f",
      "execution_count": null,
      "outputs": []
    },
    {
      "cell_type": "markdown",
      "metadata": {},
      "source": [
        "The query results were stored in a \"targets\" object, which was a QuerySet with lazy data evaluation only, meaning it would only react when there was a request for the data.\n"
      ],
      "id": "24484c03"
    },
    {
      "cell_type": "code",
      "metadata": {},
      "source": [
        "# Read \"targets\" with Pandas\n",
        "targets = pd.DataFrame.from_records(targets)\n",
        "targets"
      ],
      "id": "20301295",
      "execution_count": null,
      "outputs": []
    },
    {
      "cell_type": "markdown",
      "metadata": {},
      "source": [
        "Select protein target from this dataframe - choosing the first one.\n"
      ],
      "id": "5cbe3ac1"
    },
    {
      "cell_type": "code",
      "metadata": {},
      "source": [
        "# Save the first protein in the dataframe\n",
        "select_target = targets.iloc[0]\n",
        "select_target"
      ],
      "id": "5361e48e",
      "execution_count": null,
      "outputs": []
    },
    {
      "cell_type": "markdown",
      "metadata": {},
      "source": [
        "Save the selected ChEMBL ID first (to be used later).\n"
      ],
      "id": "6aff1d25"
    },
    {
      "cell_type": "code",
      "metadata": {},
      "source": [
        "chembl_id = select_target.target_chembl_id\n",
        "# Check it's saved\n",
        "print(chembl_id)"
      ],
      "id": "ce3ede4f",
      "execution_count": null,
      "outputs": []
    },
    {
      "cell_type": "markdown",
      "metadata": {},
      "source": [
        "<br>\n",
        "\n",
        "##### **Fetching bioactivity data**\n",
        "\n",
        "Obtaining bioactivity data for the selected target.\n"
      ],
      "id": "f8b5be65"
    },
    {
      "cell_type": "code",
      "metadata": {},
      "source": [
        "bioact = bioact_api.filter(\n",
        "    # Use the previously saved target ChEMBL ID\n",
        "    target_chembl_id = chembl_id, \n",
        "    # Bioactivity type\n",
        "    type = \"IC50\",\n",
        "    # Requesting exact measurements\n",
        "    relation = \"=\",\n",
        "    # Binding data as \"B\"\n",
        "    assay_type = \"B\"\n",
        ").only(\n",
        "    \"activity_id\",\n",
        "    \"data_validity_comment\"\n",
        "    \"assay_chembl_id\",\n",
        "    \"assay_description\",\n",
        "    \"assay_type\",\n",
        "    \"molecule_chembl_id\",\n",
        "    \"type\",\n",
        "    \"standard_units\",\n",
        "    \"relation\",\n",
        "    \"standard_value\",\n",
        "    \"target_chembl_id\",\n",
        "    \"target_organism\",\n",
        ")\n",
        "\n",
        "# Check the length and type of bioactivities object\n",
        "print(len(bioact), type(bioact))"
      ],
      "id": "8c307a55",
      "execution_count": null,
      "outputs": []
    },
    {
      "cell_type": "markdown",
      "metadata": {},
      "source": [
        "To have a quick look at the data being held inside each entry of the bioact dataset, e.g. for first entry.\n"
      ],
      "id": "bda7f481"
    },
    {
      "cell_type": "code",
      "metadata": {},
      "source": [
        "print(len(bioact[0]), type(bioact[0]))\n",
        "bioact[0]"
      ],
      "id": "0beb311e",
      "execution_count": null,
      "outputs": []
    },
    {
      "cell_type": "markdown",
      "metadata": {},
      "source": [
        "The next step might take a few minutes - downloading the QuerySet as a Pandas DataFrame.\n"
      ],
      "id": "823a0a85"
    },
    {
      "cell_type": "code",
      "metadata": {},
      "source": [
        "bioact_df = pd.DataFrame.from_dict(bioact)\n",
        "\n",
        "bioact_df.head()"
      ],
      "id": "9588209d",
      "execution_count": null,
      "outputs": []
    },
    {
      "cell_type": "markdown",
      "metadata": {},
      "source": [
        "Check total rows and columns in the bioactivities dataframe.\n"
      ],
      "id": "f542e9c1"
    },
    {
      "cell_type": "code",
      "metadata": {},
      "source": [
        "bioact_df.shape"
      ],
      "id": "6a1b6392",
      "execution_count": null,
      "outputs": []
    },
    {
      "cell_type": "markdown",
      "metadata": {},
      "source": [
        "<br>\n",
        "\n",
        "###### **Pre-process bioactivity data**\n",
        "\n",
        "To see a variety of units being recorded in the ChEMBL database - would need to be converted to nM.\n"
      ],
      "id": "ed98aadc"
    },
    {
      "cell_type": "code",
      "metadata": {},
      "source": [
        "bioact_df[\"units\"].unique()"
      ],
      "id": "d42fcf5d",
      "execution_count": null,
      "outputs": []
    },
    {
      "cell_type": "markdown",
      "metadata": {},
      "source": [
        "The simplest thing to do was to drop the \"units\" and \"value\" columns, which were in micromolar (*m*M), and to avoid unit conversion to nanomolar (nM), we could use columns such as \"standard_units\" and \"standard_value\" which were recorded with nM already.\n"
      ],
      "id": "9f77db7a"
    },
    {
      "cell_type": "code",
      "metadata": {},
      "source": [
        "bioact_df.drop([\"units\", \"value\"], axis = 1, inplace = True)\n",
        "# Re-check df\n",
        "bioact_df.head()"
      ],
      "id": "dcf0ce38",
      "execution_count": null,
      "outputs": []
    },
    {
      "cell_type": "code",
      "metadata": {},
      "source": [
        "bioact_df.dtypes"
      ],
      "id": "2300c157",
      "execution_count": null,
      "outputs": []
    },
    {
      "cell_type": "code",
      "metadata": {},
      "source": [
        "# Small detour test\n",
        "# Tried with Polars - standard_value casted as \"str\", so would still need to convert to floats\n",
        "# import polars as pl\n",
        "# ba_df = pl.from_pandas(bioact_df)\n",
        "# ba_df.head()"
      ],
      "id": "9f521f86",
      "execution_count": null,
      "outputs": []
    },
    {
      "cell_type": "markdown",
      "metadata": {},
      "source": [
        "Convert the column of \"standard_value\" from object to floats - so we could use this half maximal inhibitory concentration (IC50) values for calculations later.\n"
      ],
      "id": "27652435"
    },
    {
      "cell_type": "code",
      "metadata": {},
      "source": [
        "bioact_df = bioact_df.astype({\"standard_value\": \"float64\"})\n",
        "# Check column data types again\n",
        "bioact_df.dtypes"
      ],
      "id": "b876a3f0",
      "execution_count": null,
      "outputs": []
    },
    {
      "cell_type": "markdown",
      "metadata": {},
      "source": [
        "Taking care of any missing entries by removing them in the first place. I excluded \"data_validity_comment\" column in this exercise as this was required to check if there were any activity data of the compounds that were deemed to be not as valid e.g. excessively high IC50 value and so on. A lot of the compounds in this column probably had \"None\", which ensured that there were no particular alarm bells to the curated bioactivity data.\n"
      ],
      "id": "afd6f1be"
    },
    {
      "cell_type": "code",
      "metadata": {},
      "source": [
        "bioact_df.dropna(subset = [\"activity_id\", \"assay_chembl_id\", \"assay_description\", \"assay_type\", \"molecule_chembl_id\", \"relation\", \"standard_units\", \"standard_value\", \"target_chembl_id\", \"target_organism\", \"type\"], axis = 0, how = \"any\", inplace = True)\n",
        "# Check number of rows and columns again (in this case, there appeared to be no change)\n",
        "bioact_df.shape"
      ],
      "id": "0a906e1d",
      "execution_count": null,
      "outputs": []
    },
    {
      "cell_type": "markdown",
      "metadata": {},
      "source": [
        "Since all unique units inside the \"units\" and \"values\" columns were checked previously, I'd done the same for the \"standard_units\" column to see the ones recorded in it.\n"
      ],
      "id": "f5873ead"
    },
    {
      "cell_type": "code",
      "metadata": {},
      "source": [
        "bioact_df[\"standard_units\"].unique()"
      ],
      "id": "4de20d48",
      "execution_count": null,
      "outputs": []
    },
    {
      "cell_type": "markdown",
      "metadata": {},
      "source": [
        "There were a mixture of nM, mM and also picomolars (pM)!\n"
      ],
      "id": "2fc61e38"
    },
    {
      "cell_type": "code",
      "metadata": {},
      "source": [
        "# Check for number of non-nM units\n",
        "bioact_df[bioact_df[\"standard_units\"] != \"nM\"].shape[0]"
      ],
      "id": "31713bb4",
      "execution_count": null,
      "outputs": []
    },
    {
      "cell_type": "markdown",
      "metadata": {},
      "source": [
        "There appeared to be 30 non-nM values inside the fetched bioactivity data.\n"
      ],
      "id": "14ab91ed"
    },
    {
      "cell_type": "code",
      "metadata": {},
      "source": [
        "bioact_df = bioact_df[bioact_df[\"standard_units\"] == \"nM\"]"
      ],
      "id": "0a60bad3",
      "execution_count": null,
      "outputs": []
    },
    {
      "cell_type": "markdown",
      "metadata": {},
      "source": [
        "Then narrow the results to only \"nM\" and check the dataframe again to see what units were left now.\n"
      ],
      "id": "b0ca1e72"
    },
    {
      "cell_type": "code",
      "metadata": {},
      "source": [
        "# Check there were only nM\n",
        "bioact_df[\"standard_units\"].unique()"
      ],
      "id": "f53398f5",
      "execution_count": null,
      "outputs": []
    },
    {
      "cell_type": "markdown",
      "metadata": {},
      "source": [
        "So the filtering worked and currently the number of rows and columns had been reduced.\n"
      ],
      "id": "2c8425d0"
    },
    {
      "cell_type": "code",
      "metadata": {},
      "source": [
        "# Check df rows & columns\n",
        "bioact_df.shape"
      ],
      "id": "bfac651e",
      "execution_count": null,
      "outputs": []
    },
    {
      "cell_type": "markdown",
      "metadata": {},
      "source": [
        "Next part would be to remove all duplicates in the dataframe, especially when there were duplicate tests for the same compound.\n"
      ],
      "id": "715f3d59"
    },
    {
      "cell_type": "code",
      "metadata": {},
      "source": [
        "bioact_df.drop_duplicates(\"molecule_chembl_id\", keep = \"first\", inplace = True)"
      ],
      "id": "c098eb99",
      "execution_count": null,
      "outputs": []
    },
    {
      "cell_type": "markdown",
      "metadata": {},
      "source": [
        "Renamed the \"standard_value\" and \"standard_units\" columns to be \"IC50\" and \"units\" respectively.\n"
      ],
      "id": "86d9f0a9"
    },
    {
      "cell_type": "code",
      "metadata": {},
      "source": [
        "bioact_df.rename(\n",
        "    columns = {\n",
        "        \"standard_value\": \"IC50\",\n",
        "        \"standard_units\": \"units\"\n",
        "    }, inplace = True\n",
        ")\n",
        "\n",
        "# Check df to ensure name change\n",
        "bioact_df.head()"
      ],
      "id": "f0a35b69",
      "execution_count": null,
      "outputs": []
    },
    {
      "cell_type": "markdown",
      "metadata": {},
      "source": [
        "Lastly, the index of the dataframe was reset.\n"
      ],
      "id": "8bef9205"
    },
    {
      "cell_type": "code",
      "metadata": {},
      "source": [
        "bioact_df.reset_index(drop = True, inplace = True)\n",
        "bioact_df.head()"
      ],
      "id": "2d9a4222",
      "execution_count": null,
      "outputs": []
    },
    {
      "cell_type": "markdown",
      "metadata": {},
      "source": [
        "One final check on the number of columns and rows after pre-processing the bioactivity dataframe.\n"
      ],
      "id": "84c8beb4"
    },
    {
      "cell_type": "code",
      "metadata": {},
      "source": [
        "bioact_df.shape"
      ],
      "id": "b6535e29",
      "execution_count": null,
      "outputs": []
    },
    {
      "cell_type": "markdown",
      "metadata": {},
      "source": [
        "There were a total of 11 columns with 5,041 rows of data left in the bioactivity dataframe.\n",
        "\n",
        "<br>\n",
        "\n",
        "##### **Fetching compound data**\n",
        "\n",
        "While having identified the protein target and obtained the bioactivity data, this step was to link the bioactivity data to the compounds.\n",
        "\n",
        "This could be done by having the ChEMBL IDs available for the compounds involved in the bioactivity dataset.\n"
      ],
      "id": "10b5f1d7"
    },
    {
      "cell_type": "code",
      "metadata": {},
      "source": [
        "cpds = cpd_api.filter(\n",
        "    molecule_chembl_id__in = list(bioact_df[\"molecule_chembl_id\"])\n",
        ").only(\n",
        "    \"molecule_chembl_id\",\n",
        "    \"molecule_structures\"\n",
        ")"
      ],
      "id": "6e01eb5f",
      "execution_count": null,
      "outputs": []
    },
    {
      "cell_type": "markdown",
      "metadata": {},
      "source": [
        "Here, the same step was applied where the compound QuerySet object was converted into a Pandas dataframe. However, the dataset extracted this time could take longer than the time taken to fetch the bioactivity data. This was then monitored using a progress bar (tqdm package).\n"
      ],
      "id": "b92ebf66"
    },
    {
      "cell_type": "code",
      "metadata": {},
      "source": [
        "compds = list(tqdm(cpds))"
      ],
      "id": "e70a8fd3",
      "execution_count": null,
      "outputs": []
    },
    {
      "cell_type": "markdown",
      "metadata": {},
      "source": [
        "Converting retrieved compound QuerySet into a Pandas DataFrame.\n"
      ],
      "id": "15c80ad9"
    },
    {
      "cell_type": "code",
      "metadata": {},
      "source": [
        "cpds_df = pd.DataFrame.from_records(compds)\n",
        "\n",
        "print(cpds_df.shape)\n",
        "cpds_df.head()"
      ],
      "id": "248f335c",
      "execution_count": null,
      "outputs": []
    },
    {
      "cell_type": "markdown",
      "metadata": {},
      "source": [
        "<br>\n",
        "\n",
        "###### **Pre-process compound data**\n",
        "\n",
        "Removing any missing entries in the compound data.\n"
      ],
      "id": "4ce5df71"
    },
    {
      "cell_type": "code",
      "metadata": {},
      "source": [
        "cpds_df.dropna(axis = 0, how = \"any\", inplace = True)\n",
        "\n",
        "# Check columns & rows in df\n",
        "cpds_df.shape"
      ],
      "id": "dad62db9",
      "execution_count": null,
      "outputs": []
    },
    {
      "cell_type": "markdown",
      "metadata": {},
      "source": [
        "Removing any duplicates in the compound data.\n"
      ],
      "id": "35c5d874"
    },
    {
      "cell_type": "code",
      "metadata": {},
      "source": [
        "cpds_df.drop_duplicates(\"molecule_chembl_id\", keep = \"first\", inplace = True)\n",
        "\n",
        "# Check columns & rows again\n",
        "cpds_df.shape"
      ],
      "id": "e4d50407",
      "execution_count": null,
      "outputs": []
    },
    {
      "cell_type": "markdown",
      "metadata": {},
      "source": [
        "Ideally, only the compounds with canonical SMILES would be kept. Checking for the types of molecular representations used in the \"molecule_structures\" column of the compound dataset.\n"
      ],
      "id": "a45fbd4c"
    },
    {
      "cell_type": "code",
      "metadata": {},
      "source": [
        "# Randomly choosing the 2nd entry\n",
        "cpds_df.iloc[1].molecule_structures.keys()"
      ],
      "id": "5e3f4b05",
      "execution_count": null,
      "outputs": []
    },
    {
      "cell_type": "markdown",
      "metadata": {},
      "source": [
        "There were 4 types as: \"canonical_smiles\", \"molfile\", \"standard_inchi\" and \"standard_inchi_key\".\n"
      ],
      "id": "e46f41d9"
    },
    {
      "cell_type": "code",
      "metadata": {},
      "source": [
        "# Create an empty list to store the canonical smiles\n",
        "can_smiles = []\n",
        "\n",
        "# Create a for loop to loop over each row of data, \n",
        "# searching for only canonical_smiles to append to the created list\n",
        "for i, cpd in cpds_df.iterrows():\n",
        "    try:\n",
        "        can_smiles.append(cpd[\"molecule_structures\"][\"canonical_smiles\"])\n",
        "    except KeyError:\n",
        "        can_smiles.append(None)\n",
        "\n",
        "# Create a new df column with name as \"smiles\", \n",
        "# which will store all the canonical smiles collected from the list above\n",
        "cpds_df[\"smiles\"] = can_smiles"
      ],
      "id": "b63a979e",
      "execution_count": null,
      "outputs": []
    },
    {
      "cell_type": "markdown",
      "metadata": {},
      "source": [
        "Check the compound dataframe quickly to see if a new column for SMILES has been created.\n"
      ],
      "id": "221fdbcc"
    },
    {
      "cell_type": "code",
      "metadata": {},
      "source": [
        "cpds_df.head()"
      ],
      "id": "88ab73b5",
      "execution_count": null,
      "outputs": []
    },
    {
      "cell_type": "markdown",
      "metadata": {},
      "source": [
        "Once confirmed, the old \"molecule_structures\" column was then removed.\n"
      ],
      "id": "c5dd6f26"
    },
    {
      "cell_type": "code",
      "metadata": {},
      "source": [
        "cpds_df.drop(\"molecule_structures\", axis = 1, inplace = True)"
      ],
      "id": "b1f5470c",
      "execution_count": null,
      "outputs": []
    },
    {
      "cell_type": "markdown",
      "metadata": {},
      "source": [
        "Finally, adding another step to ensure all missing entries or entries without canonical SMILES strings were removed from the compound dataset.\n"
      ],
      "id": "f9c509ab"
    },
    {
      "cell_type": "code",
      "metadata": {},
      "source": [
        "cpds_df.dropna(axis = 0, how = \"any\", inplace = True)\n",
        "\n",
        "print(cpds_df.shape)"
      ],
      "id": "93fd067f",
      "execution_count": null,
      "outputs": []
    },
    {
      "cell_type": "markdown",
      "metadata": {},
      "source": [
        "Final look at the compound dataset, which should only include compounds ChEMBL IDs and SMILES columns.\n"
      ],
      "id": "779a55a0"
    },
    {
      "cell_type": "code",
      "metadata": {},
      "source": [
        "cpds_df.head()"
      ],
      "id": "bd99d5a3",
      "execution_count": null,
      "outputs": []
    },
    {
      "cell_type": "markdown",
      "metadata": {},
      "source": [
        "<br>\n",
        "\n",
        "##### **Combining bioactivity and compound data**\n",
        "\n",
        "To combine both datasets, the key was to look for common column (similar to a SQL \"join\" query) between the two datasets.\n",
        "\n",
        "Listing all the column names for both datasets would show the common column.\n"
      ],
      "id": "8efb2dcd"
    },
    {
      "cell_type": "code",
      "metadata": {},
      "source": [
        "bioact_df.columns"
      ],
      "id": "9b5768c4",
      "execution_count": null,
      "outputs": []
    },
    {
      "cell_type": "code",
      "metadata": {},
      "source": [
        "cpds_df.columns"
      ],
      "id": "7a8090f9",
      "execution_count": null,
      "outputs": []
    },
    {
      "cell_type": "markdown",
      "metadata": {},
      "source": [
        "Clearly, the one column that existed in both dataframes was the \"molecule_chembl_id\" column.\n",
        "\n",
        "The next step was to combine or merge both datasets.\n"
      ],
      "id": "b3e9b4a5"
    },
    {
      "cell_type": "code",
      "metadata": {},
      "source": [
        "# Create a final dataframe that will contain both bioactivity and compound data\n",
        "dtree_df = pd.merge(\n",
        "    bioact_df[[\"molecule_chembl_id\", \"IC50\", \"units\", \"data_validity_comment\"]],\n",
        "    cpds_df,\n",
        "    on = \"molecule_chembl_id\",\n",
        ")\n",
        "\n",
        "dtree_df.head()"
      ],
      "id": "a56d5b68",
      "execution_count": null,
      "outputs": []
    },
    {
      "cell_type": "markdown",
      "metadata": {},
      "source": [
        "Row indices were reset and shape of the final dataframe was checked.\n"
      ],
      "id": "ff2da855"
    },
    {
      "cell_type": "code",
      "metadata": {},
      "source": [
        "dtree_df.reset_index(drop = True, inplace = True)\n",
        "\n",
        "print(dtree_df.shape)"
      ],
      "id": "386b7f5d",
      "execution_count": null,
      "outputs": []
    },
    {
      "cell_type": "markdown",
      "metadata": {},
      "source": [
        "Saving a copy of the merged dataframe for now (to avoid re-running the previous code repeatedly).\n"
      ],
      "id": "7c58d116"
    },
    {
      "cell_type": "code",
      "metadata": {},
      "source": [
        "dtree_df.to_csv(\"ache_chembl.csv\")"
      ],
      "id": "3531ce89",
      "execution_count": null,
      "outputs": []
    },
    {
      "cell_type": "markdown",
      "metadata": {},
      "source": [
        "<br>\n",
        "\n",
        "##### **Re-import saved dataframe**\n",
        "\n",
        "Re-import partly pre-processed dtree_df.\n"
      ],
      "id": "9ec9c76b"
    },
    {
      "cell_type": "code",
      "metadata": {},
      "source": [
        "dtree_df = pd.read_csv(\"ache_chembl.csv\")\n",
        "dtree_df.head()"
      ],
      "id": "9561b3d4",
      "execution_count": null,
      "outputs": []
    },
    {
      "cell_type": "markdown",
      "metadata": {},
      "source": [
        "Noticed there was an extra index column, likely inherited from how the .csv file was saved, which was subsequently removed.\n"
      ],
      "id": "1f50f8d3"
    },
    {
      "cell_type": "code",
      "metadata": {},
      "source": [
        "dtree_df = dtree_df.drop(\"Unnamed: 0\", axis = 1)\n",
        "dtree_df.head()"
      ],
      "id": "ecf5be2c",
      "execution_count": null,
      "outputs": []
    },
    {
      "cell_type": "markdown",
      "metadata": {},
      "source": [
        "The merged dataframe was found to have IC50 with zero nM, which meant the function to convert IC50 to pIC50 would not proceed (due to natural log of zero normally means undefined answer!). So a good practice to clean data like this was probably best to run a statistical summary such as the code below first, then look for minimum and maximum values and also others to see if there were anything to be tidied up first.\n"
      ],
      "id": "b3ffc3a2"
    },
    {
      "cell_type": "code",
      "metadata": {},
      "source": [
        "dtree_df.describe()"
      ],
      "id": "a1442e1f",
      "execution_count": null,
      "outputs": []
    },
    {
      "cell_type": "markdown",
      "metadata": {},
      "source": [
        "Limiting the IC50 values to be above zero only.\n"
      ],
      "id": "90141fae"
    },
    {
      "cell_type": "code",
      "metadata": {},
      "source": [
        "# Select IC50 values above zero\n",
        "dtree_df = dtree_df[dtree_df[\"IC50\"] > 0.0]"
      ],
      "id": "2e14052a",
      "execution_count": null,
      "outputs": []
    },
    {
      "cell_type": "markdown",
      "metadata": {},
      "source": [
        "Re-checked the minimum value of IC50 column, which should be above zero.\n"
      ],
      "id": "d65cbe61"
    },
    {
      "cell_type": "code",
      "metadata": {},
      "source": [
        "dtree_df[\"IC50\"].min()"
      ],
      "id": "382d1345",
      "execution_count": null,
      "outputs": []
    },
    {
      "cell_type": "markdown",
      "metadata": {},
      "source": [
        "Now we could convert the IC50 values to pIC50 values (the negative log of IC50 in molar units).\n",
        "\n",
        "The key to understand pIC50 here was to treat pIC50 similarly to how we understand pH for our acids and bases. pIC50 was a dimensionless value (so no units actually!) - *useful link*. The formula to convert IC50 to pIC50 for nM units was (**use LaTex for formula**):\n",
        "\n",
        "pIC50 = 9 - log10(IC50)\n",
        "\n",
        "Import the math library first and set up a small function to do the conversion.\n"
      ],
      "id": "a6eff9ca"
    },
    {
      "cell_type": "code",
      "metadata": {},
      "source": [
        "import math\n",
        "\n",
        "def calc_pIC50(IC50):\n",
        "    pIC50_value = 9 - math.log10(IC50)\n",
        "    return pIC50_value"
      ],
      "id": "0192c05c",
      "execution_count": null,
      "outputs": []
    },
    {
      "cell_type": "markdown",
      "metadata": {},
      "source": [
        "Applying the calc_pIC50 function to convert all rows of the compound dataset for the IC50 column.\n"
      ],
      "id": "38730fdd"
    },
    {
      "cell_type": "code",
      "metadata": {},
      "source": [
        "# Create a new column for pIC50\n",
        "# Apply calc_pIC50 function to the data in IC50 column\n",
        "dtree_df[\"pIC50\"] = dtree_df.apply(lambda x: calc_pIC50(x.IC50), axis = 1)"
      ],
      "id": "1c1712e5",
      "execution_count": null,
      "outputs": []
    },
    {
      "cell_type": "markdown",
      "metadata": {},
      "source": [
        "The dataframe would now look like this, with a new pIC50 column ready for use.\n"
      ],
      "id": "e4c90bc2"
    },
    {
      "cell_type": "code",
      "metadata": {},
      "source": [
        "dtree_df.head()"
      ],
      "id": "f8b0e348",
      "execution_count": null,
      "outputs": []
    },
    {
      "cell_type": "markdown",
      "metadata": {},
      "source": [
        "However, for a decision tree model, a few more molecular descriptors were probably needed rather than only IC50 or pIC50 and SMILES... One way to do this could be through computations based on canonical SMILES of compounds by using RDKit to add some molecular descriptors.\n",
        "\n",
        "Before doing this, a compound sanitisation step would probably be the best before starting any calculations, as this might rule out some compounds with questionable chemical validities. This could also be done via RDKit or I guess Datamol (a Python wrapper library built based on RDKit) might also help as well.\n"
      ],
      "id": "0239b2b5"
    },
    {
      "cell_type": "code",
      "metadata": {},
      "source": [
        "#df['column'].astype('string') \n",
        "dtree_df = dtree_df.astype({\"smiles\": \"string\", \"data_validity_comment\": \"string\"})\n",
        "dtree_df.dtypes"
      ],
      "id": "30a78116",
      "execution_count": null,
      "outputs": []
    },
    {
      "cell_type": "markdown",
      "metadata": {},
      "source": [
        "Before I jumped straight to compound sanitisation, I thought I should check out if there were any variations in the \"data_validity_comment\" column.\n"
      ],
      "id": "c55de8e1"
    },
    {
      "cell_type": "code",
      "metadata": {},
      "source": [
        "dtree_df[\"data_validity_comment\"].unique()"
      ],
      "id": "7e550ef2",
      "execution_count": null,
      "outputs": []
    },
    {
      "cell_type": "markdown",
      "metadata": {},
      "source": [
        "Interestingly, there were 3 different types of data validity comments found, which were \"NaN\", \"Outside typical range\" and \"Potential transcirption error\". So, this meant we would need to address compounds with comments in the latter two.\n"
      ],
      "id": "09d46eb9"
    },
    {
      "cell_type": "code",
      "metadata": {},
      "source": [
        "# Find out number of compounds with \"outside typical range\" as data validity comment\n",
        "dtree_df[dtree_df[\"data_validity_comment\"] == \"Outside typical range\"]"
      ],
      "id": "2b6c0b44",
      "execution_count": null,
      "outputs": []
    },
    {
      "cell_type": "markdown",
      "metadata": {},
      "source": [
        "There were a total of 328 compounds with IC50 outside typical range!\n"
      ],
      "id": "55043934"
    },
    {
      "cell_type": "code",
      "metadata": {},
      "source": [
        "# Find out number of compounds with \"potential transcription error\" as data validity comment\n",
        "dtree_df[dtree_df[\"data_validity_comment\"] == \"Potential transcription error\"]"
      ],
      "id": "a4875455",
      "execution_count": null,
      "outputs": []
    },
    {
      "cell_type": "markdown",
      "metadata": {},
      "source": [
        "There were 8 compounds with potential transcription errors for their respective IC50 values!\n",
        "\n",
        "This meant it would be best to remove above compounds with questionable IC50 values (could be potential sources of errors for ML models later on). One of the ways I thought of doing was to fill the empty cells under \"data_validity_comment\" column, so this would be easier to filter.\n"
      ],
      "id": "fd703d88"
    },
    {
      "cell_type": "code",
      "metadata": {},
      "source": [
        "# Fill \"NaN\" entries with an actual name e.g. zero\n",
        "dtree_df = dtree_df.fillna(\"zero\")\n",
        "dtree_df.head(10)"
      ],
      "id": "4e9191d4",
      "execution_count": null,
      "outputs": []
    },
    {
      "cell_type": "markdown",
      "metadata": {},
      "source": [
        "Filtered out only the compounds with nil data validity comments.\n"
      ],
      "id": "76ba9b8a"
    },
    {
      "cell_type": "code",
      "metadata": {},
      "source": [
        "#dtree_df[\"data_validity_comment\"].unique()\n",
        "dtree_df = dtree_df[dtree_df[\"data_validity_comment\"] == \"zero\"]"
      ],
      "id": "8994bf85",
      "execution_count": null,
      "outputs": []
    },
    {
      "cell_type": "markdown",
      "metadata": {},
      "source": [
        "Checking the dtree_df dataframe again and also whether if only the compounds with \"zero\" labelled for \"data_validity_comment\" column were kept (and other two types were removed).\n"
      ],
      "id": "10f7d06a"
    },
    {
      "cell_type": "code",
      "metadata": {},
      "source": [
        "print(dtree_df.shape)\n",
        "dtree_df[\"data_validity_comment\"].unique()"
      ],
      "id": "9bb20f2d",
      "execution_count": null,
      "outputs": []
    },
    {
      "cell_type": "markdown",
      "metadata": {},
      "source": [
        "<br>\n",
        "\n",
        "#### **Compound sanitisation**\n",
        "\n",
        "I've found the [pre-processing molecules tutorial](https://docs.datamol.io/stable/tutorials/Preprocessing.html) and its reference links provided provided by Datamol at the bottom of the webpage to be very informative. Each steps of fix_mol(), sanitize_mol() and standardize_mol() were explained to a certain degree in the link provided above. I guess the key was to select preprocessing options required to fit the purpose of the ML model being built later on, and experiences would also help to improve the compound preprocessing step.\n"
      ],
      "id": "ed864519"
    },
    {
      "cell_type": "code",
      "metadata": {},
      "source": [
        "import datamol as dm\n",
        "\n",
        "# _preprocess function to sanitise compounds - adapted from datamol.io\n",
        "\n",
        "smiles_column = \"smiles\"\n",
        "\n",
        "dm.disable_rdkit_log()\n",
        "\n",
        "def _preprocess(row):\n",
        "    # Convert each compound to a RDKit molecule in the smiles column\n",
        "    mol = dm.to_mol(row[smiles_column], ordered=True)\n",
        "    # Fix common errors in the molecules\n",
        "    mol = dm.fix_mol(mol)\n",
        "    # Sanitise the molecules \n",
        "    mol = dm.sanitize_mol(mol, sanifix=True, charge_neutral=False)\n",
        "    # Standardise the molecules\n",
        "    mol = dm.standardize_mol(\n",
        "        mol,\n",
        "        disconnect_metals=False,\n",
        "        normalize=True,\n",
        "        reionize=True,\n",
        "        # Decided to switch on \"uncharge\" to neutralise charges - the only change\n",
        "        uncharge=True,\n",
        "        stereo=True,\n",
        "    )\n",
        "\n",
        "    # Added a new column below for RDKit molecules\n",
        "    row[\"rdkit_mol\"] = dm.to_mol(mol)\n",
        "    row[\"standard_smiles\"] = dm.standardize_smiles(dm.to_smiles(mol))\n",
        "    row[\"selfies\"] = dm.to_selfies(mol)\n",
        "    row[\"inchi\"] = dm.to_inchi(mol)\n",
        "    row[\"inchikey\"] = dm.to_inchikey(mol)\n",
        "    return row"
      ],
      "id": "dd300385",
      "execution_count": null,
      "outputs": []
    },
    {
      "cell_type": "markdown",
      "metadata": {},
      "source": [
        "Then the compound sanitisation function was applied to the dtree_df.\n"
      ],
      "id": "13ca29a8"
    },
    {
      "cell_type": "code",
      "metadata": {},
      "source": [
        "dtree_san_df = dtree_df.apply(_preprocess, axis = 1)\n",
        "dtree_san_df.head()"
      ],
      "id": "d4392dab",
      "execution_count": null,
      "outputs": []
    },
    {
      "cell_type": "markdown",
      "metadata": {},
      "source": [
        "Please note if the dataset required for sanitisation is large, Datamol has suggested using their example code to add parallelisation as shown below.\n",
        "\n",
        "``` {{python}}\n",
        "# Code adapted from: https://docs.datamol.io/stable/tutorials/Preprocessing.html#references\n",
        "data_clean = dm.parallelized(\n",
        "    _preprocess, \n",
        "    data.iterrows(), \n",
        "    arg_type=\"args\", \n",
        "    progress=True, \n",
        "    total=len(data)\n",
        "    )\n",
        "data_clean = pd.DataFrame(data_clean)\n",
        "```\n"
      ],
      "id": "168bb595"
    },
    {
      "cell_type": "code",
      "metadata": {},
      "source": [
        "dtree_san_df.shape"
      ],
      "id": "45d43bd9",
      "execution_count": null,
      "outputs": []
    },
    {
      "cell_type": "markdown",
      "metadata": {},
      "source": [
        "In this case, I tried using the preprocessing function without adding the parallelisation, the whole sanitisation process wasn't overly long, and was done within a minute or so (the dtree_df dataframe had 4,703 rows or compounds only).\n",
        "\n",
        "<br>\n",
        "\n",
        "#### **Detect outliers**\n",
        "\n",
        "Plotting a histogram to see the distribution of pIC50 values first.\n"
      ],
      "id": "da2a7dcd"
    },
    {
      "cell_type": "code",
      "metadata": {},
      "source": [
        "dtree_san_df.hist(column = \"pIC50\")"
      ],
      "id": "6b59cf9c",
      "execution_count": null,
      "outputs": []
    },
    {
      "cell_type": "markdown",
      "metadata": {},
      "source": [
        "I read a bit about Dixon's Q test and realised that there were a few required assumptions prior to using this test, and the current dataset being used here (dtree_san_df) might not fit the requirements, which were:\n",
        "\n",
        "-   normally distributed data\n",
        "-   a small sample size i.e. e.g. between 3 and 10 (as originally stated in the paper published by R. B. Dean and W. J. Dixon (1951) Simplified Statistics for Small Numbers of Observations\". Anal. Chem., 1951, 23 (4), 636--638).\n",
        "\n",
        "So I've decided that rather than showing Python code for Dixon's Q test myself, I'd attach a few examples from others instead, [Q test from Plotly](https://plotly.com/python/v3/outlier-test/) and also [Dixon's Q test for outlier identification -- a questionable practice](https://sebastianraschka.com/Articles/2014_dixon_test.html), since this dataset here wasn't quite normally distributed as shown from the histogram plotted above.\n"
      ],
      "id": "3e535188"
    },
    {
      "cell_type": "code",
      "metadata": {},
      "source": [
        "dtree_san_df.boxplot(column = \"pIC50\")\n",
        "\n",
        "# the boxplot version below shows a blank background\n",
        "# rather than above version with horizontal grid lines\n",
        "#dtree_san_df.plot.box(column = \"pIC50\")"
      ],
      "id": "82fbf988",
      "execution_count": null,
      "outputs": []
    },
    {
      "cell_type": "markdown",
      "metadata": {},
      "source": [
        "So I used Pandas' built-in boxplot in addition to the histogram to show the likely outliers within the pIC50 values. Clearly, the possible outliers for pIC50 values appeared to be close to 10 and above. I've then decided not to completely remove these outliers due to the dataset itself not in a Gaussian distribution (as they might not be true outliers).\n",
        "\n",
        "<br>\n",
        "\n",
        "#### **Molecular descriptors**"
      ],
      "id": "e368e50d"
    }
  ],
  "metadata": {
    "kernelspec": {
      "name": "python3",
      "language": "python",
      "display_name": "Python 3 (ipykernel)"
    }
  },
  "nbformat": 4,
  "nbformat_minor": 5
}