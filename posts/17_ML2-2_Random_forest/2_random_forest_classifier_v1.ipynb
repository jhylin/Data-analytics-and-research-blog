{
  "cells": [
    {
      "cell_type": "raw",
      "metadata": {},
      "source": [
        "---\n",
        "title: Random forest classifier\n",
        "subtitle: Series 2.2.1 - more on imbalanced dataset\n",
        "author: Jennifer HY Lin\n",
        "date: 2024-1-17\n",
        "draft: false\n",
        "categories:\n",
        "  - Machine learning projects\n",
        "  - Tree models\n",
        "  - Pandas\n",
        "  - Scikit-learn\n",
        "  - RDKit\n",
        "  - ChEMBL database\n",
        "  - Python\n",
        "format: html\n",
        "bibliography: references.bib\n",
        "---"
      ],
      "id": "a87b7ddc"
    },
    {
      "cell_type": "markdown",
      "metadata": {},
      "source": [
        "*The section on \"Data retrieval using chembl_downloader\" has been updated on 26th Jan 2024 - many thanks for the comment from cthoyt*.\n",
        "\n",
        "##### **Brief introduction**\n",
        "\n",
        "This post was really just an addition towards the last random forest (RF) post. It was mainly inspired by this paper [@esposito2021] from [rinikerlab](https://github.com/rinikerlab)[^1]. It was nice to complete the RF series by adding a RF classifier since last post was only on a regressor. Another thing was that imbalanced datasets were common in drug discovery projects, learning different strategies to deal with them was also very useful. While working on this post, I also came across a few other packages that I haven't used before so I've included them all down below.\n",
        "\n",
        "[^1]: h/t: Greg Landrum for his comment on Mastodon for the last RF post (which led to this follow-up post)\n",
        "\n",
        "<br>\n",
        "\n",
        "##### **Overview of post**\n",
        "\n",
        "-   Data sourcing via *chembl_downloader*\n",
        "-   Minor data preprocessing using own little script and also SMILES checker from *scikit_mol*\n",
        "- *scikit-learn*'s RandomForestClassifier()\n",
        "-   Dealing with imbalanced dataset in RF classifiers by using *ghostml*\n",
        "-   A small section on plotting receiver operating characteristic (ROC) curves\n",
        "\n",
        "<br>\n",
        "\n",
        "##### **Importing libraries**\n"
      ],
      "id": "1df3165a"
    },
    {
      "cell_type": "code",
      "metadata": {},
      "source": [
        "import pandas as pd\n",
        "import numpy as np\n",
        "import matplotlib.pyplot as plt\n",
        "import chembl_downloader\n",
        "from chembl_downloader import latest, queries, query\n",
        "from rdkit.Chem import Descriptors\n",
        "import datamol as dm\n",
        "from sklearn.ensemble import RandomForestClassifier\n",
        "from sklearn import metrics\n",
        "from sklearn.model_selection import train_test_split\n",
        "from sklearn.metrics import ConfusionMatrixDisplay\n",
        "from sklearn.metrics import RocCurveDisplay, roc_curve\n",
        "from scikit_mol.utilities import CheckSmilesSanitazion\n",
        "import ghostml"
      ],
      "id": "66d87b50",
      "execution_count": null,
      "outputs": []
    },
    {
      "cell_type": "markdown",
      "metadata": {},
      "source": [
        "<br>\n",
        "\n",
        "##### **Data retrieval using chembl_downloader**\n",
        "\n",
        "chembl_downloader was something I wanted to try a while back. I've tried manual download and chembl_webresource_client previously, and they were probably not the best strategies for data reproducibility. The idea of chembl_downloader was to generate a reproducible ChEMBL data source. It involved some SQL at the beginning to specify the exact type of data needed, so some SQL knowledge were required. Other uses for this package were elaborated much more clearly in its GitHub repository at [https://github.com/cthoyt/chembl-downloader](https://github.com/cthoyt/chembl-downloader). One of the reference notebooks that I've used could be reached [here](https://github.com/cthoyt/chembl-downloader/blob/main/notebooks/drug-indications.ipynb) (more available in its repository).\n",
        "\n",
        "What I did was shown below.\n"
      ],
      "id": "4b06de7e"
    },
    {
      "cell_type": "code",
      "metadata": {},
      "source": [
        "# Show the latest version of ChEMBL used\n",
        "latest_version = latest()\n",
        "print(f\"The latest ChEMBL version is: {latest_version}\")"
      ],
      "id": "7145e2b3",
      "execution_count": null,
      "outputs": []
    },
    {
      "cell_type": "code",
      "metadata": {},
      "source": [
        "# Query chembl_downloader to show SQL required \n",
        "# to extract ChEMBL data for a specific protein target\n",
        "# e.g. target_chembl_id for acetylcholinesterase (AChE): CHEMBL220\n",
        "queries.markdown(queries.get_target_sql(target_id=\"CHEMBL220\", target_type=\"SINGLE PROTEIN\"))"
      ],
      "id": "381cf074",
      "execution_count": null,
      "outputs": []
    },
    {
      "cell_type": "markdown",
      "metadata": {},
      "source": [
        "The code below took several minutes to run.\n"
      ],
      "id": "c6811917"
    },
    {
      "cell_type": "code",
      "metadata": {},
      "source": [
        "# Following data were 4.41GB in total from the SQL query\n",
        "# Added an extra line - MOLECULE_DICTIONARY.max_phase \n",
        "# into sql to show max phases of compounds targeting AChE\n",
        "\n",
        "sql = \"\"\"\n",
        "SELECT\n",
        "    ASSAYS.chembl_id              AS assay_chembl_id,\n",
        "    TARGET_DICTIONARY.target_type,\n",
        "    TARGET_DICTIONARY.tax_id,\n",
        "    TARGET_DICTIONARY.chembl_id,\n",
        "    COMPOUND_STRUCTURES.canonical_smiles,\n",
        "    MOLECULE_DICTIONARY.chembl_id AS molecule_chembl_id,\n",
        "    MOLECULE_DICTIONARY.max_phase,\n",
        "    ACTIVITIES.standard_type,\n",
        "    ACTIVITIES.pchembl_value\n",
        "FROM TARGET_DICTIONARY\n",
        "     JOIN ASSAYS ON TARGET_DICTIONARY.tid == ASSAYS.tid\n",
        "     JOIN ACTIVITIES ON ASSAYS.assay_id == ACTIVITIES.assay_id\n",
        "     JOIN MOLECULE_DICTIONARY ON MOLECULE_DICTIONARY.molregno == ACTIVITIES.molregno\n",
        "     JOIN COMPOUND_STRUCTURES ON MOLECULE_DICTIONARY.molregno == COMPOUND_STRUCTURES.molregno\n",
        "WHERE TARGET_DICTIONARY.chembl_id = 'CHEMBL220'\n",
        "    AND ACTIVITIES.pchembl_value IS NOT NULL\n",
        "    AND TARGET_DICTIONARY.target_type = 'SINGLE PROTEIN'\n",
        "\"\"\"\n",
        "\n",
        "#df = chembl_downloader.query(sql)"
      ],
      "id": "73bdcd87",
      "execution_count": null,
      "outputs": []
    },
    {
      "cell_type": "markdown",
      "metadata": {},
      "source": [
        "I've updated how I retrieved and saved the ChEMBL data - code as suggested by cthoyt. This would be a better and more reproducible way for anyone who might be interested in re-running this notebook.\n"
      ],
      "id": "8cb4073f"
    },
    {
      "cell_type": "code",
      "metadata": {},
      "source": [
        "# Suggestions\n",
        "from pathlib import Path\n",
        "\n",
        "# Pick any directory, but make sure it's relative to your home directory\n",
        "directory = Path.home().joinpath(\".data\", \"blog\")\n",
        "# Create the directory if it doesn't exist\n",
        "directory.mkdir(exist_ok=True, parents=True)\n",
        "\n",
        "# Create a file path that corresponds to the version, since this could change\n",
        "path = directory.joinpath(f\"chembl_d_ache_{latest_version}.tsv\")\n",
        "\n",
        "if path.is_file():\n",
        "    # If the file already exists, load it\n",
        "    df_ache = pd.read_csv(path, sep=',')\n",
        "else:\n",
        "    # If the file doesn't already exist, make the query then cache it\n",
        "    df_ache = chembl_downloader.query(sql)\n",
        "    df_ache.to_csv(path, sep=\",\", index=False)"
      ],
      "id": "ce18a20b",
      "execution_count": null,
      "outputs": []
    },
    {
      "cell_type": "markdown",
      "metadata": {},
      "source": [
        "<br>\n",
        "\n",
        "##### **Some data cleaning**\n",
        "\n",
        "Minor cleaning and preprocessing were done for this post only, as the focus was more on dealing with imbalanced dataset in RF classifier. Since I used a different way to retrieve ChEMBL data this time, the dataset used here might be slightly different from the one used in previous post.\n",
        "\n",
        "<br>\n",
        "\n",
        "###### **mol_prep.py**\n",
        "\n",
        "I've more or less accumulated small pieces of code over time, and I've decided to compile them into a Python script. The idea was to remove most function code in the post to avoid repeating them all the time since they've been used frequently in the last few posts. The script would be saved into the [RF repository](https://github.com/jhylin/ML2-2_random_forest), and would still be considered as a \"work-in-progress\" script (needs more work in the future).\n"
      ],
      "id": "36b2f8ac"
    },
    {
      "cell_type": "code",
      "metadata": {},
      "source": [
        "## Trial own mol_prep.py script\n",
        "from mol_prep import preprocess, rdkit_2d_descriptors"
      ],
      "id": "f14dcd10",
      "execution_count": null,
      "outputs": []
    },
    {
      "cell_type": "code",
      "metadata": {},
      "source": [
        "## Preprocess/standardise molecules\n",
        "# Running preprocess function \n",
        "df_ache = df_ache.copy()\n",
        "df_prep = df_ache.apply(preprocess, axis = 1)\n",
        "df_prep.head(3)"
      ],
      "id": "d367a4c7",
      "execution_count": null,
      "outputs": []
    },
    {
      "cell_type": "markdown",
      "metadata": {},
      "source": [
        "<br>\n",
        "\n",
        "###### **scikit_mol**\n",
        "\n",
        "scikit_mol was a package originated from RDKit UGM hackathon in 2022. This [blog post](https://www.cheminformania.com/scikit-mol-easy-embedding-of-rdkit-into-scikit-learn/) elaborated further on its functions and uses in machine learning. For this post I've only used it for a very small portion, mainly to check for missing SMILES or errors in SMILES (kind of like double checking whether the preprocess function code worked as expected). It could be integrated with *scikit-learn*'s pipeline method for multiple estimators. Its GitHub Repository link: [https://github.com/EBjerrum/scikit-mol](https://github.com/EBjerrum/scikit-mol) - I've referred to this [reference notebook](https://github.com/EBjerrum/scikit-mol/blob/main/notebooks/05_smiles_sanitaztion.ipynb) while working on this post.\n"
      ],
      "id": "6efeb1d8"
    },
    {
      "cell_type": "code",
      "metadata": {},
      "source": [
        "# Quick simple way to check for missing SMILES\n",
        "print(f'Dataset contains {df_prep.standard_smiles.isna().sum()} unparsable mols')"
      ],
      "id": "69f333b5",
      "execution_count": null,
      "outputs": []
    },
    {
      "cell_type": "code",
      "metadata": {},
      "source": [
        "# Checking for invalid SMILES using scikit_mol\n",
        "smileschecker = CheckSmilesSanitazion()\n",
        "smileschecker.sanitize(list(df_prep.standard_smiles))\n",
        "\n",
        "# Showing SMILES errors\n",
        "smileschecker.errors"
      ],
      "id": "9e5bfeb3",
      "execution_count": null,
      "outputs": []
    },
    {
      "cell_type": "markdown",
      "metadata": {},
      "source": [
        "It showed no errors in SMILES (errors should be listed in the code cell output).\n"
      ],
      "id": "f77bd2dc"
    },
    {
      "cell_type": "code",
      "metadata": {},
      "source": [
        "## Generate RDKit 2D descriptors/fingerprints\n",
        "# Running rdkit_2d_descriptors function\n",
        "df_2d = rdkit_2d_descriptors(df_prep)\n",
        "df_2d.head(3)"
      ],
      "id": "ea5b54fb",
      "execution_count": null,
      "outputs": []
    },
    {
      "cell_type": "code",
      "metadata": {},
      "source": [
        "# Merge dataframes df_prep & df_2d via index\n",
        "df_merge = pd.merge(\n",
        "    df_prep[[\"max_phase\", \"molecule_chembl_id\"]],\n",
        "    df_2d,\n",
        "    left_index=True,\n",
        "    right_index=True\n",
        ")\n",
        "print(df_merge.shape)\n",
        "df_merge.head(3)"
      ],
      "id": "b46e3aea",
      "execution_count": null,
      "outputs": []
    },
    {
      "cell_type": "markdown",
      "metadata": {},
      "source": [
        "A different spreads of max phases were shown this time in the dataframe, as the SQL query mainly used IC50, whereas last post was strictly limited to Ki via ChEMBL web resource client. Other likely reason was that in the decision tree series, I've attempted data preprocessing at a larger scale so some data were eliminated. It appeared that there were more max phase 4 compounds here than last time (note: null compounds were not shown in the value counts as it was labelled as \"NaN\", it should be the largest max phase portion in the data).\n"
      ],
      "id": "1bc9220b"
    },
    {
      "cell_type": "code",
      "metadata": {},
      "source": [
        "# Find out counts of each max phase\n",
        "df_merge.value_counts(\"max_phase\")"
      ],
      "id": "a5209072",
      "execution_count": null,
      "outputs": []
    },
    {
      "cell_type": "markdown",
      "metadata": {},
      "source": [
        "I then tried searching for the chembl_id of the 10 max phase 4 compounds used in the last post in the dataframe (df_merge).\n"
      ],
      "id": "a15d9e0b"
    },
    {
      "cell_type": "code",
      "metadata": {},
      "source": [
        "# Previously used 10 max phase 4 compounds\n",
        "# donepezil = CHEMBL502 & galantamine = CHEMBL659\n",
        "list_mp4 = [\"CHEMBL95\", \"CHEMBL1128\", \"CHEMBL640\", \"CHEMBL502\", \"CHEMBL481\", \"CHEMBL360055\", \"CHEMBL1025\", \"CHEMBL659\", \"CHEMBL1200970\", \"CHEMBL1677\"]\n",
        "\n",
        "# Search for compounds in list_mp4 within df_merge's \"molecule_chembl_id\" column\n",
        "# using Series.isin\n",
        "df_prev = df_merge.loc[df_merge[\"molecule_chembl_id\"].isin(list_mp4)]\n",
        "df_prev.head()"
      ],
      "id": "f2c2ad37",
      "execution_count": null,
      "outputs": []
    },
    {
      "cell_type": "markdown",
      "metadata": {},
      "source": [
        "There were many duplicates of compounds.\n"
      ],
      "id": "774ba7b4"
    },
    {
      "cell_type": "code",
      "metadata": {},
      "source": [
        "print(df_prev.shape)\n",
        "df_prev.value_counts(\"molecule_chembl_id\")"
      ],
      "id": "c5f5e211",
      "execution_count": null,
      "outputs": []
    },
    {
      "cell_type": "code",
      "metadata": {},
      "source": [
        "# Dropping duplicated compound via chembl IDs in the main df\n",
        "df_merge_new = df_merge.drop_duplicates(subset=[\"molecule_chembl_id\"], keep=\"first\")\n",
        "print(df_merge_new.shape)\n",
        "df_merge_new.head()"
      ],
      "id": "76d9007b",
      "execution_count": null,
      "outputs": []
    },
    {
      "cell_type": "code",
      "metadata": {},
      "source": [
        "# Making sure previously used 10 max phase 4 compounds could be found in df_merge_new\n",
        "df_mp4 = df_merge_new.loc[df_merge_new[\"molecule_chembl_id\"].isin(list_mp4)]\n",
        "df_mp4"
      ],
      "id": "e8f72fe7",
      "execution_count": null,
      "outputs": []
    },
    {
      "cell_type": "code",
      "metadata": {},
      "source": [
        "# note: compounds with max phase 0 not shown in the count\n",
        "df_merge_new.value_counts(\"max_phase\")"
      ],
      "id": "a7178d4a",
      "execution_count": null,
      "outputs": []
    },
    {
      "cell_type": "markdown",
      "metadata": {},
      "source": [
        "<br>\n",
        "\n",
        "##### **Model building**\n",
        "\n",
        "The aim of this post was to model and classify the max phases of ChEMBL small molecules, i.e. whether the compounds in the testing set (consisted of max phase 0 or null compounds) might be eventually classified as max phase 4 or not. This was one of the approaches to answer the question in mind, and not the ultimate way to solve the problem (just thought to mention). The target was \"max_phase\" and features to be used were the various RDKit 2D descriptors (RDKit2D).\n",
        "\n",
        "The steps I've taken to build the model were shown below:\n",
        "\n",
        "1.  Re-labelled max phases as binary labels (e.g. max phase null as 0, max phase 4 as 1)\n"
      ],
      "id": "430c536f"
    },
    {
      "cell_type": "code",
      "metadata": {},
      "source": [
        "# Re-label max phase NaN as 0\n",
        "df_merge_new = df_merge_new.fillna(0)\n",
        "df_merge_new.head()"
      ],
      "id": "146a7268",
      "execution_count": null,
      "outputs": []
    },
    {
      "cell_type": "markdown",
      "metadata": {},
      "source": [
        "2.  Splitted data into max phase null & max phase 4 (needing to re-label max phase 4 column only as 1, and not disrupting the labels of max phase 0 compounds)\n"
      ],
      "id": "a150678f"
    },
    {
      "cell_type": "code",
      "metadata": {},
      "source": [
        "# Select all max phase null compounds\n",
        "df_null = df_merge_new[df_merge_new[\"max_phase\"] == 0]\n",
        "print(df_null.shape)\n",
        "df_null.head()"
      ],
      "id": "5673491a",
      "execution_count": null,
      "outputs": []
    },
    {
      "cell_type": "code",
      "metadata": {},
      "source": [
        "# Using pd.DataFrame.assign to add a new column to re-label max_phase 4 as \"1\"\n",
        "df_mp4_lb = df_mp4.assign(max_phase_lb = df_mp4[\"max_phase\"] / 4)\n",
        "\n",
        "# Using pd.DataFrame.pop() & insert() to shift added column to first column position\n",
        "first_col = df_mp4_lb.pop(\"max_phase_lb\")\n",
        "df_mp4_lb.insert(0, \"max_phase_lb\", first_col)\n",
        "df_mp4_lb.head()"
      ],
      "id": "34be3cbf",
      "execution_count": null,
      "outputs": []
    },
    {
      "cell_type": "code",
      "metadata": {},
      "source": [
        "# Also create a new column max_phase_lb column for df_null \n",
        "# in order to merge 2 dfs later\n",
        "df_null_lb = df_null.assign(max_phase_lb = df_null[\"max_phase\"])\n",
        "first_col_null = df_null_lb.pop(\"max_phase_lb\")\n",
        "df_null_lb.insert(0, \"max_phase_lb\", first_col_null)\n",
        "df_null_lb.head()"
      ],
      "id": "6c031351",
      "execution_count": null,
      "outputs": []
    },
    {
      "cell_type": "code",
      "metadata": {},
      "source": [
        "# Concatenate df_mp4_lb & df_null_lb\n",
        "df_full = pd.concat([df_null_lb, df_mp4_lb])\n",
        "df_full"
      ],
      "id": "cea425c1",
      "execution_count": null,
      "outputs": []
    },
    {
      "cell_type": "markdown",
      "metadata": {},
      "source": [
        "3.  Defined X and y variables and trained RF classifier model\n",
        "\n",
        "Eventually df_full contained 10 active compounds and 5256 inactive compounds (from the value counts).\n"
      ],
      "id": "7fc0f2da"
    },
    {
      "cell_type": "code",
      "metadata": {},
      "source": [
        "df_full.value_counts(\"max_phase_lb\")"
      ],
      "id": "798f4966",
      "execution_count": null,
      "outputs": []
    },
    {
      "cell_type": "code",
      "metadata": {},
      "source": [
        "# Defining X (features) & y (target)\n",
        "X = df_full.iloc[:, 3:]\n",
        "y = df_full.iloc[:, 0]"
      ],
      "id": "6b8e2f2d",
      "execution_count": null,
      "outputs": []
    },
    {
      "cell_type": "code",
      "metadata": {},
      "source": [
        "# Checking right data were selected e.g. y as target\n",
        "y"
      ],
      "id": "ca8cbbc0",
      "execution_count": null,
      "outputs": []
    },
    {
      "cell_type": "code",
      "metadata": {},
      "source": [
        "# Convert both X & y to arrays\n",
        "X = X.to_numpy()\n",
        "y = y.to_numpy()"
      ],
      "id": "af366fa4",
      "execution_count": null,
      "outputs": []
    },
    {
      "cell_type": "code",
      "metadata": {},
      "source": [
        "# Using train_test_split() this time to split data\n",
        "X_train, X_test, y_train, y_test = train_test_split(X, y, test_size=0.2, stratify=y, random_state=1)"
      ],
      "id": "7ab5f755",
      "execution_count": null,
      "outputs": []
    },
    {
      "cell_type": "markdown",
      "metadata": {},
      "source": [
        "After data splitting, a RF classifier was trained with reference to this [notebook](https://github.com/rinikerlab/GHOST/blob/main/notebooks/example_GHOST.ipynb).\n"
      ],
      "id": "b050529f"
    },
    {
      "cell_type": "code",
      "metadata": {},
      "source": [
        "# max_features = \"sqrt\" by default\n",
        "rfc = RandomForestClassifier(max_depth=3, random_state=1, max_features=\"sqrt\", oob_score=True)\n",
        "rfc.fit(X_train, y_train)"
      ],
      "id": "40aa1826",
      "execution_count": null,
      "outputs": []
    },
    {
      "cell_type": "markdown",
      "metadata": {},
      "source": [
        "4.  Extracted positive prediction probabilities for the testing set and showed confusion matrix with classification metrics\n"
      ],
      "id": "ba1784fe"
    },
    {
      "cell_type": "code",
      "metadata": {},
      "source": [
        "test_probs = rfc.predict_proba(X_test)[:, 1]"
      ],
      "id": "b43e8d8a",
      "execution_count": null,
      "outputs": []
    },
    {
      "cell_type": "markdown",
      "metadata": {},
      "source": [
        "Some reference links and explanations for area under the ROC curve and Cohen's Kappa.\n",
        "\n",
        "**Area under the ROC curve**: [reference](https://scikit-learn.org/stable/modules/model_evaluation.html#receiver-operating-characteristic-roc) - the area under a curve plot between *sensitivity* or *recall* (percent of all 1s classified correctly by a classifier or true positive rate) and *specificity* (percent of all 0s classified correctly by a classifier, or equivalent to 1 - false positive rate or true negative rate) [@bruce2020]. It is useful for evaluating the performance of a classification model via comparing the true positive rate and false positive rate which are influenced by shifting the decision threshold. Area under the ROC is usually represented as a number ranging from 0 to 1 (1 being a perfect classifier, 0.5 or below meaning a poor, ineffective classifier)\n",
        "\n",
        "**Cohen's Kappa score**: [reference](https://scikit-learn.org/stable/modules/model_evaluation.html#cohen-s-kappa) - a score that is used to measure the agreement of labelling between two annotators (usually between -1 and 1, the higher the score the better the agreement)\n",
        "\n",
        "Rather than re-inventing the wheel, the following function code for calculating metrics of the RF model were adapted from [this notebook](https://github.com/rinikerlab/GHOST/blob/main/notebooks/example_GHOST.ipynb), from [GHOST repository](https://github.com/rinikerlab/GHOST). I have only added some comments for clarities, and also added a zero_division parameter for the classification_report to mute the warning message when the results ended up being 0 due to divisions by zero.\n"
      ],
      "id": "60018d9b"
    },
    {
      "cell_type": "code",
      "metadata": {},
      "source": [
        "def calc_metrics(y_test, test_probs, threshold = 0.5):\n",
        "    # Target label assigned according to stated decision threshold (default = 0.5)\n",
        "    # e.g. second annotator (expected label)\n",
        "    scores = [1 if x>=threshold else 0 for x in test_probs]\n",
        "    # Calculate area under the ROC curve based on prediction score\n",
        "    auc = metrics.roc_auc_score(y_test, test_probs)\n",
        "    # Calculate Cohen's Kappa score\n",
        "    # e.g. y_test as first annotator (predicted label)\n",
        "    kappa = metrics.cohen_kappa_score(y_test, scores)\n",
        "    # Formulate the confusion matrix\n",
        "    confusion = metrics.confusion_matrix(y_test, scores, labels = list(set(y_test)))\n",
        "    print('thresh: %.2f, kappa: %.3f, AUC test-set: %.3f'%(threshold, kappa, auc))\n",
        "    print(confusion)\n",
        "    print(metrics.classification_report(y_test, scores, zero_division=0.0))\n",
        "    return "
      ],
      "id": "efd125da",
      "execution_count": null,
      "outputs": []
    },
    {
      "cell_type": "markdown",
      "metadata": {},
      "source": [
        "Note: roc_auc_score measures true positive and false positive rates, requiring binary labels (e.g. 0s and 1s) in the data\n",
        "\n",
        "Then showed confusion matrix along with area under the ROC curve and Cohen's Kappa.\n"
      ],
      "id": "d09e3397"
    },
    {
      "cell_type": "code",
      "metadata": {},
      "source": [
        "calc_metrics(y_test, test_probs, threshold = 0.5)"
      ],
      "id": "00ed03cf",
      "execution_count": null,
      "outputs": []
    },
    {
      "cell_type": "markdown",
      "metadata": {},
      "source": [
        "To help with interpreting the confusion matrix, *scikit-learn* actually had a handy plotting code to visualise the matrix. \n"
      ],
      "id": "ba3a6726"
    },
    {
      "cell_type": "code",
      "metadata": {},
      "source": [
        "ConfusionMatrixDisplay.from_estimator(rfc, X_test, y_test)\n",
        "plt.show()"
      ],
      "id": "f89b77c5",
      "execution_count": null,
      "outputs": []
    },
    {
      "cell_type": "markdown",
      "metadata": {},
      "source": [
        "It was very obvious that not all of the compounds were classified in the testing set. There were only 1052 compounds classified as true negative, and none in the testing set were labelled as true positive. The likely reason was due to the very imbalanced ratio of actives (only 10 max phase 4 which were labelled as \"1\" compounds) and inactives (5256 max phase 0 compounds). Besides the imbalanced dataset, the decision threshold was also normally set at 0.5, meaning the classifier was likely going to lose the chance to classify the true positive compounds due to the very skewed ratio of actives to inactives.\n",
        "\n",
        "5.  Two approaches were used in the GHOST (generalized threshold shifting) paper:\n",
        "\n",
        "    -   Approach 1 (out-of-bag method, more computer efficient, aimed for RF classifiers) based on [RDKit blog post](http://rdkit.blogspot.com/2018/11/working-with-unbalanced-data-part-i.html) or its [viewable notebook version](https://nbviewer.org/github/greglandrum/rdkit_blog/blob/master/notebooks/Working%20with%20unbalanced%20data%20part%201.ipynb) via nbviewer\n",
        "\n",
        "    -   Approach 2 led to [GHOST](https://github.com/rinikerlab/GHOST) procedure with a goal to optimise and shift the decision threshold in any classification methods to catch the minor portion of actives (rather than the major portion of inactives) \n",
        "\n",
        "    - note: both approaches were shown to be performing similarly in the paper\n",
        "\n",
        "I only used approach 2 here since the RDKit blog post had already explained approach 1 in depth. \n",
        "\n",
        "The next step involved extracting prediction probabilities from the RF classifier trained model.\n"
      ],
      "id": "0f6423ab"
    },
    {
      "cell_type": "code",
      "metadata": {},
      "source": [
        "# Get the positive prediction probabilities of the training set\n",
        "train_probs = rfc.predict_proba(X_train)[:, 1]"
      ],
      "id": "a1dd9964",
      "execution_count": null,
      "outputs": []
    },
    {
      "cell_type": "markdown",
      "metadata": {},
      "source": [
        "6.  Used GHOST strategy in a postprocessing way (note: last post used data re-sampling method in a preprocessing way)\n",
        "\n",
        "The decision threshold were optimised by using *ghostml* code via testing various different thresholds, e.g. in spaces of 0.05 that ranged from 0.05 to 0.5. The most optimal threshold would have the most maximised Cohen's kappa.\n"
      ],
      "id": "e1d693b9"
    },
    {
      "cell_type": "code",
      "metadata": {},
      "source": [
        "# Setting up different decision thresholds\n",
        "thresholds = np.round(np.arange(0.05,0.55,0.05), 2)\n",
        "thresholds"
      ],
      "id": "e4a66e59",
      "execution_count": null,
      "outputs": []
    },
    {
      "cell_type": "code",
      "metadata": {},
      "source": [
        "# Looking for the best threshold with the most optimal Cohen's Kappa\n",
        "new_threshold = ghostml.optimize_threshold_from_predictions(y_train, train_probs, thresholds, ThOpt_metrics = 'ROC') "
      ],
      "id": "576e3874",
      "execution_count": null,
      "outputs": []
    },
    {
      "cell_type": "markdown",
      "metadata": {},
      "source": [
        "Using the calc_metrics function again on the newly-found or shifted decision threshold.\n"
      ],
      "id": "a2670f99"
    },
    {
      "cell_type": "code",
      "metadata": {},
      "source": [
        "calc_metrics(y_train, train_probs, threshold = new_threshold)"
      ],
      "id": "e0a6d6d8",
      "execution_count": null,
      "outputs": []
    },
    {
      "cell_type": "markdown",
      "metadata": {},
      "source": [
        "Here, after shifting the decision threshold with the most optimal Cohen's Kappa score, we could see an improved number of compounds labelled within the true negative class (increasing from 1052 to 4204), and more importantly, we could see the true positive class improved from 0 to 7 as well.\n",
        "\n",
        "<br>\n",
        "\n",
        "##### **Plotting ROC curves**\n",
        "\n",
        "Time for some plots - I've shown two different ways to plot ROC curves below.\n",
        "\n",
        "1.  Using *scikit-learn*\n",
        "\n",
        "Testing set ROC curve - obviously, this was not a good classifier with a poor AUC.\n"
      ],
      "id": "91b2fe68"
    },
    {
      "cell_type": "code",
      "metadata": {},
      "source": [
        "RocCurveDisplay.from_predictions(y_test, test_probs, plot_chance_level = True)"
      ],
      "id": "cb1509bb",
      "execution_count": null,
      "outputs": []
    },
    {
      "cell_type": "markdown",
      "metadata": {},
      "source": [
        "<br>\n",
        "\n",
        "Training set ROC curve - this probably looked too good to be true or a textbook-standard ROC curve with AUC at 1.0.\n"
      ],
      "id": "92b2bb80"
    },
    {
      "cell_type": "code",
      "metadata": {},
      "source": [
        "RocCurveDisplay.from_predictions(y_train, train_probs, plot_chance_level = True)"
      ],
      "id": "30cc286f",
      "execution_count": null,
      "outputs": []
    },
    {
      "cell_type": "markdown",
      "metadata": {},
      "source": [
        "2.  Alternative method using matplotlib which reproduced a similar training set ROC plot:\n"
      ],
      "id": "d72c2391"
    },
    {
      "cell_type": "code",
      "metadata": {},
      "source": [
        "# Looking for true positive rate (tpr), false positive rate (fpr) & threshold\n",
        "fpr, tpr, thresh = metrics.roc_curve(y_train, train_probs)\n",
        "# Plotting\n",
        "plt.figure()\n",
        "# lw = linewidth\n",
        "plt.plot(fpr, tpr, lw = 2)\n",
        "# show random guessing line (threshold = 0.5)\n",
        "plt.plot([0, 1], [0, 1], color = \"g\", lw = 2, linestyle=\"--\")\n",
        "plt.ylim([-0.05, 1.05])\n",
        "plt.xlim([-0.05, 1.0])\n",
        "plt.xlabel(\"specificity\")\n",
        "plt.ylabel(\"recall\")\n",
        "plt.show()"
      ],
      "id": "c2f109f6",
      "execution_count": null,
      "outputs": []
    },
    {
      "cell_type": "markdown",
      "metadata": {},
      "source": [
        "<br>\n",
        "\n",
        "##### **Downsides and thoughts**\n",
        "\n",
        "I wanted to mention that the testing set used here was most likely not the best ones to be used. There could be many overlaps or similarities between the training and testing sets, since they all came from ChEMBL database. For demonstration and learning purposes, I ended up using similar dataset as last time. Hopefully, I can try other open-source or public drug discovery datasets in the near future. \n",
        "\n",
        "The other thing to mention was that I should try different molecular fingerprints or descriptors as well, rather than only using RDKit2D, which might lead to different results. I should also probably slowly move onto using multiple datasets or targets in a project, which would likely make things more interesting. On the other hand, I also wanted to avoid this in order to make the topic of interest as clear and simple as possible for me or anyone who's trying to learn. \n",
        "\n",
        "<br>\n",
        "\n",
        "##### **Acknowledgements**\n",
        "\n",
        "I'd like to thank Riniker lab again for the GHOST paper, along with all the authors, contributors or developers for all of the software packages mentioned in this post, and also, huge thanks should also go to the authors of the reference notebooks mentioned in the post as well."
      ],
      "id": "71ce0329"
    }
  ],
  "metadata": {
    "kernelspec": {
      "name": "python3",
      "language": "python",
      "display_name": "Python 3 (ipykernel)"
    }
  },
  "nbformat": 4,
  "nbformat_minor": 5
}